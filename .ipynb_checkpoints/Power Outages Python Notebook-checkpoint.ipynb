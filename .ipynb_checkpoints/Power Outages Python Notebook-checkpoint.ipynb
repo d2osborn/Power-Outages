{
 "cells": [
  {
   "cell_type": "markdown",
   "metadata": {},
   "source": [
    "# Power Outages Energy Consumption Statistical Analysis\n",
    "\n",
    "**Name(s)**: Diego Osborn\n",
    "\n",
    "**Website Link**: https://d2osborn.github.io/Power-Outages/"
   ]
  },
  {
   "cell_type": "code",
   "execution_count": 1,
   "metadata": {
    "ExecuteTime": {
     "end_time": "2019-10-31T23:36:28.652554Z",
     "start_time": "2019-10-31T23:36:27.180520Z"
    }
   },
   "outputs": [],
   "source": [
    "import pandas as pd\n",
    "import numpy as np\n",
    "from pathlib import Path\n",
    "import os\n",
    "from sklearn.linear_model import LinearRegression\n",
    "model = LinearRegression()\n",
    "import plotly.io as pio\n",
    "from itertools import combinations\n",
    "from sklearn.model_selection import train_test_split\n",
    "from sklearn.preprocessing import OneHotEncoder, StandardScaler\n",
    "from sklearn.metrics import mean_absolute_error, mean_squared_error, r2_score\n",
    "from sklearn.compose import ColumnTransformer\n",
    "from sklearn.pipeline import Pipeline\n",
    "from sklearn.model_selection import train_test_split, cross_val_score, GridSearchCV\n",
    "from sklearn.ensemble import RandomForestRegressor\n",
    "from sklearn.impute import SimpleImputer\n",
    "import datetime\n",
    "import seaborn as sns\n",
    "\n",
    "pio.renderers.default = 'notebook'\n",
    "\n",
    "import plotly.express as px\n",
    "pd.options.plotting.backend = 'plotly'\n",
    "\n",
    "from dsc80_utils import *"
   ]
  },
  {
   "cell_type": "code",
   "execution_count": 24,
   "metadata": {},
   "outputs": [],
   "source": [
    "# fig.write_html('/Users/buttz/Desktop/dsc80-2024-sp/Power-Outages/assets/distrib-of-total-sales.html', include_plotlyjs='cdn')\n"
   ]
  },
  {
   "cell_type": "markdown",
   "metadata": {},
   "source": [
    "## Step 1: Introduction"
   ]
  },
  {
   "cell_type": "markdown",
   "metadata": {},
   "source": [
    "Power outage energy consumption statistical analysis is an extensive data science project. It involves several stages of statistical analysis, from data cleaning and exploratory data analysis to assessing missingness, hypothesis testing, framing a prediction problem (its baseline and final model), and a fairness analysis. This project aims to deduce the most influential characteristics of a major power outage, and how it can help energy companies lead to more efficient allocation of resources, reduced economic losses, and increased safety for individuals and infrastructure."
   ]
  },
  {
   "cell_type": "markdown",
   "metadata": {},
   "source": [
    "## Step 2: Data Cleaning and Exploratory Data Analysis"
   ]
  },
  {
   "cell_type": "markdown",
   "metadata": {},
   "source": [
    "Data Cleaning"
   ]
  },
  {
   "cell_type": "markdown",
   "metadata": {},
   "source": [
    "Clean the data appropriately. For instance, you may need to replace data that should be missing with NaN or create new columns out of given ones (e.g. compute distances, scale data, or get time information from time stamps).\t"
   ]
  },
  {
   "cell_type": "code",
   "execution_count": 108,
   "metadata": {
    "scrolled": false
   },
   "outputs": [],
   "source": [
    "outage = pd.read_excel('outage.xlsx')\n",
    "outage = outage.iloc[4:, 1:]\n",
    "outage = outage.reset_index(drop=True)\n",
    "outage.columns = outage.iloc[0]\n",
    "outage = outage.iloc[2:, :]\n",
    "outage = outage.reset_index(drop=True)\n",
    "\n",
    "def change_to_time(date, time):\n",
    "    combined = pd.to_datetime(date[date.notna()].astype(str) + ' ' + time[time.notna()].astype(str), errors='coerce')\n",
    "    return combined\n",
    "\n",
    "outage['OUTAGE.START'] = change_to_time(outage['OUTAGE.START.DATE'], outage['OUTAGE.START.TIME'])\n",
    "outage['OUTAGE.RESTORATION'] = change_to_time(outage['OUTAGE.RESTORATION.DATE'], outage['OUTAGE.RESTORATION.TIME'])\n",
    "\n",
    "outage = outage.drop(columns=['OUTAGE.START.DATE','OUTAGE.START.TIME','OUTAGE.RESTORATION.DATE','OUTAGE.RESTORATION.TIME'])\n",
    "\n",
    "datetime_cols = ['OUTAGE.START', 'OUTAGE.RESTORATION']\n",
    "\n",
    "str_cols = ['U.S._STATE', 'POSTAL.CODE', 'NERC.REGION', \n",
    "            'CLIMATE.REGION', 'CLIMATE.CATEGORY', 'CAUSE.CATEGORY', \n",
    "            'CAUSE.CATEGORY.DETAIL', 'HURRICANE.NAMES']\n",
    "outage[str_cols] = outage[str_cols].astype('string')\n",
    "\n",
    "int_cols = ['OBS', 'YEAR', 'OUTAGE.DURATION', \n",
    "            'DEMAND.LOSS.MW', 'CUSTOMERS.AFFECTED', 'RES.SALES', \n",
    "            'COM.SALES', 'IND.SALES', 'TOTAL.SALES', \n",
    "            'RES.CUSTOMERS', 'COM.CUSTOMERS', 'IND.CUSTOMERS', \n",
    "            'TOTAL.CUSTOMERS', 'PC.REALGSP.STATE', 'PC.REALGSP.USA', \n",
    "            'UTIL.REALGSP', 'TOTAL.REALGSP', 'POPULATION']\n",
    "outage[int_cols] = outage[int_cols].astype('Int64')\n",
    "\n",
    "float_cols = [col for col in outage.columns if col not in str_cols and col not in int_cols and col not in datetime_cols]\n",
    "outage[float_cols] = outage[float_cols].astype('Float64')\n",
    "\n",
    "outage[['OUTAGE.DURATION', 'DEMAND.LOSS.MW', 'CUSTOMERS.AFFECTED']] = outage[['OUTAGE.DURATION', 'DEMAND.LOSS.MW', 'CUSTOMERS.AFFECTED']].replace(0, np.nan)\n",
    "\n",
    "outage = outage.applymap(lambda x: np.nan if pd.isnull(x) else x)\n",
    "\n",
    "sunrise = datetime.time(6, 0, 0)\n",
    "sunset = datetime.time(20, 0, 0)\n",
    "outage['IS_DARK'] = np.where(outage['OUTAGE.START'].isnull(), np.nan, (outage['OUTAGE.START'].dt.time >= sunset) | (outage['OUTAGE.START'].dt.time <= sunrise))\n"
   ]
  },
  {
   "cell_type": "markdown",
   "metadata": {},
   "source": [
    "Univariate Analysis"
   ]
  },
  {
   "cell_type": "markdown",
   "metadata": {},
   "source": [
    "Look at the distributions of relevant columns separately by using DataFrame operations and drawing at least two relevant plots.\t"
   ]
  },
  {
   "cell_type": "code",
   "execution_count": 109,
   "metadata": {
    "scrolled": true
   },
   "outputs": [],
   "source": [
    "# Distribution of Outages during Day and Night Times\n",
    "dark_distribution = outage['IS_DARK'].value_counts().reset_index()\n",
    "dark_distribution.columns = ['IS_DARK', 'COUNT']\n",
    "fig = px.bar(dark_distribution, x='IS_DARK', y='COUNT', color='IS_DARK', labels={'IS_DARK': 'Night Time', 'COUNT': 'Count'})\n",
    "# fig.update_layout(title='Distribution of Outages during Day and Night Times', xaxis=dict(tickmode='array', tickvals=[False, True], ticktext=['Day', 'Night']))\n",
    "# fig.show()\n",
    "\n",
    "# Distribution of Total Sales\n",
    "fig = px.histogram(outage, x='TOTAL.SALES', title='Distribution of Total Sales')\n",
    "# fig.show()\n",
    "\n",
    "# Count of Outage Events per Month\n",
    "outage_count_by_month = outage.groupby('MONTH')['OUTAGE.DURATION'].count()\n",
    "fig = px.bar(x=outage_count_by_month.index, y=outage_count_by_month.values,\n",
    "             labels={'x': 'Month', 'y': 'Count of Outages'},\n",
    "             title='Count of Outage Events per Month')\n",
    "# fig.update_xaxes(type='category')\n",
    "# fig.show()\n",
    "\n",
    "# Median Outage Duration per State\n",
    "outage_fig = outage.groupby('POSTAL.CODE')['OUTAGE.DURATION'].median()\n",
    "outage_fig = pd.DataFrame(outage_fig).reset_index()\n",
    "fig = px.choropleth(\n",
    "    outage_fig, \n",
    "    locations=\"POSTAL.CODE\",\n",
    "    locationmode=\"USA-states\", \n",
    "    color=\"OUTAGE.DURATION\", \n",
    "    scope=\"usa\",\n",
    "    color_continuous_scale='reds',\n",
    "    labels={'TOTAL.SALES': 'Median Outage Duration per State'}\n",
    ")\n",
    "# fig.show()"
   ]
  },
  {
   "cell_type": "markdown",
   "metadata": {},
   "source": [
    "Bivariate Analysis"
   ]
  },
  {
   "cell_type": "markdown",
   "metadata": {},
   "source": [
    "Look at the statistics of pairs of columns to identify possible associations. For instance, you may create scatter plots and plot conditional distributions, or box-plots. You must plot at least two such plots in your notebook. The results of your bivariate analyses will be helpful in identifying interesting hypothesis tests!\t"
   ]
  },
  {
   "cell_type": "code",
   "execution_count": 110,
   "metadata": {
    "scrolled": true
   },
   "outputs": [
    {
     "data": {
      "text/html": [
       "<div>                            <div id=\"b9b713ad-63af-4851-a03a-bf3fab6406df\" class=\"plotly-graph-div\" style=\"height:400px; width:600px;\"></div>            <script type=\"text/javascript\">                require([\"plotly\"], function(Plotly) {                    window.PLOTLYENV=window.PLOTLYENV || {};                                    if (document.getElementById(\"b9b713ad-63af-4851-a03a-bf3fab6406df\")) {                    Plotly.newPlot(                        \"b9b713ad-63af-4851-a03a-bf3fab6406df\",                        [{\"hovertemplate\":\"Outage Duration (minutes)=%{x}\\u003cbr\\u003eLog(Customers Affected)=%{y}\\u003cextra\\u003e\\u003c\\u002fextra\\u003e\",\"legendgroup\":\"\",\"marker\":{\"color\":\"#1F77B4\",\"opacity\":0.6,\"symbol\":\"circle\"},\"mode\":\"markers\",\"name\":\"\",\"orientation\":\"v\",\"showlegend\":false,\"x\":[2941.0,3300.0,null,299.0,2089.0,130.0,3000.0,null,1.0,2615.0,2761.0,30.0,50.0,900.0,76.0,690.0,4200.0,1.0,60.0,12240.0,563.0,74.0,5760.0,4140.0,2790.0,7540.0,2700.0,1.0,64.0,15180.0,3000.0,5610.0,245.0,11337.0,180.0,4830.0,717.0,4320.0,2190.0,73.0,20160.0,314.0,3300.0,90.0,540.0,220.0,270.0,2050.0,1865.0,439.0,null,1.0,189.0,120.0,292.0,3300.0,null,510.0,1560.0,1.0,7440.0,1.0,47.0,4113.0,null,240.0,2895.0,33.0,448.0,126.0,5115.0,null,1230.0,2820.0,2880.0,360.0,9450.0,2670.0,95.0,4200.0,null,457.0,1301.0,195.0,39.0,17339.0,4560.0,2220.0,4920.0,479.0,26.0,null,66.0,6690.0,120.0,365.0,108.0,182.0,6713.0,49320.0,null,47.0,1200.0,3264.0,2.0,1200.0,21.0,15.0,3000.0,7530.0,213.0,null,15.0,270.0,2275.0,2340.0,45.0,234.0,5820.0,2016.0,129.0,1695.0,9855.0,83.0,60.0,870.0,null,2985.0,1265.0,480.0,11531.0,3000.0,4380.0,373.0,4313.0,3621.0,6240.0,1.0,54.0,1440.0,3255.0,900.0,240.0,1077.0,75.0,15.0,2507.0,2.0,1.0,122.0,5790.0,3090.0,null,null,1.0,114.0,1219.0,2880.0,210.0,2878.0,221.0,1.0,7609.0,3180.0,136.0,4320.0,12180.0,1637.0,543.0,1528.0,1673.0,13.0,2806.0,155.0,1185.0,null,17.0,751.0,null,200.0,null,1919.0,103.0,179.0,7809.0,420.0,414.0,1.0,34390.0,1260.0,224.0,1200.0,3339.0,5.0,3300.0,2700.0,7800.0,766.0,1843.0,1.0,2684.0,3480.0,null,1.0,8077.0,30.0,4019.0,2085.0,10619.0,507.0,null,5.0,1380.0,440.0,1130.0,1906.0,11640.0,214.0,1318.0,1054.0,5595.0,2420.0,117.0,1.0,8189.0,3600.0,17.0,5700.0,3.0,240.0,4200.0,4045.0,1.0,1.0,20.0,124.0,1.0,2880.0,null,74.0,131.0,435.0,115.0,3051.0,989.0,1008.0,20.0,14040.0,3100.0,950.0,6000.0,12.0,1697.0,195.0,72.0,318.0,2759.0,2730.0,1.0,360.0,1.0,3494.0,2895.0,316.0,132.0,310.0,1840.0,null,4140.0,5790.0,10726.0,30.0,10499.0,167.0,44.0,7560.0,227.0,1534.0,900.0,1.0,21.0,300.0,4285.0,420.0,2520.0,550.0,8640.0,960.0,141.0,42.0,232.0,1.0,15.0,681.0,1.0,241.0,113.0,3314.0,4032.0,1025.0,1.0,1254.0,6090.0,227.0,4177.0,9486.0,11280.0,1.0,1110.0,null,270.0,2160.0,null,null,5400.0,14190.0,3360.0,245.0,1620.0,2325.0,null,159.0,89.0,418.0,871.0,1826.0,2612.0,200.0,2040.0,223.0,185.0,4080.0,155.0,92.0,3.0,6660.0,2070.0,165.0,105.0,3630.0,1240.0,13430.0,9150.0,15.0,838.0,2652.0,1.0,null,37.0,985.0,4740.0,797.0,4510.0,6940.0,2.0,5160.0,1755.0,424.0,8221.0,null,6938.0,1276.0,250.0,null,810.0,1452.0,null,65.0,13.0,60.0,634.0,1456.0,7523.0,10080.0,7430.0,7.0,1579.0,168.0,1.0,960.0,6276.0,224.0,697.0,210.0,15492.0,3186.0,1757.0,330.0,2730.0,1200.0,3938.0,2161.0,65.0,5850.0,720.0,null,6600.0,null,1.0,868.0,1642.0,10080.0,420.0,150.0,null,90.0,null,4338.0,569.0,2655.0,230.0,2040.0,1440.0,null,2319.0,230.0,59.0,10.0,1207.0,455.0,5.0,1322.0,24780.0,4485.0,5320.0,1.0,189.0,2142.0,35.0,331.0,null,157.0,4260.0,181.0,1005.0,60.0,805.0,44.0,50.0,18717.0,1.0,4259.0,187.0,865.0,10380.0,90.0,1.0,202.0,3189.0,23773.0,1042.0,null,13650.0,251.0,8100.0,52.0,2775.0,572.0,20280.0,121.0,45.0,355.0,2880.0,6787.0,7709.0,840.0,759.0,1046.0,4320.0,3000.0,1020.0,1455.0,110.0,215.0,3569.0,660.0,352.0,1697.0,1440.0,180.0,78.0,391.0,989.0,130.0,1920.0,1.0,61.0,4800.0,3600.0,258.0,4260.0,990.0,2.0,230.0,233.0,1835.0,4560.0,5700.0,659.0,624.0,816.0,32.0,5034.0,30.0,null,2055.0,1.0,90.0,1.0,5820.0,4470.0,570.0,1230.0,null,1710.0,null,18660.0,25.0,1530.0,1890.0,960.0,null,98.0,450.0,347.0,null,215.0,1440.0,77.0,1.0,null,1.0,180.0,1732.0,32.0,528.0,1.0,8922.0,6070.0,1019.0,1470.0,1770.0,465.0,1282.0,645.0,55.0,2054.0,314.0,1.0,75.0,617.0,null,60.0,620.0,13381.0,1440.0,2670.0,840.0,5880.0,1.0,null,1.0,3599.0,1680.0,2700.0,2880.0,1450.0,49427.0,855.0,1680.0,14101.0,10530.0,225.0,8979.0,15180.0,8880.0,105.0,300.0,4080.0,1037.0,93.0,935.0,9576.0,7650.0,1367.0,1.0,null,1080.0,57.0,13.0,52.0,7740.0,480.0,431.0,3060.0,4320.0,123.0,1950.0,1320.0,5054.0,null,25920.0,1565.0,7700.0,1.0,85.0,656.0,660.0,396.0,430.0,1.0,120.0,300.0,1320.0,4.0,1500.0,92.0,1995.0,13215.0,355.0,180.0,2120.0,104.0,1.0,60480.0,5115.0,2100.0,2790.0,6914.0,15.0,4170.0,294.0,196.0,null,7298.0,5.0,null,962.0,1.0,451.0,4338.0,570.0,370.0,206.0,2855.0,150.0,2865.0,14639.0,144.0,762.0,1.0,2775.0,null,1895.0,106.0,1.0,null,197.0,270.0,1955.0,110.0,11.0,4590.0,null,7.0,76.0,2009.0,557.0,871.0,null,5760.0,206.0,15420.0,180.0,null,2460.0,720.0,23700.0,2021.0,1078.0,3366.0,4458.0,1560.0,2694.0,334.0,220.0,199.0,70.0,420.0,8268.0,2100.0,160.0,4320.0,1.0,7803.0,885.0,5355.0,2891.0,90.0,168.0,null,448.0,1980.0,1200.0,114.0,2970.0,4254.0,1800.0,4890.0,5855.0,164.0,6480.0,155.0,467.0,3960.0,30.0,177.0,null,2425.0,557.0,null,5670.0,135.0,2880.0,60.0,5.0,1830.0,110.0,1.0,4080.0,4605.0,480.0,1860.0,1.0,1.0,2370.0,1.0,285.0,467.0,1414.0,1830.0,300.0,360.0,null,554.0,2299.0,2790.0,33.0,1.0,120.0,1.0,null,1226.0,881.0,269.0,4710.0,410.0,1920.0,95.0,50.0,84.0,6420.0,null,56.0,2460.0,2551.0,984.0,1196.0,1381.0,2040.0,87.0,133.0,2159.0,null,11700.0,2691.0,390.0,null,1.0,1.0,1588.0,720.0,8054.0,300.0,null,3314.0,65.0,155.0,13201.0,5.0,1460.0,255.0,null,1999.0,2880.0,285.0,null,3300.0,5865.0,3690.0,1087.0,295.0,7319.0,204.0,6840.0,149.0,2775.0,60.0,1.0,1.0,125.0,480.0,23040.0,null,1574.0,600.0,8.0,2700.0,274.0,4139.0,930.0,56.0,2880.0,59.0,3637.0,1060.0,2939.0,171.0,1205.0,1740.0,1950.0,null,13679.0,502.0,164.0,340.0,70.0,167.0,161.0,7080.0,21.0,108653.0,523.0,2760.0,245.0,11880.0,2.0,3305.0,9480.0,5840.0,1.0,6030.0,6300.0,null,2880.0,660.0,1440.0,null,28.0,1187.0,1513.0,25.0,2363.0,1355.0,2520.0,20160.0,null,7080.0,1680.0,60.0,null,12060.0,null,159.0,1548.0,2880.0,191.0,360.0,2129.0,null,3300.0,1110.0,488.0,405.0,1676.0,21.0,1.0,1867.0,255.0,720.0,255.0,3020.0,4517.0,829.0,210.0,5490.0,394.0,56.0,2880.0,200.0,13488.0,null,1355.0,1.0,3388.0,120.0,1714.0,385.0,2415.0,304.0,353.0,420.0,1.0,8670.0,null,280.0,null,175.0,749.0,54.0,2680.0,10140.0,400.0,2700.0,1201.0,1733.0,27698.0,13140.0,487.0,60.0,19.0,null,8430.0,90.0,663.0,1.0,60.0,420.0,73.0,494.0,65.0,152.0,705.0,437.0,816.0,540.0,3408.0,1.0,8880.0,39.0,360.0,213.0,1440.0,4410.0,null,null,null,null,null,null,300.0,369.0,null,46080.0,2535.0,1.0,11850.0,12124.0,31.0,1423.0,144.0,null,1526.0,7440.0,39.0,247.0,47.0,50.0,1335.0,60.0,900.0,110.0,3584.0,437.0,1000.0,2610.0,1183.0,null,4125.0,761.0,385.0,5340.0,148.0,333.0,15.0,73.0,11058.0,5310.0,847.0,1.0],\"xaxis\":\"x\",\"y\":[4.979552927033295,4.745152895076901,5.431365372654089,5.021193435188165,5.204122696987954,4.735063685292798,5.814913846350341,4.63347855533382,null,null,null,null,null,5.194869402412219,null,4.826081284659646,4.977728176785649,null,null,null,null,null,5.184694269334348,5.000004342923105,5.62325032443115,null,5.225311866804371,null,4.414990051283522,3.5441921107650325,4.8451042441768255,4.903095415639038,null,4.698978690138799,4.857338528257185,4.77815848856469,null,5.204122696987954,4.748195782195563,null,null,null,5.117274610868163,5.019112134499132,null,null,4.00039068924991,null,4.721480854770049,null,null,null,5.689734064106966,4.903095415639038,null,5.021193435188165,null,null,null,null,5.021193435188165,5.064461733128728,3.982316469692065,5.4555543896687615,5.204122696987954,null,4.866375961568311,null,5.301032167130962,null,5.657056809451825,null,4.8750670539461884,5.4548463838461245,5.421605571921571,null,4.755882474807094,5.045326891331934,4.544080452586785,5.146131137770602,null,null,5.278755886707245,null,5.000004342923105,5.318065422911983,4.705461718406696,5.243040530361958,5.103807140584084,5.278755886707245,2.862131379313037,null,4.61185071068226,5.146131137770602,null,4.745511990349593,4.850333724766305,null,5.206491259481252,null,null,null,5.1303369854792535,4.77815848856469,null,null,null,null,5.283543189983951,5.304449595313068,5.217486576293699,null,2.637489729512511,2.973589623427257,null,5.071885687752241,4.079217435746567,4.698978690138799,5.389167856991453,5.000004342923105,4.079217435746567,5.477122702365523,4.962326709256072,null,5.041396633271932,4.724284063758994,null,5.153253728763753,null,6.079181607959542,5.751840090227745,5.5051513354880415,5.397072290615166,3.7854010249923875,5.045326891331934,5.60206107706281,5.278755886707245,null,null,5.231775323975095,4.929424035031084,4.913819148625592,null,null,null,null,5.340446097915417,null,null,null,5.190846941987143,5.0530822867804135,null,null,null,null,null,null,4.8750670539461884,null,4.892100170532762,null,5.799058511158069,4.929424035031084,5.1335421017002565,4.838855384814572,5.301032167130962,null,4.777332557931784,4.698978690138799,5.075550610910658,null,4.113976758289846,3.773932647467645,5.332165677730573,null,null,5.06258574433727,2.630427875025024,0.6020599913279624,null,null,5.075550610910658,null,5.944976401368047,null,3.9031442704095385,null,5.033427776713536,4.929424035031084,null,5.374750178472406,4.831876170322975,null,4.949394886330778,null,5.088494012537296,4.994321552794073,4.704467967901088,null,5.226471015317139,5.176094154342576,null,null,5.628389951918479,null,null,4.89328449703114,5.539077353977326,null,null,3.821906377352323,4.913819148625592,null,4.799347442962076,5.463894481404243,5.392681128476066,null,4.705170682200899,4.577319426553794,5.689033452207519,5.114787734800288,null,null,null,5.278755886707245,null,5.204122696987954,null,5.643453663517979,5.628389951918479,5.269515279128209,null,null,null,5.447159582391171,null,5.302586320918694,null,null,4.826081284659646,null,5.477122702365523,6.322219501540766,4.745683626664218,null,null,5.324284513560502,5.096913487350014,5.068716341996554,null,null,6.029274581514057,3.079543007402906,3.9981285071282664,null,5.703292238106883,4.937598123771113,null,4.9016871239533035,null,5.046861799122564,4.732401802238908,null,5.194067329727592,null,null,null,4.751625477375546,4.8750670539461884,5.278755886707245,4.602070848554296,4.25529663190434,null,null,5.858537799085125,3.433609843323718,null,5.075550610910658,null,4.955803162081898,5.2065452473338265,5.271843928960674,4.882530229850502,4.806186759782153,null,4.698978690138799,4.722205997516074,4.397957380103888,3.62293896921149,4.6999677346938125,null,5.5051513354880415,null,null,5.7781519742071765,null,null,4.790327394830666,4.851264465499688,null,3.833210880282609,5.395852121571872,4.338476414912923,5.0796334006766015,5.033427776713536,5.000004342923105,null,5.089908642274492,null,null,6.041393079971211,4.757282125444405,null,4.77815848856469,6.230449176845541,5.086363390450995,5.301032167130962,null,4.698978690138799,4.698978690138799,null,null,4.477135730961123,4.869419482155822,5.404493328923486,4.732401802238908,null,5.3096322963152,3.6335694425540916,4.812920038045028,5.82684547735406,null,null,4.000043427276863,5.322221362797957,4.799347442962076,4.826081284659646,null,4.996463511829707,null,null,5.112631809008544,null,null,4.72016757560302,null,null,4.837468485695427,4.78801273285574,5.645423251914681,2.6857417386022635,5.301032167130962,5.158365508018679,null,5.1205772213030984,null,5.060701616810948,4.998699514302668,4.8451042441768255,5.095507585668811,null,null,null,4.673629046659358,4.9723370877762845,null,3.9868165045855366,null,null,null,4.897632588654153,5.692808156985167,5.419957399796435,5.243040530361958,null,5.25935731747472,null,null,4.716011695371454,5.204122696987954,null,null,4.812592528397359,5.397941745846491,null,5.155339074478792,null,4.870994658869046,5.0086044295300844,4.77815848856469,null,null,null,5.025309962363198,null,4.908490380505824,null,null,4.934569144591319,4.544080452586785,null,5.1398822334512975,null,null,4.748195782195563,null,5.267174075934409,4.917095703572677,4.792398694191473,4.7697538468020895,5.043102802914009,null,null,5.022481984478796,4.397957380103888,4.792398694191473,null,null,null,null,null,4.928912805578749,5.165840589147464,5.249269306750198,null,null,5.100373991885488,4.672107098145544,null,4.4680074432592365,1.8512583487190752,null,null,5.252855457199272,null,4.653222164656599,null,null,null,null,4.9956395813883425,null,null,5.920592340659977,5.301032167130962,null,null,4.812920038045028,4.729982373044774,4.736213183351877,null,4.977728176785649,null,6.222018178269814,4.320167065254232,null,null,5.801278137536117,4.832515299342833,null,null,5.822822298377022,5.944483165666345,5.550229576418109,5.08054712353621,5.60206107706281,null,null,4.616023654653256,4.880819306644274,4.716011695371454,null,4.863328809319186,5.369946490450822,null,4.361746717975897,null,5.056908660920483,null,4.740370585685768,4.491375703107734,null,3.954290761701127,5.6294106185721375,null,null,5.164635352761349,6.443277698446042,null,4.913819148625592,null,4.546924970411396,null,3.9868165045855366,null,5.397941745846491,5.394819274573398,5.389167856991453,4.9450301302178055,4.767163289856027,3.8451600776519457,5.5123187734118995,null,null,null,null,null,null,5.63346946556558,5.033427776713536,4.811588409814419,5.201337029102436,null,4.77815848856469,4.748195782195563,null,null,5.301032167130962,5.049221900282173,5.113946693020772,null,null,5.2278892743959045,5.146131137770602,null,4.838855384814572,null,null,null,null,null,null,4.967309235841551,null,4.81891836436694,null,5.553884239755258,5.167978613112563,5.1398822334512975,5.000004342923105,null,null,null,5.2278892743959045,null,5.340015558219944,null,null,null,6.146128345888472,null,null,5.089908642274492,4.698978690138799,null,5.146131137770602,null,5.352014558437396,null,null,null,5.1303369854792535,4.414990051283522,5.333852158516895,5.453319869250268,null,null,5.0043385732235235,5.673880346524592,null,5.9294194366486765,null,5.60206107706281,6.416129703047912,5.397941745846491,null,null,5.123854906326854,4.70297306553782,null,null,5.423247512780817,5.394185418732522,5.46834880760176,null,null,5.233295695628223,null,null,4.447173541582463,5.2855595592324205,null,null,4.698978690138799,4.790327394830666,null,5.016101111894874,4.7599094717808645,4.799347442962076,null,null,5.367357784946834,5.473780293476931,null,5.0128414411359845,5.093425187522967,4.799347442962076,4.5131376612116405,null,null,null,4.000043427276863,5.396912121074416,null,4.903095415639038,null,5.209517695364492,5.39109926057558,null,4.7124897575435245,4.698978690138799,null,4.751863929554984,null,5.323289235404285,4.701403906447556,4.980598697156657,5.1072133625602545,3.9981285071282664,4.779423316078324,4.477135730961123,4.806186759782153,null,5.184694269334348,null,4.863328809319186,4.30847904016173,null,null,4.832515299342833,5.059256615111293,null,3.520483532740792,4.929888731422162,null,5.079184865153228,5.912753834593348,4.740370585685768,null,null,null,null,null,4.55024058653017,null,null,null,4.839522040245412,5.000004342923105,4.7512868041718495,3.427323786357247,5.071885687752241,null,4.041432164680265,4.706726314561037,4.698978690138799,null,null,null,4.8750670539461884,4.400710636773232,4.977728176785649,null,null,4.964217188922952,5.021193435188165,null,4.77815848856469,null,5.161840975821248,4.812920038045028,5.176094154342576,5.004325673706721,5.113946693020772,null,null,null,null,5.569375080218541,null,null,null,null,5.1664952383303335,4.755882474807094,5.161370997359005,0.3010299956639812,null,4.826081284659646,null,4.944487607286695,5.033427776713536,5.698970872924114,null,4.799347442962076,4.812920038045028,4.486996888431823,4.903095415639038,4.698978690138799,4.814620449299106,5.176094154342576,null,null,5.477122702365523,null,null,null,5.342424654883547,null,null,5.096913487350014,0.6989700043360189,4.8451042441768255,5.100373991885488,null,5.477122702365523,null,null,5.126384698901287,null,4.799347442962076,4.77815848856469,null,null,4.815584388861907,null,null,null,null,5.2278892743959045,5.574032425844793,4.857338528257185,null,null,5.000004342923105,5.610064729077087,4.8451042441768255,null,null,null,null,null,null,null,4.832515299342833,null,5.1986598356449765,4.711005363485548,4.785336954534081,5.954242991988481,5.401555618262893,null,null,4.414990051283522,5.1335421017002565,4.161397952545797,null,null,5.4553032938923405,null,3.83257277484618,6.301030212811168,4.544080452586785,5.880878731567752,5.113946693020772,null,5.698970872924114,null,null,4.7646019955633365,5.217486576293699,4.7712787354893536,5.831139366595321,null,5.333221503609334,null,5.176094154342576,5.578640355862291,null,4.672107098145544,null,null,5.269596993080915,null,4.757403621287529,null,5.2552749178437255,5.260073774211937,4.9345035011500435,4.822468841859413,null,4.8451042441768255,4.93033763573773,5.041396633271932,4.7118156618618805,null,null,null,null,4.973132473729186,null,null,null,5.342424654883547,5.000004342923105,null,5.60206107706281,3.041787318971752,5.328381642375181,5.26482018329922,5.462399495463553,5.2552749178437255,null,5.128040439809785,5.103807140584084,5.435136947217702,5.107382974392001,5.243040530361958,5.397941745846491,4.906011625271413,null,5.494655414156861,null,null,null,null,4.389290150779289,4.774217600830339,5.498311932500053,null,null,5.176094154342576,5.142398852785736,5.1267838204239595,6.274419963892335,null,4.701110137289755,5.238048613494268,5.203769691499785,null,5.1056293865027715,5.698970872924114,0.3010299956639812,null,5.011016121367881,4.813667705382696,5.026537350058942,null,4.698978690138799,5.162310446238798,null,null,5.176337289560032,5.146131137770602,null,null,5.348306810552682,4.892100170532762,null,null,5.428136414527564,null,null,null,null,4.753169248016526,null,0.3010299956639812,null,5.477122702365523,5.082788959512213,5.096913487350014,null,null,null,null,4.832630242744096,5.170264649807219,4.537831683136692,null,5.448680045066892,4.81253903397321,null,null,5.03275571525037,null,null,5.812914024787698,4.788267384653845,5.431365372654089,null,5.30823563385881,null,5.531480194377088,4.707578691592528,4.9723787429457085,null,4.7029988833591805,null,null,5.385608060814725,1.5797835966168101,4.3222399749311515,null,3.1763806922432702,null,null,null,null,null,4.557194300943596,1.8512583487190752,null,null,4.682172162503082,6.398697972460018,5.079184865153228,null,null,null,5.698970872924114,5.294834228469333,5.060701616810948,null,null,4.74781561496517,null,null,null,3.8751191654625683,null,5.361729724250366,null,4.217510264294027,4.939524244480526,4.903095415639038,5.257680974279584,5.301032167130962,null,4.92143154523192,null,null,5.041396633271932,null,null,null,null,null,null,null,null,4.568213461597081,0.47712125471966244,4.698978690138799,null,5.176094154342576,5.324831665357307,4.466140717838994,null,4.1761202110560856,null,3.954290761701127,5.123854906326854,null,null,null,3.4234097277330933,4.897632588654153,null,null,3.963835030702148,4.734935775274193,null,4.822063417484898,4.8451042441768255,null,null,4.585472009738158,5.146131137770602,5.029387836493177,5.161370997359005,null,4.878837635606425,null,null,5.311755979560255,5.103807140584084,4.856269588057578,null],\"yaxis\":\"y\",\"type\":\"scatter\"}],                        {\"template\":{\"data\":{\"barpolar\":[{\"marker\":{\"line\":{\"color\":\"white\",\"width\":0.5},\"pattern\":{\"fillmode\":\"overlay\",\"size\":10,\"solidity\":0.2}},\"type\":\"barpolar\"}],\"bar\":[{\"error_x\":{\"color\":\"rgb(36,36,36)\"},\"error_y\":{\"color\":\"rgb(36,36,36)\"},\"marker\":{\"line\":{\"color\":\"white\",\"width\":0.5},\"pattern\":{\"fillmode\":\"overlay\",\"size\":10,\"solidity\":0.2}},\"type\":\"bar\"}],\"carpet\":[{\"aaxis\":{\"endlinecolor\":\"rgb(36,36,36)\",\"gridcolor\":\"white\",\"linecolor\":\"white\",\"minorgridcolor\":\"white\",\"startlinecolor\":\"rgb(36,36,36)\"},\"baxis\":{\"endlinecolor\":\"rgb(36,36,36)\",\"gridcolor\":\"white\",\"linecolor\":\"white\",\"minorgridcolor\":\"white\",\"startlinecolor\":\"rgb(36,36,36)\"},\"type\":\"carpet\"}],\"choropleth\":[{\"colorbar\":{\"outlinewidth\":1,\"tickcolor\":\"rgb(36,36,36)\",\"ticks\":\"outside\"},\"type\":\"choropleth\"}],\"contourcarpet\":[{\"colorbar\":{\"outlinewidth\":1,\"tickcolor\":\"rgb(36,36,36)\",\"ticks\":\"outside\"},\"type\":\"contourcarpet\"}],\"contour\":[{\"colorbar\":{\"outlinewidth\":1,\"tickcolor\":\"rgb(36,36,36)\",\"ticks\":\"outside\"},\"colorscale\":[[0.0,\"#440154\"],[0.1111111111111111,\"#482878\"],[0.2222222222222222,\"#3e4989\"],[0.3333333333333333,\"#31688e\"],[0.4444444444444444,\"#26828e\"],[0.5555555555555556,\"#1f9e89\"],[0.6666666666666666,\"#35b779\"],[0.7777777777777778,\"#6ece58\"],[0.8888888888888888,\"#b5de2b\"],[1.0,\"#fde725\"]],\"type\":\"contour\"}],\"heatmapgl\":[{\"colorbar\":{\"outlinewidth\":1,\"tickcolor\":\"rgb(36,36,36)\",\"ticks\":\"outside\"},\"colorscale\":[[0.0,\"#440154\"],[0.1111111111111111,\"#482878\"],[0.2222222222222222,\"#3e4989\"],[0.3333333333333333,\"#31688e\"],[0.4444444444444444,\"#26828e\"],[0.5555555555555556,\"#1f9e89\"],[0.6666666666666666,\"#35b779\"],[0.7777777777777778,\"#6ece58\"],[0.8888888888888888,\"#b5de2b\"],[1.0,\"#fde725\"]],\"type\":\"heatmapgl\"}],\"heatmap\":[{\"colorbar\":{\"outlinewidth\":1,\"tickcolor\":\"rgb(36,36,36)\",\"ticks\":\"outside\"},\"colorscale\":[[0.0,\"#440154\"],[0.1111111111111111,\"#482878\"],[0.2222222222222222,\"#3e4989\"],[0.3333333333333333,\"#31688e\"],[0.4444444444444444,\"#26828e\"],[0.5555555555555556,\"#1f9e89\"],[0.6666666666666666,\"#35b779\"],[0.7777777777777778,\"#6ece58\"],[0.8888888888888888,\"#b5de2b\"],[1.0,\"#fde725\"]],\"type\":\"heatmap\"}],\"histogram2dcontour\":[{\"colorbar\":{\"outlinewidth\":1,\"tickcolor\":\"rgb(36,36,36)\",\"ticks\":\"outside\"},\"colorscale\":[[0.0,\"#440154\"],[0.1111111111111111,\"#482878\"],[0.2222222222222222,\"#3e4989\"],[0.3333333333333333,\"#31688e\"],[0.4444444444444444,\"#26828e\"],[0.5555555555555556,\"#1f9e89\"],[0.6666666666666666,\"#35b779\"],[0.7777777777777778,\"#6ece58\"],[0.8888888888888888,\"#b5de2b\"],[1.0,\"#fde725\"]],\"type\":\"histogram2dcontour\"}],\"histogram2d\":[{\"colorbar\":{\"outlinewidth\":1,\"tickcolor\":\"rgb(36,36,36)\",\"ticks\":\"outside\"},\"colorscale\":[[0.0,\"#440154\"],[0.1111111111111111,\"#482878\"],[0.2222222222222222,\"#3e4989\"],[0.3333333333333333,\"#31688e\"],[0.4444444444444444,\"#26828e\"],[0.5555555555555556,\"#1f9e89\"],[0.6666666666666666,\"#35b779\"],[0.7777777777777778,\"#6ece58\"],[0.8888888888888888,\"#b5de2b\"],[1.0,\"#fde725\"]],\"type\":\"histogram2d\"}],\"histogram\":[{\"marker\":{\"line\":{\"color\":\"white\",\"width\":0.6}},\"type\":\"histogram\"}],\"mesh3d\":[{\"colorbar\":{\"outlinewidth\":1,\"tickcolor\":\"rgb(36,36,36)\",\"ticks\":\"outside\"},\"type\":\"mesh3d\"}],\"parcoords\":[{\"line\":{\"colorbar\":{\"outlinewidth\":1,\"tickcolor\":\"rgb(36,36,36)\",\"ticks\":\"outside\"}},\"type\":\"parcoords\"}],\"pie\":[{\"automargin\":true,\"type\":\"pie\"}],\"scatter3d\":[{\"line\":{\"colorbar\":{\"outlinewidth\":1,\"tickcolor\":\"rgb(36,36,36)\",\"ticks\":\"outside\"}},\"marker\":{\"colorbar\":{\"outlinewidth\":1,\"tickcolor\":\"rgb(36,36,36)\",\"ticks\":\"outside\"}},\"type\":\"scatter3d\"}],\"scattercarpet\":[{\"marker\":{\"colorbar\":{\"outlinewidth\":1,\"tickcolor\":\"rgb(36,36,36)\",\"ticks\":\"outside\"}},\"type\":\"scattercarpet\"}],\"scattergeo\":[{\"marker\":{\"colorbar\":{\"outlinewidth\":1,\"tickcolor\":\"rgb(36,36,36)\",\"ticks\":\"outside\"}},\"type\":\"scattergeo\"}],\"scattergl\":[{\"marker\":{\"colorbar\":{\"outlinewidth\":1,\"tickcolor\":\"rgb(36,36,36)\",\"ticks\":\"outside\"}},\"type\":\"scattergl\"}],\"scattermapbox\":[{\"marker\":{\"colorbar\":{\"outlinewidth\":1,\"tickcolor\":\"rgb(36,36,36)\",\"ticks\":\"outside\"}},\"type\":\"scattermapbox\"}],\"scatterpolargl\":[{\"marker\":{\"colorbar\":{\"outlinewidth\":1,\"tickcolor\":\"rgb(36,36,36)\",\"ticks\":\"outside\"}},\"type\":\"scatterpolargl\"}],\"scatterpolar\":[{\"marker\":{\"colorbar\":{\"outlinewidth\":1,\"tickcolor\":\"rgb(36,36,36)\",\"ticks\":\"outside\"}},\"type\":\"scatterpolar\"}],\"scatter\":[{\"fillpattern\":{\"fillmode\":\"overlay\",\"size\":10,\"solidity\":0.2},\"type\":\"scatter\"}],\"scatterternary\":[{\"marker\":{\"colorbar\":{\"outlinewidth\":1,\"tickcolor\":\"rgb(36,36,36)\",\"ticks\":\"outside\"}},\"type\":\"scatterternary\"}],\"surface\":[{\"colorbar\":{\"outlinewidth\":1,\"tickcolor\":\"rgb(36,36,36)\",\"ticks\":\"outside\"},\"colorscale\":[[0.0,\"#440154\"],[0.1111111111111111,\"#482878\"],[0.2222222222222222,\"#3e4989\"],[0.3333333333333333,\"#31688e\"],[0.4444444444444444,\"#26828e\"],[0.5555555555555556,\"#1f9e89\"],[0.6666666666666666,\"#35b779\"],[0.7777777777777778,\"#6ece58\"],[0.8888888888888888,\"#b5de2b\"],[1.0,\"#fde725\"]],\"type\":\"surface\"}],\"table\":[{\"cells\":{\"fill\":{\"color\":\"rgb(237,237,237)\"},\"line\":{\"color\":\"white\"}},\"header\":{\"fill\":{\"color\":\"rgb(217,217,217)\"},\"line\":{\"color\":\"white\"}},\"type\":\"table\"}]},\"layout\":{\"annotationdefaults\":{\"arrowhead\":0,\"arrowwidth\":1},\"autotypenumbers\":\"strict\",\"coloraxis\":{\"colorbar\":{\"outlinewidth\":1,\"tickcolor\":\"rgb(36,36,36)\",\"ticks\":\"outside\"}},\"colorscale\":{\"diverging\":[[0.0,\"rgb(103,0,31)\"],[0.1,\"rgb(178,24,43)\"],[0.2,\"rgb(214,96,77)\"],[0.3,\"rgb(244,165,130)\"],[0.4,\"rgb(253,219,199)\"],[0.5,\"rgb(247,247,247)\"],[0.6,\"rgb(209,229,240)\"],[0.7,\"rgb(146,197,222)\"],[0.8,\"rgb(67,147,195)\"],[0.9,\"rgb(33,102,172)\"],[1.0,\"rgb(5,48,97)\"]],\"sequential\":[[0.0,\"#440154\"],[0.1111111111111111,\"#482878\"],[0.2222222222222222,\"#3e4989\"],[0.3333333333333333,\"#31688e\"],[0.4444444444444444,\"#26828e\"],[0.5555555555555556,\"#1f9e89\"],[0.6666666666666666,\"#35b779\"],[0.7777777777777778,\"#6ece58\"],[0.8888888888888888,\"#b5de2b\"],[1.0,\"#fde725\"]],\"sequentialminus\":[[0.0,\"#440154\"],[0.1111111111111111,\"#482878\"],[0.2222222222222222,\"#3e4989\"],[0.3333333333333333,\"#31688e\"],[0.4444444444444444,\"#26828e\"],[0.5555555555555556,\"#1f9e89\"],[0.6666666666666666,\"#35b779\"],[0.7777777777777778,\"#6ece58\"],[0.8888888888888888,\"#b5de2b\"],[1.0,\"#fde725\"]]},\"colorway\":[\"#1F77B4\",\"#FF7F0E\",\"#2CA02C\",\"#D62728\",\"#9467BD\",\"#8C564B\",\"#E377C2\",\"#7F7F7F\",\"#BCBD22\",\"#17BECF\"],\"font\":{\"color\":\"rgb(36,36,36)\"},\"geo\":{\"bgcolor\":\"white\",\"lakecolor\":\"white\",\"landcolor\":\"white\",\"showlakes\":true,\"showland\":true,\"subunitcolor\":\"white\"},\"hoverlabel\":{\"align\":\"left\"},\"hovermode\":\"closest\",\"mapbox\":{\"style\":\"light\"},\"paper_bgcolor\":\"white\",\"plot_bgcolor\":\"white\",\"polar\":{\"angularaxis\":{\"gridcolor\":\"rgb(232,232,232)\",\"linecolor\":\"rgb(36,36,36)\",\"showgrid\":false,\"showline\":true,\"ticks\":\"outside\"},\"bgcolor\":\"white\",\"radialaxis\":{\"gridcolor\":\"rgb(232,232,232)\",\"linecolor\":\"rgb(36,36,36)\",\"showgrid\":false,\"showline\":true,\"ticks\":\"outside\"}},\"scene\":{\"xaxis\":{\"backgroundcolor\":\"white\",\"gridcolor\":\"rgb(232,232,232)\",\"gridwidth\":2,\"linecolor\":\"rgb(36,36,36)\",\"showbackground\":true,\"showgrid\":false,\"showline\":true,\"ticks\":\"outside\",\"zeroline\":false,\"zerolinecolor\":\"rgb(36,36,36)\"},\"yaxis\":{\"backgroundcolor\":\"white\",\"gridcolor\":\"rgb(232,232,232)\",\"gridwidth\":2,\"linecolor\":\"rgb(36,36,36)\",\"showbackground\":true,\"showgrid\":false,\"showline\":true,\"ticks\":\"outside\",\"zeroline\":false,\"zerolinecolor\":\"rgb(36,36,36)\"},\"zaxis\":{\"backgroundcolor\":\"white\",\"gridcolor\":\"rgb(232,232,232)\",\"gridwidth\":2,\"linecolor\":\"rgb(36,36,36)\",\"showbackground\":true,\"showgrid\":false,\"showline\":true,\"ticks\":\"outside\",\"zeroline\":false,\"zerolinecolor\":\"rgb(36,36,36)\"}},\"shapedefaults\":{\"fillcolor\":\"black\",\"line\":{\"width\":0},\"opacity\":0.3},\"ternary\":{\"aaxis\":{\"gridcolor\":\"rgb(232,232,232)\",\"linecolor\":\"rgb(36,36,36)\",\"showgrid\":false,\"showline\":true,\"ticks\":\"outside\"},\"baxis\":{\"gridcolor\":\"rgb(232,232,232)\",\"linecolor\":\"rgb(36,36,36)\",\"showgrid\":false,\"showline\":true,\"ticks\":\"outside\"},\"bgcolor\":\"white\",\"caxis\":{\"gridcolor\":\"rgb(232,232,232)\",\"linecolor\":\"rgb(36,36,36)\",\"showgrid\":false,\"showline\":true,\"ticks\":\"outside\"}},\"title\":{\"x\":0.5,\"xanchor\":\"center\"},\"xaxis\":{\"automargin\":true,\"gridcolor\":\"rgb(232,232,232)\",\"linecolor\":\"rgb(36,36,36)\",\"showgrid\":true,\"showline\":true,\"ticks\":\"outside\",\"title\":{\"standoff\":15},\"zeroline\":false,\"zerolinecolor\":\"rgb(36,36,36)\"},\"yaxis\":{\"automargin\":true,\"gridcolor\":\"rgb(232,232,232)\",\"linecolor\":\"rgb(36,36,36)\",\"showgrid\":true,\"showline\":true,\"ticks\":\"outside\",\"title\":{\"standoff\":15},\"zeroline\":false,\"zerolinecolor\":\"rgb(36,36,36)\"},\"autosize\":true,\"height\":400,\"margin\":{\"b\":30,\"l\":30,\"r\":30,\"t\":30},\"width\":600}},\"xaxis\":{\"anchor\":\"y\",\"domain\":[0.0,1.0],\"title\":{\"text\":\"Outage Duration (minutes)\"}},\"yaxis\":{\"anchor\":\"x\",\"domain\":[0.0,1.0],\"title\":{\"text\":\"Log(Customers Affected)\"}},\"legend\":{\"tracegroupgap\":0},\"title\":{\"text\":\"Outage Duration vs. Customers Affected (Log Scale)\"}},                        {\"responsive\": true}                    ).then(function(){\n",
       "                            \n",
       "var gd = document.getElementById('b9b713ad-63af-4851-a03a-bf3fab6406df');\n",
       "var x = new MutationObserver(function (mutations, observer) {{\n",
       "        var display = window.getComputedStyle(gd).display;\n",
       "        if (!display || display === 'none') {{\n",
       "            console.log([gd, 'removed!']);\n",
       "            Plotly.purge(gd);\n",
       "            observer.disconnect();\n",
       "        }}\n",
       "}});\n",
       "\n",
       "// Listen for the removal of the full notebook cells\n",
       "var notebookContainer = gd.closest('#notebook-container');\n",
       "if (notebookContainer) {{\n",
       "    x.observe(notebookContainer, {childList: true});\n",
       "}}\n",
       "\n",
       "// Listen for the clearing of the current output cell\n",
       "var outputEl = gd.closest('.output');\n",
       "if (outputEl) {{\n",
       "    x.observe(outputEl, {childList: true});\n",
       "}}\n",
       "\n",
       "                        })                };                });            </script>        </div>"
      ]
     },
     "metadata": {},
     "output_type": "display_data"
    }
   ],
   "source": [
    "# Energy Consumption per State\n",
    "# loss_vs_sales = outage.sample(1000)\n",
    "# fig = px.scatter(loss_vs_sales, x='DEMAND.LOSS.MW', y='TOTAL.SALES',\n",
    "#                  title='Demand Loss (MW) vs. Total Sales',\n",
    "#                  labels={'DEMAND.LOSS.MW': 'Demand Loss (MW)', 'TOTAL.SALES': 'Total Sales (MWh)'},\n",
    "#                  color_discrete_sequence=['red'],\n",
    "#                  opacity=0.4)\n",
    "# fig.show()\n",
    "# correlation = outage['TOTAL.SALES'].corr(outage['DEMAND.LOSS.MW'])\n",
    "# correlation\n",
    "\n",
    "# fig = px.box(outage, x='OUTAGE.DURATION', y='CLIMATE.REGION',\n",
    "#              title='Outage Duration by Climate Region',\n",
    "#              labels={'OUTAGE.DURATION': 'Outage Duration (minutes)', 'CLIMATE.REGION': 'Climate Region'},\n",
    "#              orientation='h')\n",
    "# # fig.show()\n",
    "# description = outage.groupby('CLIMATE.REGION')['OUTAGE.DURATION'].describe()\n",
    "# description\n",
    "\n",
    "duration_vs_customers = outage.sample(1000)\n",
    "duration_vs_customers['LOG_CUSTOMERS_AFFECTED'] = np.log10(duration_vs_customers['CUSTOMERS.AFFECTED'] + 1)  # Adding 1 to avoid log(0)\n",
    "fig = px.scatter(duration_vs_customers, x='OUTAGE.DURATION', y='LOG_CUSTOMERS_AFFECTED',\n",
    "                 title='Outage Duration vs. Customers Affected (Log Scale)',\n",
    "                 labels={'OUTAGE.DURATION': 'Outage Duration (minutes)', 'LOG_CUSTOMERS_AFFECTED': 'Log(Customers Affected)'},\n",
    "                 opacity=0.6)\n",
    "fig.show()\n",
    "\n",
    "#Total Energy Consumption per Year\n",
    "# outage_fig = outage.groupby('YEAR')['TOTAL.SALES'].sum()\n",
    "# fig = px.line(x=outage_fig.index, y=outage_fig.values, labels={'x': 'Year', 'y': 'Total Sales'})\n",
    "# fig.update_layout(title='Total Energy Consumption per Year')\n",
    "# fig.show()"
   ]
  },
  {
   "cell_type": "markdown",
   "metadata": {},
   "source": [
    "Interesting Aggregates"
   ]
  },
  {
   "cell_type": "markdown",
   "metadata": {},
   "source": [
    "Choose columns to group and pivot by and examine aggregate statistics.\t"
   ]
  },
  {
   "cell_type": "code",
   "execution_count": null,
   "metadata": {},
   "outputs": [],
   "source": []
  },
  {
   "cell_type": "markdown",
   "metadata": {},
   "source": [
    "## Step 3: Assessment of Missingness"
   ]
  },
  {
   "cell_type": "markdown",
   "metadata": {},
   "source": [
    "Pick a column in the dataset with non-trivial missingness to analyze, and perform permutation tests to analyze the dependency of the missingness of this column on other columns.\n",
    "\n",
    "Specifically, find at least one other column that the missingness of your selected column does depend on, and at least one other column that the missingness of your selected column does not depend on.\n",
    "\n",
    "Tip: Make sure you know the difference between the different types of missingness before approaching that section. Many students in the past have lost credit for mistaking one type of missingness for another.\n",
    "\n",
    "Note that some datasets may have special requirements for this section; look at the “Special Considerations” section of your chosen dataset for more details."
   ]
  },
  {
   "cell_type": "code",
   "execution_count": 111,
   "metadata": {
    "ExecuteTime": {
     "end_time": "2019-10-31T23:36:28.662099Z",
     "start_time": "2019-10-31T23:36:28.660016Z"
    }
   },
   "outputs": [
    {
     "data": {
      "text/plain": [
       "[('MONTH', 9),\n",
       " ('CLIMATE.REGION', 6),\n",
       " ('ANOMALY.LEVEL', 9),\n",
       " ('CLIMATE.CATEGORY', 9),\n",
       " ('CAUSE.CATEGORY.DETAIL', 471),\n",
       " ('HURRICANE.NAMES', 1462),\n",
       " ('OUTAGE.DURATION', 136),\n",
       " ('DEMAND.LOSS.MW', 901),\n",
       " ('CUSTOMERS.AFFECTED', 655),\n",
       " ('RES.PRICE', 22),\n",
       " ('COM.PRICE', 22),\n",
       " ('IND.PRICE', 22),\n",
       " ('TOTAL.PRICE', 22),\n",
       " ('RES.SALES', 22),\n",
       " ('COM.SALES', 22),\n",
       " ('IND.SALES', 22),\n",
       " ('TOTAL.SALES', 22),\n",
       " ('RES.PERCEN', 22),\n",
       " ('COM.PERCEN', 22),\n",
       " ('IND.PERCEN', 22),\n",
       " ('POPDEN_UC', 10),\n",
       " ('POPDEN_RURAL', 10),\n",
       " ('OUTAGE.START', 9),\n",
       " ('OUTAGE.RESTORATION', 58),\n",
       " ('IS_DARK', 9)]"
      ]
     },
     "execution_count": 111,
     "metadata": {},
     "output_type": "execute_result"
    }
   ],
   "source": [
    "# TODO\n",
    "null_cols = [(column, outage[column].isna().sum()) for column in outage.columns if outage[column].isna().sum() > 0]\n",
    "\n",
    "outage_null = outage[outage['TOTAL.SALES'].isna()]\n",
    "# missing_values_per_month = outage.groupby('MONTH').apply(lambda x: x.isnull().sum())\n",
    "# missing_values_per_month_filtered = missing_values_per_month.loc[:, (missing_values_per_month > 0).any()].sum(axis=1)\n",
    "# fig = px.bar(x=missing_values_per_month_filtered.index, y=missing_values_per_month_filtered.values,\n",
    "#              labels={'x': 'Month', 'y': 'Number of Missing Values'},\n",
    "#              title='Missing Values per Month')\n",
    "# fig.update_xaxes(type='category')\n",
    "# fig.show()\n",
    "\n",
    "# outage_consumption = outage.copy()\n",
    "\n",
    "# outage_consumption['IND_PRICE_MISSING'] = outage_consumption['IND.PRICE'].isna()\n",
    "\n",
    "# month_dist = (\n",
    "#     outage_consumption\n",
    "#     .assign(ind_price_missing=outage['IND.PRICE'].isna())\n",
    "#     .pivot_table(index='MONTH', columns='ind_price_missing', aggfunc='size')\n",
    "# )\n",
    "# month_dist.columns = ['ind_price_missing = False', 'ind_price_missing = True']\n",
    "# month_dist = month_dist / month_dist.sum()\n",
    "\n",
    "# n_repetitions = 10_000\n",
    "# shuffled = outage_consumption.copy()\n",
    "\n",
    "# tvds = []\n",
    "# for _ in range(n_repetitions):\n",
    "#     shuffled['MONTH'] = np.random.permutation(shuffled['MONTH'])\n",
    "#     pivoted = (\n",
    "#         shuffled\n",
    "#         .pivot_table(index='MONTH', columns='IND_PRICE_MISSING', aggfunc='size')\n",
    "#     )\n",
    "#     pivoted = pivoted / pivoted.sum()\n",
    "#     tvd = pivoted.diff(axis=1).iloc[:, -1].abs().sum() / 2\n",
    "#     tvds.append(tvd)\n",
    "\n",
    "# observed_tvd = month_dist.diff(axis=1).iloc[:, -1].abs().sum() / 2\n",
    "# observed_tvd\n",
    "\n",
    "# fig = px.histogram(pd.DataFrame(tvds), x=0, nbins=50, histnorm='probability', \n",
    "#                    title='Empirical Distribution of the TVD')\n",
    "# fig.add_vline(x=observed_tvd, line_color='red')\n",
    "# fig.add_annotation(text=f'<span style=\"color:red\">Observed TVD = {round(observed_tvd, 2)}</span>',\n",
    "#                    x=2.3 * observed_tvd, showarrow=False, y=0.16)\n",
    "# fig.update_layout(yaxis_range=[0, 0.2])\n",
    "\n",
    "# (np.array(tvds) >= observed_tvd).mean()\n",
    "null_cols\n"
   ]
  },
  {
   "cell_type": "code",
   "execution_count": null,
   "metadata": {},
   "outputs": [],
   "source": []
  },
  {
   "cell_type": "markdown",
   "metadata": {},
   "source": [
    "NMAR Analysis"
   ]
  },
  {
   "cell_type": "code",
   "execution_count": null,
   "metadata": {},
   "outputs": [],
   "source": []
  },
  {
   "cell_type": "markdown",
   "metadata": {},
   "source": [
    "## Step 4: Hypothesis Testing"
   ]
  },
  {
   "cell_type": "markdown",
   "metadata": {
    "ExecuteTime": {
     "end_time": "2019-10-31T23:36:28.666489Z",
     "start_time": "2019-10-31T23:36:28.664381Z"
    }
   },
   "source": [
    "Clearly state a pair of hypotheses and perform a hypothesis test or permutation test that is not related to missingness. Feel free to use one of the example questions stated in the “Example Questions and Prediction Problems” section of your dataset’s description page or pose a hypothesis test of your own.\t\n",
    "\n",
    "Null hypothesis (H0): \n",
    "\n",
    "Alternative hypothesis (H1): "
   ]
  },
  {
   "cell_type": "code",
   "execution_count": 173,
   "metadata": {
    "scrolled": true
   },
   "outputs": [
    {
     "data": {
      "text/html": [
       "<div>                            <div id=\"04f137f0-e6e2-4cc3-8a47-ad3f2b3ae3d1\" class=\"plotly-graph-div\" style=\"height:400px; width:600px;\"></div>            <script type=\"text/javascript\">                require([\"plotly\"], function(Plotly) {                    window.PLOTLYENV=window.PLOTLYENV || {};                                    if (document.getElementById(\"04f137f0-e6e2-4cc3-8a47-ad3f2b3ae3d1\")) {                    Plotly.newPlot(                        \"04f137f0-e6e2-4cc3-8a47-ad3f2b3ae3d1\",                        [{\"alignmentgroup\":\"True\",\"bingroup\":\"x\",\"histnorm\":\"probability\",\"hovertemplate\":\"TVD=%{x}\\u003cbr\\u003eprobability=%{y}\\u003cextra\\u003e\\u003c\\u002fextra\\u003e\",\"legendgroup\":\"\",\"marker\":{\"color\":\"#1F77B4\",\"pattern\":{\"shape\":\"\"}},\"name\":\"\",\"nbinsx\":50,\"offsetgroup\":\"\",\"orientation\":\"v\",\"showlegend\":false,\"x\":[0.08501272238347571,0.0904817941735882,0.09443208961370564,0.07886005450882806,0.08632305194805194,0.11317971837257193,0.1011570900328223,0.08567141785446361,0.09072247327234653,0.08839526376588372,0.09813455699601367,0.09517851693622215,0.0868173862612496,0.09458881366750639,0.08585335260273226,0.09733569847904738,0.08796463247851616,0.07148034248245591,0.08614627769368378,0.09111108025162823,0.08474785998813458,0.09488188173905954,0.09027172892008675,0.08825934479514157,0.09327365027097481,0.10769039012838091,0.09978678038379532,0.09142226209371333,0.09962346130903962,0.09318555008210179,0.08122545917291032,0.09433096868884538,0.09675925925925927,0.10418943533697632,0.10572237497617948,0.08615461478145622,0.09488030095759234,0.07175275776448081,0.10143959223033477,0.100976305397104,0.08312781082257362,0.11235431235431237,0.08908796814731865,0.07902777777777778,0.09387000768049156,0.09388166393936784,0.07394894894894896,0.10069537126391939,0.0903194077755345,0.08480704911164987,0.09796409656785199,0.09817563019179973,0.08145959318306763,0.11496216030271757,0.10649308240955573,0.07592120662313111,0.0977705034666995,0.07786541855817371,0.10862020624760654,0.09348252233498136,0.07422565993921387,0.08559837728194727,0.08928675780565193,0.08970588235294116,0.10091954022988506,0.09240514001697175,0.10598052756088555,0.08565917857953256,0.09992328079230017,0.10303781235920008,0.09322567547107483,0.0881248724750051,0.09044317154054869,0.10155360338376443,0.08699512445470875,0.11267125505796849,0.08155383136500961,0.09050366995697291,0.10304669313980556,0.08300337819355544,0.07998718054751469,0.08409824832770246,0.08410138248847929,0.10045705220216061,0.10406732835362734,0.10089523599166195,0.10859703776575393,0.09468661813668174,0.08843888121309604,0.0964084673205919,0.07696451696451696,0.09781684102212314,0.09238825031928481,0.09214837111206664,0.09772675701879242,0.09230063850020379,0.08492540773468607,0.07073483506285327,0.0876367689933116,0.08303547342864849,0.09424777408254154,0.08321763247038114,0.09275606115479257,0.0973493167398731,0.0869454534271431,0.11964866735894772,0.08602172888778029,0.08927843456991438,0.07873817359111476,0.06806110257723161,0.09169021757635602,0.09567333434011999,0.08775031289111389,0.08875094573216864,0.09012101066569601,0.09776216497527973,0.09347904038248099,0.07854206979839981,0.0982517744251407,0.10488039034864355,0.09935664843139444,0.08142904651052306,0.0763425925925926,0.08729189789123196,0.09460399621528356,0.10884685123541989,0.09458580980683505,0.1002448215442959,0.08116191412651588,0.0832989888998791,0.08796469190290274,0.09159417288041978,0.09782571271174768,0.0802065475861306,0.09232145314435118,0.08403344040853308,0.10219947367150341,0.0874700052164841,0.07842407052197689,0.08272393312047241,0.09536648215308266,0.09031093808611373,0.10982927653820149,0.10400775408096052,0.08801306225064218,0.09455859125813174,0.09432212028542304,0.09070751036833245,0.10171850210624213,0.08613841825229755,0.10584990664131422,0.0890368955463959,0.10374733421346602,0.09297479961961691,0.07997079746685003,0.09214133883737408,0.09512779849799993,0.08912112975286657,0.09557461873638344,0.09032190394987041,0.1012636856645861,0.0697974367329206,0.08944474986256185,0.08146701611936208,0.08283563518725892,0.10305429864253395,0.09552510308028135,0.09816699768288645,0.09848664507473609,0.10976090901917462,0.09760104602793924,0.09266752657748559,0.10675342227318801,0.08513520986561965,0.09543413173652694,0.0986836491960943,0.08709428717622492,0.08073762952970752,0.08245248296789828,0.0888530850936866,0.08447173550988947,0.10122116689280866,0.08867285314479303,0.09127926060291956,0.0958706007333539,0.09126275291127066,0.09819795589026357,0.08133610913645442,0.09658810442520943,0.08923386385530724,0.09603423583168519,0.08210435783745999,0.08979165164732175,0.08251010596311623,0.0830032433924505,0.09693825653544907,0.08742276288204788,0.10450136050328593,0.09430395913154535,0.0723920026265286,0.08494516106780714,0.08980493254275157,0.10876565295169946,0.07696061868829072,0.08891284304154463,0.11579715794080639,0.09040482342807923,0.10092574918877648,0.08946724574490258,0.09889841341454245,0.09376418608680584,0.11072606918304248,0.10557315673167418,0.09150487270529575,0.0723814296623575,0.07868988391376451,0.10008528265107211,0.08354470844133732,0.09381095273818454,0.09269780364283739,0.10599742326327259,0.12147269994990817,0.0840529097997943,0.09495306175178708,0.08682665322470778,0.08004861835961107,0.09546611627106982,0.10926976040540039,0.0897940962922047,0.09588488434642281,0.08359832321242955,0.10079756550814145,0.09334255606223635,0.0990497475092125,0.08053529654603,0.09075941411160299,0.09847534481417737,0.07702380140489667,0.08201440766631793,0.09031602615673412,0.0939357016928847,0.08871009220239952,0.10150498825291975,0.10239180033425566,0.08095778352429721,0.08143790849673203,0.08975261054005546,0.08935472638702627,0.09805882635981825,0.09740984509994734,0.10114436173983493,0.08590730945268178,0.09634839579920992,0.0960892873743686,0.08573418976999009,0.09949549251509386,0.09049523075440793,0.09594350185169234,0.08672057776421524,0.10228595942881658,0.08825745123822046,0.09004890639858716,0.08332315086347344,0.09587526827592541,0.10156883298392733,0.07856156967472558,0.09604198668714797,0.10972426002080277,0.07984633488868514,0.08980074322637897,0.08646918075950737,0.0876315700409517,0.10918535846979496,0.08750899473786519,0.0826540223342549,0.10764624437521633,0.10545816512746779,0.0961129601956256,0.09134259259259261,0.08926355543566226,0.09637672256690623,0.09895779500430663,0.09538655090416412,0.09220131859463246,0.09138291439923986,0.10477676591971076,0.07980124805627797,0.10313919587768662,0.09174803927539468,0.09036796536796537,0.09701844362353051,0.09183705069885553,0.08500069041701187,0.0938126964345629,0.0944926205536285,0.09083933216797654,0.10104819210902297,0.09447776993648554,0.07316468253968254,0.1331295487627365,0.083244301994302,0.09917258900676348,0.08634426753976951,0.09287244454482611,0.08566755264772029,0.10531027487994701,0.07918946648426814,0.10471395881006865,0.09424332119004249,0.09653310310971172,0.08079732197200243,0.10304963260920567,0.07581018518518517,0.08132020050769143,0.08474179994578476,0.0844614055299539,0.07963621078375176,0.08949904262404262,0.09476635514018691,0.09064391339614401,0.107567506934247,0.10294825389078682,0.08082394423279565,0.08597739654296055,0.10226606392843504,0.09234100525378419,0.09071029934043631,0.1009561590885973,0.08244461551620905,0.1158804645646751,0.07956761917752164,0.08666482457440929,0.09835237106265143,0.08871647431453313,0.08477616784994059,0.09787297946701617,0.09727237802535535,0.08921235783398403,0.10085057564896274,0.08532748129541823,0.08697611459511327,0.09500451327854055,0.0738425925925926,0.08809325730982286,0.08783663491759165,0.08990110672802981,0.08417227465370399,0.08255851014609972,0.07933384852120744,0.09249472896687752,0.09219828776581054,0.09876699237550468,0.09272572942126955,0.10594794905361915,0.08701543416071397,0.08813677480786235,0.08637195360000544,0.0930510259546134,0.09802156443901944,0.09614800759013283,0.09721099570248826,0.08755556919216713,0.08507128610221394,0.08368895372617458,0.08883158089926996,0.08665467230676262,0.07908103541291316,0.09577202593148254,0.09667497435403141,0.08523865858663897,0.09905563749590297,0.08627356543277832,0.0863705113192818,0.09006176810331112,0.08263656823296732,0.09551428384515534,0.1048718383975556,0.0973745447359724,0.08609709701430816,0.08908351949669778,0.12120775729646699,0.09372421475328677,0.0864011457409807,0.0858534111607882,0.08501136621178929,0.08859910581222057,0.09324134809577528,0.07883256305568796,0.09861248082401927,0.09228562647269745,0.08567323481116584,0.08978650215763617,0.08931683663784921,0.07808438865232539,0.09032449812217988,0.08843505477308294,0.09517345859768991,0.08383030631607483,0.0870311291569992,0.10087295690936107,0.08859713837425576,0.10108915299517074,0.08114572516441675,0.08095682756928446,0.09471727117869458,0.09267256105060333,0.09048643950992806,0.09664084494727825,0.09592772768290282,0.07979502196193265,0.07539186558754225,0.09933554817275747,0.11970839617898442,0.08505673214545001,0.10056715648362981,0.08535681414188254,0.0882750255010614,0.10791643760307862,0.07783589795676535,0.08703741601009585,0.08460414542983352,0.09400189259844235,0.08737771219325571,0.08917778420277284,0.08688062306969249,0.09418653297370469,0.08401925554274867,0.09432823813354786,0.09022305734028366,0.08143955087835598,0.10393844682413622,0.09561383784078442,0.09915446591007536,0.08998431811430506,0.09246484388300588,0.09117773047936495,0.0913683091102446,0.09175829857640205,0.09162305479499533,0.09305776861311588,0.08888526839307151,0.09879400192904178,0.08965267977005954,0.09276593701996928,0.09228135373822995,0.09265980799422037,0.09261931187569367,0.08886579388223616,0.08163501778971333,0.08001181641525479,0.09199841250457932,0.08357800567915528,0.0871197788299943,0.09414141414141414,0.08555544186363792,0.09207567597579257,0.08585400282314984,0.07985666839082026,0.09034947558177646,0.09761164081017022,0.08853076530318962,0.09071914480077746,0.09265446712455094,0.08830721121890572,0.09798410345111605,0.08600880600880602,0.07108940165000988,0.09193052913890067,0.09364138213044366,0.09293227601899351,0.08639602101712057,0.08556973314124991,0.08042092537641499,0.08140786354595242,0.09198462749266637,0.09967607939149692,0.09369032328216001,0.08886937564343245,0.0968960918239502,0.09025373667435982,0.09483619187994104,0.10271087459829295,0.07838986702888683,0.09234327533830435,0.08923125048877767,0.09753493788819875,0.10406290281000258,0.08018770271202816,0.08090184341383869,0.08483296640183785,0.08504349323916974,0.10278306178149035,0.09056294745373497,0.08649984396412533,0.09317522783761392,0.09812117453003805,0.09486126380274776,0.08231170973062121,0.09918307498952661,0.08544269121192198,0.07442367601246105,0.0903426952171413,0.07328843956890975,0.09713658989285412,0.08128567199322534,0.1045836422041018,0.09095432819249048,0.08093876496425802,0.08213656311551884,0.0841748174679708,0.12008721600589242,0.08355047872985091,0.08741258741258742,0.09086995000837181,0.07295238486335544,0.0977756112143437,0.09538556359374367,0.07745822774517908,0.09987049332135081,0.09361577575233647,0.09900035861574323,0.07431968114348542,0.08820878400524418,0.08998892549818063,0.0849471041778734,0.10128016158969319,0.0886634199134199,0.08564862454551692,0.081258898948817,0.08681303971773363,0.10073260073260074,0.08438212556747762,0.08589400795283147,0.0888039992454254,0.09704947702927373,0.07866858224686817,0.08744647629956909,0.08235294117647057,0.09742186230338071,0.0897167842109278,0.09869375907111756,0.09104340111914834,0.09523405698778833,0.09796014522879078,0.08910614235855797,0.10688648380016288,0.09346655328798185,0.08931623490733767,0.08965030708792121,0.09254662862910287,0.0995606575963719,0.09002243549794342,0.09071144432403788,0.09726160935838354,0.11537335285505125,0.08722693235967573,0.09751858532391565,0.11077761924174478,0.08611638836116388,0.08680213704930222,0.08715806755353822,0.09440496599015648,0.08174366046119666,0.09471885130080623,0.11051179212943918,0.08361111111111111,0.08435665523801772,0.0929379067889211,0.0875253778479585,0.09486869605037994,0.09419961481817152,0.10190351732387451,0.08761946426167719,0.07657218625154981,0.09923514811417472,0.07208237986270023,0.09138864930136277,0.08450099841347994,0.08470764617691154,0.08266902257286873,0.0882936507936508,0.0851373897647179,0.07890472488554892,0.08036085814659436,0.08507333849897368,0.08815151640702684,0.09140433325270396,0.10024750782863158,0.08277996392851288,0.08854560172692931,0.08482758620689657,0.08496681347310961,0.07104436035963119,0.11072846775297825,0.07578505086245024,0.0960749208098058,0.09403545740325653,0.08309337159057915,0.07867527015470731,0.09740967750811733,0.10188885717004473,0.07554979339415957,0.09386746803850658,0.09919477924015632,0.0929970386323866,0.10178859601936525,0.07987805704679787,0.0919439943495783,0.11009618664301793,0.09204202621026031,0.08023302364748272,0.09452482522031484,0.08941993464052288,0.08962589253714884,0.09421385376580538,0.09043573299239066,0.08466063348416289,0.09048147995776251,0.09722222222222222,0.090554462480188,0.0839213528834884,0.0831441957313899,0.08199480884286767,0.08263802683946458,0.08919729133901531,0.09209370926802497,0.09365892719674476,0.08955300127713921,0.08681649755861065,0.08864885921359719,0.08264479519079133,0.08815433640513307,0.09123343527013253,0.08379221732745962,0.08697948929726754,0.08312289562289563,0.09599880763654595,0.08326571937781291,0.1142571896059236,0.09400684118010358,0.0833393588194179,0.11029029166096126,0.09570594556119061,0.09013522485535817,0.08398081070618812,0.08415936016132218,0.08262671331155964,0.0823304356248638,0.07478545370922052,0.08451166875442515,0.08651017364294414,0.0996930819001272,0.09057315233785822,0.08574660633484163,0.0848335893497184,0.07962736298109616,0.11102043304233573,0.09311248840888015,0.10291987757555884,0.09495599884677164,0.09226906939954604,0.10082004508696822,0.09675121558425469,0.09355448218516879,0.08811885959778859,0.0919771810692496,0.09528286235690978,0.08564932733892888,0.07729643706611156,0.09663563811769169,0.08371299189297068,0.1003625302108509,0.0898415743548487,0.0748256672735392,0.1046839573079688,0.08714874279691757,0.0799614002395847,0.10230391412223402,0.11175096206706982,0.07610593313537886,0.10324720068906117,0.09947098928813934,0.08015604654456032,0.08774541554362283,0.07744246366668038,0.09231098071798194,0.09475359911406424,0.09823289549148798,0.1006075867166829,0.0991800597063755,0.08787577274467968,0.08819832282966986,0.11131429116268934,0.11261676499508358,0.08252046443127718,0.10373645961881255,0.09297943194301467,0.09188199094778632,0.09927371889248932,0.09430443340261241,0.09306621492736707,0.09875354958497161,0.07878124912906552,0.09159916631140164,0.07917731831091154,0.09745658877264156,0.0963299804509142,0.09055010893246188,0.08168217497177216,0.0931941513415737,0.08865889212827988,0.07378825873381195,0.0830936335744028,0.09564209742167776,0.09238962616011796,0.09537303274020364,0.08788871821129886,0.09982120051085569,0.08793825962756353,0.08807978851237683,0.09387915160608334,0.10561847800585515,0.08995189940537061,0.08918984197087847,0.09530213376367222,0.10784841923207587,0.08735667174023339,0.09801315334025615,0.07780649112906557,0.09398298530549111,0.09209530488397605,0.08004962276570966,0.09940184175185683,0.08509168849726126,0.08411940809169448,0.0901131262098601,0.0801111582056085,0.10077118214104515,0.08283365965084026,0.09427370025379157,0.09595511491228975,0.08722306316224027,0.10367286144680274,0.08350954634716419,0.09432870370370369,0.08654911977527935,0.08502623230844313,0.09047126020258495,0.08463062167736489,0.0799068249857042,0.09476413516226162,0.09183222428574365,0.088773681515617,0.09641162916779616,0.0797110414604641,0.07671698557748943,0.09426470389536692,0.08152672822095684,0.08592166396166091,0.08476206176502912,0.09524295943695925,0.08699098798397863,0.08193866152127552,0.09450087374399302,0.08107261996407493,0.084728185093665,0.08415932702533199,0.09115007050656254,0.10506932110748557,0.09292231645591048,0.10372296854521626,0.09336188071516309,0.08201009354997539,0.09337503899074619,0.08509194125632481,0.09093752685400018,0.08594987597297066,0.08044188067629002,0.08798092187909827,0.08851013447235004,0.06889272594924924,0.09227312163803575,0.09253605785538867,0.11400494777350192,0.07339173839963328,0.09837947356228843,0.08967551622418878,0.08743777432364884,0.10418047500690417,0.0877411978024952,0.09137448667963963,0.07221705806442827,0.09014705882352941,0.07101706527154958,0.09235346117231064,0.08856925418569254,0.0975680321021132,0.10418511038565816,0.07981903046184081,0.0917067801734534,0.10459002661737779,0.09409329398262009,0.09301144756277695,0.08343030575233583,0.08160121053717587,0.08076407156420395,0.09137439455875786,0.11925593426658551,0.09782800216860939,0.09355921855921856,0.08506098712284278,0.08786640695519976,0.08542468389224847,0.10013679890560875,0.08665783555651398,0.08592610430714187,0.09138129189434709,0.0953763440860215,0.1084875547440245,0.08419695396330909,0.09345484560634355,0.1017261767271248,0.09200845494085605,0.09680213697041648,0.08828926175864951,0.09880694400640276,0.08257550010127329,0.09021784018170555,0.08952646847270658,0.07324433618850887,0.09915990375596428,0.09453490548381059,0.10312607469564619,0.08381665750412315,0.07736422777120833,0.0939235157992759,0.09378657084245454,0.09744245524296674,0.09212310635172755,0.09522550426833874,0.10630841121495326,0.09392524163886751,0.08700160970777612,0.08382958046440461,0.09755168437525738,0.09214263229082709,0.08684366303556484,0.08555226824457593,0.08904569892473119,0.09274036994924983,0.0891774006678934,0.08884670547540707,0.10269607843137254,0.10217355165821626,0.08769448856552407,0.10165626831201957,0.09188561967319908,0.10572443661755522,0.09844227546090902,0.09696764322314982,0.09229315053453552,0.10734766165609284,0.09189774829563457,0.08660441553482791,0.10823939609356487,0.08621358090768112,0.08695886171751487,0.08046888378943041,0.09106837650926622,0.09013671409808845,0.07864517702532417,0.09190410915901934,0.10133491021301469,0.09678816758462777,0.0987357443870384,0.07691779316408397,0.08203069489839421,0.10175270436806794,0.08813611755607115,0.0992100799117088,0.09107905982905982,0.09699198138684614,0.08417938604013032,0.08519778949251924,0.09042367366510258,0.0937369082530373,0.08744535631804685,0.09596998046674206,0.08707623413717551,0.09343665487830247,0.11663221360895781,0.08537467700258397,0.09770717045942465,0.0919867906266614,0.08893280632411066,0.09378188316979479,0.08944258926277934,0.09443971534611326,0.09985183080295526,0.08443761734084317,0.09084967320261439,0.0893633806681759,0.0867502541511352,0.10611157253599114,0.09318181818181817,0.0815315146837311,0.08522352358957438,0.09478503834230706,0.10793778492893535,0.09162785163023152,0.08216231766338376,0.07743371996685998,0.09767784361406993,0.08984988293623468,0.07942256892851247,0.0823824609604979,0.09790670983435257,0.12136355706970682,0.08874139626352015,0.06332126264241525,0.09089678144422028,0.11664613650124225,0.09736831424648082,0.09787961766631137,0.09054566435872075,0.08740807199271375,0.09833333333333333,0.09113572836470775,0.08002425794279168,0.07562608522002254,0.0861301826993504,0.09986339173881326,0.09737150061646269,0.09147984368572604,0.09577123695976156,0.09511084449049709,0.11089648903533689,0.07917178591642623,0.09182630906768838,0.09873666770218495,0.088853805514281,0.08521834105710145,0.09990888056186907,0.0792866307415961,0.09293776234293606,0.09297373902947102,0.09762846392573672,0.10113744010763465,0.07977757016434021,0.09400516795865634,0.08176299589603284,0.09146257944334867,0.08924555620590863,0.08153794935556416,0.08593433249588495,0.10493664563976958,0.07826382862879212,0.08394798403742948,0.09524453352892862,0.08545903613638066,0.08558863213267068,0.08191479356719646,0.08750050881263483,0.10069486649649528,0.08377473363774732,0.08872126923859246,0.10637440854951867,0.10539220708260766,0.08752184191592148,0.08605594704249411,0.08281084588327699,0.10212495649147231,0.10039912083691938,0.09609084728069395,0.07625639792518292,0.0843636376004653,0.09393737279278289,0.08859964731406986,0.09741182040558669,0.10382276729949311,0.08879025426670925,0.0806800518355005,0.08543967111175382,0.08803588281188779,0.09661544215142963,0.07257724169383768,0.09352674816592343,0.09758701504571107,0.08507518359580861,0.09142905295090427,0.10075186929786337,0.0849256136020842,0.10045679934791468,0.09014966396720894,0.08358381384697174,0.09709618258388805,0.0939697363674111,0.08995443247721624,0.08879463258093781,0.08517069701280226],\"xaxis\":\"x\",\"yaxis\":\"y\",\"type\":\"histogram\"}],                        {\"template\":{\"data\":{\"barpolar\":[{\"marker\":{\"line\":{\"color\":\"white\",\"width\":0.5},\"pattern\":{\"fillmode\":\"overlay\",\"size\":10,\"solidity\":0.2}},\"type\":\"barpolar\"}],\"bar\":[{\"error_x\":{\"color\":\"rgb(36,36,36)\"},\"error_y\":{\"color\":\"rgb(36,36,36)\"},\"marker\":{\"line\":{\"color\":\"white\",\"width\":0.5},\"pattern\":{\"fillmode\":\"overlay\",\"size\":10,\"solidity\":0.2}},\"type\":\"bar\"}],\"carpet\":[{\"aaxis\":{\"endlinecolor\":\"rgb(36,36,36)\",\"gridcolor\":\"white\",\"linecolor\":\"white\",\"minorgridcolor\":\"white\",\"startlinecolor\":\"rgb(36,36,36)\"},\"baxis\":{\"endlinecolor\":\"rgb(36,36,36)\",\"gridcolor\":\"white\",\"linecolor\":\"white\",\"minorgridcolor\":\"white\",\"startlinecolor\":\"rgb(36,36,36)\"},\"type\":\"carpet\"}],\"choropleth\":[{\"colorbar\":{\"outlinewidth\":1,\"tickcolor\":\"rgb(36,36,36)\",\"ticks\":\"outside\"},\"type\":\"choropleth\"}],\"contourcarpet\":[{\"colorbar\":{\"outlinewidth\":1,\"tickcolor\":\"rgb(36,36,36)\",\"ticks\":\"outside\"},\"type\":\"contourcarpet\"}],\"contour\":[{\"colorbar\":{\"outlinewidth\":1,\"tickcolor\":\"rgb(36,36,36)\",\"ticks\":\"outside\"},\"colorscale\":[[0.0,\"#440154\"],[0.1111111111111111,\"#482878\"],[0.2222222222222222,\"#3e4989\"],[0.3333333333333333,\"#31688e\"],[0.4444444444444444,\"#26828e\"],[0.5555555555555556,\"#1f9e89\"],[0.6666666666666666,\"#35b779\"],[0.7777777777777778,\"#6ece58\"],[0.8888888888888888,\"#b5de2b\"],[1.0,\"#fde725\"]],\"type\":\"contour\"}],\"heatmapgl\":[{\"colorbar\":{\"outlinewidth\":1,\"tickcolor\":\"rgb(36,36,36)\",\"ticks\":\"outside\"},\"colorscale\":[[0.0,\"#440154\"],[0.1111111111111111,\"#482878\"],[0.2222222222222222,\"#3e4989\"],[0.3333333333333333,\"#31688e\"],[0.4444444444444444,\"#26828e\"],[0.5555555555555556,\"#1f9e89\"],[0.6666666666666666,\"#35b779\"],[0.7777777777777778,\"#6ece58\"],[0.8888888888888888,\"#b5de2b\"],[1.0,\"#fde725\"]],\"type\":\"heatmapgl\"}],\"heatmap\":[{\"colorbar\":{\"outlinewidth\":1,\"tickcolor\":\"rgb(36,36,36)\",\"ticks\":\"outside\"},\"colorscale\":[[0.0,\"#440154\"],[0.1111111111111111,\"#482878\"],[0.2222222222222222,\"#3e4989\"],[0.3333333333333333,\"#31688e\"],[0.4444444444444444,\"#26828e\"],[0.5555555555555556,\"#1f9e89\"],[0.6666666666666666,\"#35b779\"],[0.7777777777777778,\"#6ece58\"],[0.8888888888888888,\"#b5de2b\"],[1.0,\"#fde725\"]],\"type\":\"heatmap\"}],\"histogram2dcontour\":[{\"colorbar\":{\"outlinewidth\":1,\"tickcolor\":\"rgb(36,36,36)\",\"ticks\":\"outside\"},\"colorscale\":[[0.0,\"#440154\"],[0.1111111111111111,\"#482878\"],[0.2222222222222222,\"#3e4989\"],[0.3333333333333333,\"#31688e\"],[0.4444444444444444,\"#26828e\"],[0.5555555555555556,\"#1f9e89\"],[0.6666666666666666,\"#35b779\"],[0.7777777777777778,\"#6ece58\"],[0.8888888888888888,\"#b5de2b\"],[1.0,\"#fde725\"]],\"type\":\"histogram2dcontour\"}],\"histogram2d\":[{\"colorbar\":{\"outlinewidth\":1,\"tickcolor\":\"rgb(36,36,36)\",\"ticks\":\"outside\"},\"colorscale\":[[0.0,\"#440154\"],[0.1111111111111111,\"#482878\"],[0.2222222222222222,\"#3e4989\"],[0.3333333333333333,\"#31688e\"],[0.4444444444444444,\"#26828e\"],[0.5555555555555556,\"#1f9e89\"],[0.6666666666666666,\"#35b779\"],[0.7777777777777778,\"#6ece58\"],[0.8888888888888888,\"#b5de2b\"],[1.0,\"#fde725\"]],\"type\":\"histogram2d\"}],\"histogram\":[{\"marker\":{\"line\":{\"color\":\"white\",\"width\":0.6}},\"type\":\"histogram\"}],\"mesh3d\":[{\"colorbar\":{\"outlinewidth\":1,\"tickcolor\":\"rgb(36,36,36)\",\"ticks\":\"outside\"},\"type\":\"mesh3d\"}],\"parcoords\":[{\"line\":{\"colorbar\":{\"outlinewidth\":1,\"tickcolor\":\"rgb(36,36,36)\",\"ticks\":\"outside\"}},\"type\":\"parcoords\"}],\"pie\":[{\"automargin\":true,\"type\":\"pie\"}],\"scatter3d\":[{\"line\":{\"colorbar\":{\"outlinewidth\":1,\"tickcolor\":\"rgb(36,36,36)\",\"ticks\":\"outside\"}},\"marker\":{\"colorbar\":{\"outlinewidth\":1,\"tickcolor\":\"rgb(36,36,36)\",\"ticks\":\"outside\"}},\"type\":\"scatter3d\"}],\"scattercarpet\":[{\"marker\":{\"colorbar\":{\"outlinewidth\":1,\"tickcolor\":\"rgb(36,36,36)\",\"ticks\":\"outside\"}},\"type\":\"scattercarpet\"}],\"scattergeo\":[{\"marker\":{\"colorbar\":{\"outlinewidth\":1,\"tickcolor\":\"rgb(36,36,36)\",\"ticks\":\"outside\"}},\"type\":\"scattergeo\"}],\"scattergl\":[{\"marker\":{\"colorbar\":{\"outlinewidth\":1,\"tickcolor\":\"rgb(36,36,36)\",\"ticks\":\"outside\"}},\"type\":\"scattergl\"}],\"scattermapbox\":[{\"marker\":{\"colorbar\":{\"outlinewidth\":1,\"tickcolor\":\"rgb(36,36,36)\",\"ticks\":\"outside\"}},\"type\":\"scattermapbox\"}],\"scatterpolargl\":[{\"marker\":{\"colorbar\":{\"outlinewidth\":1,\"tickcolor\":\"rgb(36,36,36)\",\"ticks\":\"outside\"}},\"type\":\"scatterpolargl\"}],\"scatterpolar\":[{\"marker\":{\"colorbar\":{\"outlinewidth\":1,\"tickcolor\":\"rgb(36,36,36)\",\"ticks\":\"outside\"}},\"type\":\"scatterpolar\"}],\"scatter\":[{\"fillpattern\":{\"fillmode\":\"overlay\",\"size\":10,\"solidity\":0.2},\"type\":\"scatter\"}],\"scatterternary\":[{\"marker\":{\"colorbar\":{\"outlinewidth\":1,\"tickcolor\":\"rgb(36,36,36)\",\"ticks\":\"outside\"}},\"type\":\"scatterternary\"}],\"surface\":[{\"colorbar\":{\"outlinewidth\":1,\"tickcolor\":\"rgb(36,36,36)\",\"ticks\":\"outside\"},\"colorscale\":[[0.0,\"#440154\"],[0.1111111111111111,\"#482878\"],[0.2222222222222222,\"#3e4989\"],[0.3333333333333333,\"#31688e\"],[0.4444444444444444,\"#26828e\"],[0.5555555555555556,\"#1f9e89\"],[0.6666666666666666,\"#35b779\"],[0.7777777777777778,\"#6ece58\"],[0.8888888888888888,\"#b5de2b\"],[1.0,\"#fde725\"]],\"type\":\"surface\"}],\"table\":[{\"cells\":{\"fill\":{\"color\":\"rgb(237,237,237)\"},\"line\":{\"color\":\"white\"}},\"header\":{\"fill\":{\"color\":\"rgb(217,217,217)\"},\"line\":{\"color\":\"white\"}},\"type\":\"table\"}]},\"layout\":{\"annotationdefaults\":{\"arrowhead\":0,\"arrowwidth\":1},\"autotypenumbers\":\"strict\",\"coloraxis\":{\"colorbar\":{\"outlinewidth\":1,\"tickcolor\":\"rgb(36,36,36)\",\"ticks\":\"outside\"}},\"colorscale\":{\"diverging\":[[0.0,\"rgb(103,0,31)\"],[0.1,\"rgb(178,24,43)\"],[0.2,\"rgb(214,96,77)\"],[0.3,\"rgb(244,165,130)\"],[0.4,\"rgb(253,219,199)\"],[0.5,\"rgb(247,247,247)\"],[0.6,\"rgb(209,229,240)\"],[0.7,\"rgb(146,197,222)\"],[0.8,\"rgb(67,147,195)\"],[0.9,\"rgb(33,102,172)\"],[1.0,\"rgb(5,48,97)\"]],\"sequential\":[[0.0,\"#440154\"],[0.1111111111111111,\"#482878\"],[0.2222222222222222,\"#3e4989\"],[0.3333333333333333,\"#31688e\"],[0.4444444444444444,\"#26828e\"],[0.5555555555555556,\"#1f9e89\"],[0.6666666666666666,\"#35b779\"],[0.7777777777777778,\"#6ece58\"],[0.8888888888888888,\"#b5de2b\"],[1.0,\"#fde725\"]],\"sequentialminus\":[[0.0,\"#440154\"],[0.1111111111111111,\"#482878\"],[0.2222222222222222,\"#3e4989\"],[0.3333333333333333,\"#31688e\"],[0.4444444444444444,\"#26828e\"],[0.5555555555555556,\"#1f9e89\"],[0.6666666666666666,\"#35b779\"],[0.7777777777777778,\"#6ece58\"],[0.8888888888888888,\"#b5de2b\"],[1.0,\"#fde725\"]]},\"colorway\":[\"#1F77B4\",\"#FF7F0E\",\"#2CA02C\",\"#D62728\",\"#9467BD\",\"#8C564B\",\"#E377C2\",\"#7F7F7F\",\"#BCBD22\",\"#17BECF\"],\"font\":{\"color\":\"rgb(36,36,36)\"},\"geo\":{\"bgcolor\":\"white\",\"lakecolor\":\"white\",\"landcolor\":\"white\",\"showlakes\":true,\"showland\":true,\"subunitcolor\":\"white\"},\"hoverlabel\":{\"align\":\"left\"},\"hovermode\":\"closest\",\"mapbox\":{\"style\":\"light\"},\"paper_bgcolor\":\"white\",\"plot_bgcolor\":\"white\",\"polar\":{\"angularaxis\":{\"gridcolor\":\"rgb(232,232,232)\",\"linecolor\":\"rgb(36,36,36)\",\"showgrid\":false,\"showline\":true,\"ticks\":\"outside\"},\"bgcolor\":\"white\",\"radialaxis\":{\"gridcolor\":\"rgb(232,232,232)\",\"linecolor\":\"rgb(36,36,36)\",\"showgrid\":false,\"showline\":true,\"ticks\":\"outside\"}},\"scene\":{\"xaxis\":{\"backgroundcolor\":\"white\",\"gridcolor\":\"rgb(232,232,232)\",\"gridwidth\":2,\"linecolor\":\"rgb(36,36,36)\",\"showbackground\":true,\"showgrid\":false,\"showline\":true,\"ticks\":\"outside\",\"zeroline\":false,\"zerolinecolor\":\"rgb(36,36,36)\"},\"yaxis\":{\"backgroundcolor\":\"white\",\"gridcolor\":\"rgb(232,232,232)\",\"gridwidth\":2,\"linecolor\":\"rgb(36,36,36)\",\"showbackground\":true,\"showgrid\":false,\"showline\":true,\"ticks\":\"outside\",\"zeroline\":false,\"zerolinecolor\":\"rgb(36,36,36)\"},\"zaxis\":{\"backgroundcolor\":\"white\",\"gridcolor\":\"rgb(232,232,232)\",\"gridwidth\":2,\"linecolor\":\"rgb(36,36,36)\",\"showbackground\":true,\"showgrid\":false,\"showline\":true,\"ticks\":\"outside\",\"zeroline\":false,\"zerolinecolor\":\"rgb(36,36,36)\"}},\"shapedefaults\":{\"fillcolor\":\"black\",\"line\":{\"width\":0},\"opacity\":0.3},\"ternary\":{\"aaxis\":{\"gridcolor\":\"rgb(232,232,232)\",\"linecolor\":\"rgb(36,36,36)\",\"showgrid\":false,\"showline\":true,\"ticks\":\"outside\"},\"baxis\":{\"gridcolor\":\"rgb(232,232,232)\",\"linecolor\":\"rgb(36,36,36)\",\"showgrid\":false,\"showline\":true,\"ticks\":\"outside\"},\"bgcolor\":\"white\",\"caxis\":{\"gridcolor\":\"rgb(232,232,232)\",\"linecolor\":\"rgb(36,36,36)\",\"showgrid\":false,\"showline\":true,\"ticks\":\"outside\"}},\"title\":{\"x\":0.5,\"xanchor\":\"center\"},\"xaxis\":{\"automargin\":true,\"gridcolor\":\"rgb(232,232,232)\",\"linecolor\":\"rgb(36,36,36)\",\"showgrid\":true,\"showline\":true,\"ticks\":\"outside\",\"title\":{\"standoff\":15},\"zeroline\":false,\"zerolinecolor\":\"rgb(36,36,36)\"},\"yaxis\":{\"automargin\":true,\"gridcolor\":\"rgb(232,232,232)\",\"linecolor\":\"rgb(36,36,36)\",\"showgrid\":true,\"showline\":true,\"ticks\":\"outside\",\"title\":{\"standoff\":15},\"zeroline\":false,\"zerolinecolor\":\"rgb(36,36,36)\"},\"autosize\":true,\"height\":400,\"margin\":{\"b\":30,\"l\":30,\"r\":30,\"t\":30},\"width\":600}},\"xaxis\":{\"anchor\":\"y\",\"domain\":[0.0,1.0],\"title\":{\"text\":\"TVD\"},\"range\":[0,0.2]},\"yaxis\":{\"anchor\":\"x\",\"domain\":[0.0,1.0],\"title\":{\"text\":\"probability\"}},\"legend\":{\"tracegroupgap\":0},\"title\":{\"text\":\"Empirical Distribution of the TVD\"},\"barmode\":\"relative\"},                        {\"responsive\": true}                    ).then(function(){\n",
       "                            \n",
       "var gd = document.getElementById('04f137f0-e6e2-4cc3-8a47-ad3f2b3ae3d1');\n",
       "var x = new MutationObserver(function (mutations, observer) {{\n",
       "        var display = window.getComputedStyle(gd).display;\n",
       "        if (!display || display === 'none') {{\n",
       "            console.log([gd, 'removed!']);\n",
       "            Plotly.purge(gd);\n",
       "            observer.disconnect();\n",
       "        }}\n",
       "}});\n",
       "\n",
       "// Listen for the removal of the full notebook cells\n",
       "var notebookContainer = gd.closest('#notebook-container');\n",
       "if (notebookContainer) {{\n",
       "    x.observe(notebookContainer, {childList: true});\n",
       "}}\n",
       "\n",
       "// Listen for the clearing of the current output cell\n",
       "var outputEl = gd.closest('.output');\n",
       "if (outputEl) {{\n",
       "    x.observe(outputEl, {childList: true});\n",
       "}}\n",
       "\n",
       "                        })                };                });            </script>        </div>"
      ]
     },
     "metadata": {},
     "output_type": "display_data"
    },
    {
     "data": {
      "text/plain": [
       "0.001"
      ]
     },
     "execution_count": 173,
     "metadata": {},
     "output_type": "execute_result"
    }
   ],
   "source": [
    "def tvd_of_groups(df, groups, cats):\n",
    "    cnts = df.pivot_table(index=cats, columns=groups, aggfunc='size')\n",
    "    distr = cnts / cnts.sum()\n",
    "    return (distr['cold'] - distr['normal']).abs().sum() / 2\n",
    "\n",
    "observed_tvd = tvd_of_groups(outage, groups='CLIMATE.CATEGORY', cats='OUTAGE.DURATION')\n",
    "\n",
    "N = 1000\n",
    "tvds = []\n",
    "for _ in range(N):\n",
    "    with_shuffled = outage.assign(shuffled_cat=np.random.permutation(outage['CLIMATE.CATEGORY']))\n",
    "    tvd = tvd_of_groups(with_shuffled, groups='shuffled_cat', cats='OUTAGE.DURATION')\n",
    "    tvds.append(tvd)\n",
    "\n",
    "fig = px.histogram(pd.DataFrame(tvds, columns=['TVD']), x='TVD', nbins=50, histnorm='probability', \n",
    "                   title='Empirical Distribution of the TVD')\n",
    "fig.update_layout(xaxis_range=[0, 0.2])\n",
    "fig.show()\n",
    "\n",
    "p_value = (np.array(tvds) >= observed_tvd).mean()\n",
    "p_value"
   ]
  },
  {
   "cell_type": "code",
   "execution_count": 159,
   "metadata": {},
   "outputs": [
    {
     "data": {
      "text/plain": [
       "CLIMATE.CATEGORY\n",
       "cold      2901.35\n",
       "normal    2666.11\n",
       "warm      2837.37\n",
       "Name: OUTAGE.DURATION, dtype: float64"
      ]
     },
     "execution_count": 159,
     "metadata": {},
     "output_type": "execute_result"
    }
   ],
   "source": [
    "avg_duration = outage.groupby('CLIMATE.CATEGORY')['OUTAGE.DURATION'].mean()\n",
    "avg_duration"
   ]
  },
  {
   "cell_type": "markdown",
   "metadata": {},
   "source": [
    "## Step 5: Framing a Prediction Problem"
   ]
  },
  {
   "cell_type": "markdown",
   "metadata": {},
   "source": [
    "Identify a prediction problem. Feel free to use one of the example prediction problems stated in the “Example Questions and Prediction Problems” section of your dataset’s description page or pose a hypothesis test of your own. The prediction problem you come up with doesn’t have to be related to the question you were answering in Steps 1-4, but ideally, your entire project has some sort of coherent theme.\t"
   ]
  },
  {
   "cell_type": "code",
   "execution_count": 166,
   "metadata": {
    "ExecuteTime": {
     "end_time": "2019-10-31T23:36:28.657068Z",
     "start_time": "2019-10-31T23:36:28.654650Z"
    }
   },
   "outputs": [],
   "source": [
    "# TODO"
   ]
  },
  {
   "cell_type": "markdown",
   "metadata": {},
   "source": [
    "## Step 6: Baseline Model"
   ]
  },
  {
   "cell_type": "code",
   "execution_count": 167,
   "metadata": {
    "ExecuteTime": {
     "end_time": "2019-10-31T23:36:28.662099Z",
     "start_time": "2019-10-31T23:36:28.660016Z"
    }
   },
   "outputs": [],
   "source": [
    "# TODO"
   ]
  },
  {
   "cell_type": "code",
   "execution_count": 3,
   "metadata": {},
   "outputs": [],
   "source": [
    "# outage = pd.get_dummies(outage, columns=['CLIMATE.CATEGORY'], prefix='CLIMATE')\n",
    "# pd.to_timedelta(outage['OUTAGE.RESTORATION'] - outage['OUTAGE.START']).total_seconds() / 60 #3060"
   ]
  },
  {
   "cell_type": "code",
   "execution_count": 4,
   "metadata": {},
   "outputs": [],
   "source": [
    "# outage['DAY_OF_WEEK'] = outage['OUTAGE.START'].dt.dayofweek\n",
    "# outage['MONTH'] = outage['OUTAGE.START'].dt.month\n",
    "# outage['QUARTER'] = outage['OUTAGE.START'].dt.quarter\n",
    "\n",
    "# # Select features and target variable\n",
    "# features = ['DAY_OF_WEEK', 'MONTH', 'QUARTER', 'RES.PRICE', 'COM.PRICE', 'IND.PRICE', \n",
    "#             'TOTAL.PRICE', 'RES.SALES', 'COM.SALES', 'IND.SALES', 'TOTAL.SALES',\n",
    "#             'POPULATION', 'POPPCT_URBAN', 'POPDEN_URBAN', 'POPDEN_RURAL']\n",
    "# target = 'TOTAL.SALES'\n",
    "\n",
    "# X = outage[features]\n",
    "# y = outage[target]\n",
    "\n",
    "# # Check for missing values\n",
    "# print(\"Missing values per column:\")\n",
    "# print(X.isna().sum())\n",
    "\n",
    "# # Handle missing values (impute with mean)\n",
    "# imputer = SimpleImputer(strategy='mean')\n",
    "# X_imputed = pd.DataFrame(imputer.fit_transform(X), columns=X.columns)\n",
    "\n",
    "# # Verify no missing values remain\n",
    "# print(\"Missing values after imputation:\")\n",
    "# print(X_imputed.isna().sum())\n",
    "\n",
    "# # Split the data into train and test sets\n",
    "# X_train, X_test, y_train, y_test = train_test_split(X_imputed, y, test_size=0.2, random_state=42)\n",
    "\n",
    "# # Initialize the model\n",
    "# lr_model = LinearRegression()\n",
    "\n",
    "# # Train the model\n",
    "# lr_model.fit(X_train, y_train)\n",
    "\n",
    "# # Predict on the test set\n",
    "# y_pred = lr_model.predict(X_test)\n",
    "\n",
    "# # Evaluate the model\n",
    "# mae = mean_absolute_error(y_test, y_pred)\n",
    "# rmse = mean_squared_error(y_test, y_pred, squared=False)\n",
    "# r2 = r2_score(y_test, y_pred)\n",
    "\n",
    "# print(f\"MAE: {mae}\")\n",
    "# print(f\"RMSE: {rmse}\")\n",
    "# print(f\"R²: {r2}\")\n",
    "\n",
    "# # Cross-validation\n",
    "# cv_scores = cross_val_score(lr_model, X_imputed, y, cv=5, scoring='neg_mean_absolute_error')\n",
    "# cv_mae = -cv_scores.mean()\n",
    "# print(f\"Cross-validated MAE: {cv_mae}\")\n",
    "\n",
    "# # Hyperparameter tuning with Random Forest as an example\n",
    "# rf_model = RandomForestRegressor(random_state=42)\n",
    "# param_grid = {\n",
    "#     'n_estimators': [100, 200, 300],\n",
    "#     'max_depth': [10, 20, 30],\n",
    "#     'min_samples_split': [2, 5, 10]\n",
    "# }\n",
    "\n",
    "# grid_search = GridSearchCV(estimator=rf_model, param_grid=param_grid, cv=3, n_jobs=-1, scoring='neg_mean_absolute_error')\n",
    "# grid_search.fit(X_train, y_train)\n",
    "\n",
    "# # Best parameters\n",
    "# best_params = grid_search.best_params_\n",
    "# print(f\"Best parameters: {best_params}\")\n",
    "\n",
    "# # Predict using the best estimator\n",
    "# best_rf_model = grid_search.best_estimator_\n",
    "# y_pred_best_rf = best_rf_model.predict(X_test)\n",
    "\n",
    "# # Evaluate\n",
    "# mae_best_rf = mean_absolute_error(y_test, y_pred_best_rf)\n",
    "# rmse_best_rf = mean_squared_error(y_test, y_pred_best_rf, squared=False)\n",
    "# r2_best_rf = r2_score(y_test, y_pred_best_rf)\n",
    "\n",
    "# print(f\"MAE (Best RF): {mae_best_rf}\")\n",
    "# print(f\"RMSE (Best RF): {rmse_best_rf}\")\n",
    "# print(f\"R² (Best RF): {r2_best_rf}\")\n",
    "\n",
    "# # Error analysis\n",
    "# errors = y_test - y_pred_best_rf\n",
    "# large_errors = errors[abs(errors) > 1000000]  # Define a threshold for large errors\n",
    "\n",
    "# # Analyze large errors\n",
    "# print(outage.loc[large_errors.index])"
   ]
  },
  {
   "cell_type": "markdown",
   "metadata": {},
   "source": [
    "## Step 7: Final Model"
   ]
  },
  {
   "cell_type": "code",
   "execution_count": 168,
   "metadata": {
    "ExecuteTime": {
     "end_time": "2019-10-31T23:36:28.662099Z",
     "start_time": "2019-10-31T23:36:28.660016Z"
    }
   },
   "outputs": [],
   "source": [
    "# TODO"
   ]
  },
  {
   "cell_type": "markdown",
   "metadata": {},
   "source": [
    "## Step 8: Fairness Analysis"
   ]
  },
  {
   "cell_type": "code",
   "execution_count": 169,
   "metadata": {
    "ExecuteTime": {
     "end_time": "2019-10-31T23:36:28.666489Z",
     "start_time": "2019-10-31T23:36:28.664381Z"
    }
   },
   "outputs": [],
   "source": [
    "# TODO"
   ]
  }
 ],
 "metadata": {
  "kernelspec": {
   "display_name": "Python 3 (ipykernel)",
   "language": "python",
   "name": "python3"
  },
  "language_info": {
   "codemirror_mode": {
    "name": "ipython",
    "version": 3
   },
   "file_extension": ".py",
   "mimetype": "text/x-python",
   "name": "python",
   "nbconvert_exporter": "python",
   "pygments_lexer": "ipython3",
   "version": "3.8.19"
  }
 },
 "nbformat": 4,
 "nbformat_minor": 2
}
