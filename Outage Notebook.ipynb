{
 "cells": [
  {
   "cell_type": "markdown",
   "metadata": {},
   "source": [
    "# Power Outages Energy Consumption Statistical Analysis\n",
    "\n",
    "**Name(s)**: Diego Osborn\n",
    "\n",
    "**Website Link**: https://d2osborn.github.io/Power-Outages/"
   ]
  },
  {
   "cell_type": "code",
   "execution_count": 25,
   "metadata": {
    "ExecuteTime": {
     "end_time": "2019-10-31T23:36:28.652554Z",
     "start_time": "2019-10-31T23:36:27.180520Z"
    }
   },
   "outputs": [],
   "source": [
    "import pandas as pd\n",
    "import numpy as np\n",
    "from pathlib import Path\n",
    "import os\n",
    "from sklearn.linear_model import LinearRegression, Lasso\n",
    "import plotly.io as pio\n",
    "import matplotlib.pyplot as plt\n",
    "import seaborn as sns\n",
    "from itertools import combinations\n",
    "from sklearn.model_selection import train_test_split\n",
    "from sklearn.preprocessing import StandardScaler, OneHotEncoder, QuantileTransformer\n",
    "from sklearn.metrics import mean_absolute_error, mean_squared_error, r2_score\n",
    "from sklearn.pipeline import Pipeline\n",
    "from sklearn.model_selection import train_test_split, cross_val_score, GridSearchCV\n",
    "from sklearn.ensemble import RandomForestRegressor\n",
    "from sklearn.impute import SimpleImputer\n",
    "from sklearn.compose import ColumnTransformer\n",
    "import datetime\n",
    "import plotly.graph_objects as go\n",
    "\n",
    "pio.renderers.default = 'notebook'\n",
    "import plotly.express as px\n",
    "pd.options.plotting.backend = 'plotly'\n",
    "\n",
    "from dsc80_utils import *"
   ]
  },
  {
   "cell_type": "markdown",
   "metadata": {},
   "source": [
    "## Step 1: Introduction and Question Identification\t"
   ]
  },
  {
   "cell_type": "markdown",
   "metadata": {},
   "source": [
    "Understand the data you have access to. Brainstorm a few questions that interest you about the dataset. Pick one question you plan to investigate further. (As the data science lifecycle tells us, this question may change as you work on your project.)\t"
   ]
  },
  {
   "cell_type": "markdown",
   "metadata": {},
   "source": [
    "Question: What are the characteristics of major power outages with higher severity? Variables to consider include location, time, climate, land-use characteristics, electricity consumption patterns, economic characteristics, etc. What risk factors may an energy company want to look into when predicting the location and severity of its next major power outage?"
   ]
  },
  {
   "cell_type": "markdown",
   "metadata": {},
   "source": [
    "## Step 2: Data Cleaning and Exploratory Data Analysis"
   ]
  },
  {
   "cell_type": "markdown",
   "metadata": {},
   "source": [
    "Data Cleaning"
   ]
  },
  {
   "cell_type": "markdown",
   "metadata": {},
   "source": [
    "Clean the data appropriately. For instance, you may need to replace data that should be missing with NaN or create new columns out of given ones (e.g. compute distances, scale data, or get time information from time stamps).\t"
   ]
  },
  {
   "cell_type": "code",
   "execution_count": 26,
   "metadata": {},
   "outputs": [],
   "source": [
    "outage = pd.read_excel('outage.xlsx')\n",
    "outage = outage.iloc[4:, 1:]\n",
    "outage = outage.reset_index(drop=True)\n",
    "outage.columns = outage.iloc[0]\n",
    "outage = outage.iloc[2:, :]\n",
    "outage = outage.reset_index(drop=True)\n",
    "\n",
    "def change_to_time(date, time):\n",
    "    combined = pd.to_datetime(date[date.notna()].astype(str) + ' ' + time[time.notna()].astype(str), \n",
    "                              errors='coerce')\n",
    "    return combined\n",
    "\n",
    "outage['OUTAGE.START'] = change_to_time(outage['OUTAGE.START.DATE'], outage['OUTAGE.START.TIME'])\n",
    "outage['OUTAGE.RESTORATION'] = change_to_time(outage['OUTAGE.RESTORATION.DATE'], \n",
    "                                              outage['OUTAGE.RESTORATION.TIME'])\n",
    "\n",
    "outage = outage.drop(columns=['OUTAGE.START.DATE','OUTAGE.START.TIME','OUTAGE.RESTORATION.DATE',\n",
    "                              'OUTAGE.RESTORATION.TIME'])\n",
    "\n",
    "datetime_cols = ['OUTAGE.START', 'OUTAGE.RESTORATION']\n",
    "\n",
    "str_cols = ['U.S._STATE', 'POSTAL.CODE', 'NERC.REGION', \n",
    "            'CLIMATE.REGION', 'CLIMATE.CATEGORY', 'CAUSE.CATEGORY', \n",
    "            'CAUSE.CATEGORY.DETAIL', 'HURRICANE.NAMES']\n",
    "outage[str_cols] = outage[str_cols].astype('string')\n",
    "\n",
    "int_cols = ['OBS', 'YEAR', 'OUTAGE.DURATION', \n",
    "            'DEMAND.LOSS.MW', 'CUSTOMERS.AFFECTED', 'RES.SALES', \n",
    "            'COM.SALES', 'IND.SALES', 'TOTAL.SALES', \n",
    "            'RES.CUSTOMERS', 'COM.CUSTOMERS', 'IND.CUSTOMERS', \n",
    "            'TOTAL.CUSTOMERS', 'PC.REALGSP.STATE', 'PC.REALGSP.USA', \n",
    "            'UTIL.REALGSP', 'TOTAL.REALGSP', 'POPULATION']\n",
    "outage[int_cols] = outage[int_cols].astype('Int64')\n",
    "\n",
    "float_cols = [col for col in outage.columns if col not in str_cols and col not in int_cols \n",
    "              and col not in datetime_cols]\n",
    "outage[float_cols] = outage[float_cols].astype('Float64')\n",
    "\n",
    "outage[['OUTAGE.DURATION', \n",
    "        'DEMAND.LOSS.MW', \n",
    "        'CUSTOMERS.AFFECTED']] = outage[['OUTAGE.DURATION', 'DEMAND.LOSS.MW', \n",
    "                                         'CUSTOMERS.AFFECTED']].replace(0, np.nan)\n",
    "\n",
    "outage = outage.applymap(lambda x: np.nan if pd.isnull(x) else x)\n",
    "\n",
    "sunrise = datetime.time(6, 0, 0)\n",
    "sunset = datetime.time(20, 0, 0)\n",
    "outage['IS_DARK'] = np.where(outage['OUTAGE.START'].isnull(), np.nan, \n",
    "                             (outage['OUTAGE.START'].dt.time >= sunset) | \n",
    "                             (outage['OUTAGE.START'].dt.time <= sunrise))\n",
    "\n",
    "outage = outage.drop(columns=['CAUSE.CATEGORY.DETAIL', 'HURRICANE.NAMES'])\n",
    "\n",
    "outage = outage[(outage['U.S._STATE'] != 'Hawaii') & (outage['U.S._STATE'] != 'Alaska')]\n"
   ]
  },
  {
   "cell_type": "markdown",
   "metadata": {},
   "source": [
    "Univariate Analysis"
   ]
  },
  {
   "cell_type": "markdown",
   "metadata": {},
   "source": [
    "Look at the distributions of relevant columns separately by using DataFrame operations and drawing at least two relevant plots.\t"
   ]
  },
  {
   "cell_type": "code",
   "execution_count": 27,
   "metadata": {
    "scrolled": true
   },
   "outputs": [],
   "source": [
    "# Distribution of Outages during Day and Night Times\n",
    "dark_distribution = outage['IS_DARK'].value_counts().reset_index()\n",
    "dark_distribution.columns = ['IS_DARK', 'COUNT']\n",
    "fig = px.bar(dark_distribution, x='IS_DARK', y='COUNT', color='IS_DARK', \n",
    "             labels={'IS_DARK': 'Night Time', 'COUNT': 'Count'})\n",
    "fig.update_layout(title='Distribution of Outages during Day and Night Times', \n",
    "                  xaxis=dict(tickmode='array', tickvals=[False, True], ticktext=['Day', 'Night']))\n",
    "\n",
    "# Distribution of Total Sales\n",
    "fig = px.histogram(outage, x='TOTAL.SALES', title='Distribution of Total Sales')\n"
   ]
  },
  {
   "cell_type": "markdown",
   "metadata": {},
   "source": [
    "Bivariate Analysis"
   ]
  },
  {
   "cell_type": "markdown",
   "metadata": {},
   "source": [
    "Look at the statistics of pairs of columns to identify possible associations. For instance, you may create scatter plots and plot conditional distributions, or box-plots. You must plot at least two such plots in your notebook. The results of your bivariate analyses will be helpful in identifying interesting hypothesis tests!\t"
   ]
  },
  {
   "cell_type": "code",
   "execution_count": 28,
   "metadata": {
    "scrolled": true
   },
   "outputs": [],
   "source": [
    "# Count of Outage Events per Month\n",
    "outage_count_by_month = outage.groupby('MONTH')['OUTAGE.DURATION'].count()\n",
    "fig = px.bar(x=outage_count_by_month.index, y=outage_count_by_month.values,\n",
    "             labels={'x': 'Month', 'y': 'Count of Outages'},\n",
    "             title='Count of Outage Events per Month')\n",
    "fig.update_xaxes(type='category')\n",
    "\n",
    "# Median Outage Duration per Month\n",
    "outage_count_by_month = outage.groupby('MONTH')['OUTAGE.DURATION'].median()\n",
    "fig = px.bar(x=outage_count_by_month.index, y=outage_count_by_month.values,\n",
    "             labels={'x': 'Month', 'y': 'Outage Duration (MEDIAN)'},\n",
    "             title='Median Outage Duration per Month')\n",
    "fig.update_xaxes(type='category')\n",
    "\n",
    "# Median Outage Duration per State\n",
    "outage_fig = outage.groupby('POSTAL.CODE')['OUTAGE.DURATION'].median()\n",
    "outage_fig = pd.DataFrame(outage_fig).reset_index()\n",
    "fig = px.choropleth(\n",
    "    outage_fig, \n",
    "    locations=\"POSTAL.CODE\",\n",
    "    locationmode=\"USA-states\", \n",
    "    color=\"OUTAGE.DURATION\", \n",
    "    scope=\"usa\",\n",
    "    color_continuous_scale='reds',\n",
    "    labels={'TOTAL.SALES': 'Median Outage Duration per State'}\n",
    ")\n",
    "\n",
    "# Total Sales vs Customers Affected\n",
    "outage_sampled = outage.sample(1000, random_state=42)\n",
    "fig = px.scatter(outage_sampled, x='TOTAL.SALES', y='CUSTOMERS.AFFECTED', \n",
    "                  title='Total Sales vs Customers Affected',\n",
    "                  labels={'TOTAL.SALES': 'Total Sales', 'CUSTOMERS.AFFECTED': 'Customers Affected'})\n",
    "\n"
   ]
  },
  {
   "cell_type": "markdown",
   "metadata": {},
   "source": [
    "Interesting Aggregates"
   ]
  },
  {
   "cell_type": "markdown",
   "metadata": {},
   "source": [
    "Choose columns to group and pivot by and examine aggregate statistics.\t"
   ]
  },
  {
   "cell_type": "code",
   "execution_count": 29,
   "metadata": {},
   "outputs": [
    {
     "data": {
      "image/svg+xml": "<?xml version=\"1.0\" encoding=\"utf-8\" standalone=\"no\"?>\n<!DOCTYPE svg PUBLIC \"-//W3C//DTD SVG 1.1//EN\"\n  \"http://www.w3.org/Graphics/SVG/1.1/DTD/svg11.dtd\">\n<svg xmlns:xlink=\"http://www.w3.org/1999/xlink\" width=\"1992.250313pt\" height=\"1207.947188pt\" viewBox=\"0 0 1992.250313 1207.947188\" xmlns=\"http://www.w3.org/2000/svg\" version=\"1.1\">\n <metadata>\n  <rdf:RDF xmlns:dc=\"http://purl.org/dc/elements/1.1/\" xmlns:cc=\"http://creativecommons.org/ns#\" xmlns:rdf=\"http://www.w3.org/1999/02/22-rdf-syntax-ns#\">\n   <cc:Work>\n    <dc:type rdf:resource=\"http://purl.org/dc/dcmitype/StillImage\"/>\n    <dc:date>2025-02-12T21:10:46.171267</dc:date>\n    <dc:format>image/svg+xml</dc:format>\n    <dc:creator>\n     <cc:Agent>\n      <dc:title>Matplotlib v3.5.1, https://matplotlib.org/</dc:title>\n     </cc:Agent>\n    </dc:creator>\n   </cc:Work>\n  </rdf:RDF>\n </metadata>\n <defs>\n  <style type=\"text/css\">*{stroke-linejoin: round; stroke-linecap: butt}</style>\n </defs>\n <g id=\"figure_1\">\n  <g id=\"patch_1\">\n   <path d=\"M 0 1207.947188 \nL 1992.250313 1207.947188 \nL 1992.250313 0 \nL 0 0 \nz\n\" style=\"fill: #ffffff\"/>\n  </g>\n  <g id=\"axes_1\">\n   <g id=\"patch_2\">\n    <path d=\"M 311.050313 1139.17875 \nL 1985.050313 1139.17875 \nL 1985.050313 30.37875 \nL 311.050313 30.37875 \nz\n\" style=\"fill: #ffffff\"/>\n   </g>\n   <g id=\"matplotlib.axis_1\">\n    <g id=\"xtick_1\">\n     <g id=\"text_1\">\n      <!-- Correlation with TOTAL.SALES -->\n      <g style=\"fill: #262626\" transform=\"translate(995.805156 1170.425938)scale(0.22 -0.22)\">\n       <defs>\n        <path id=\"ArialMT-43\" d=\"M 3763 1606 \nL 4369 1453 \nQ 4178 706 3683 314 \nQ 3188 -78 2472 -78 \nQ 1731 -78 1267 223 \nQ 803 525 561 1097 \nQ 319 1669 319 2325 \nQ 319 3041 592 3573 \nQ 866 4106 1370 4382 \nQ 1875 4659 2481 4659 \nQ 3169 4659 3637 4309 \nQ 4106 3959 4291 3325 \nL 3694 3184 \nQ 3534 3684 3231 3912 \nQ 2928 4141 2469 4141 \nQ 1941 4141 1586 3887 \nQ 1231 3634 1087 3207 \nQ 944 2781 944 2328 \nQ 944 1744 1114 1308 \nQ 1284 872 1643 656 \nQ 2003 441 2422 441 \nQ 2931 441 3284 734 \nQ 3638 1028 3763 1606 \nz\n\" transform=\"scale(0.015625)\"/>\n        <path id=\"ArialMT-6f\" d=\"M 213 1659 \nQ 213 2581 725 3025 \nQ 1153 3394 1769 3394 \nQ 2453 3394 2887 2945 \nQ 3322 2497 3322 1706 \nQ 3322 1066 3130 698 \nQ 2938 331 2570 128 \nQ 2203 -75 1769 -75 \nQ 1072 -75 642 372 \nQ 213 819 213 1659 \nz\nM 791 1659 \nQ 791 1022 1069 705 \nQ 1347 388 1769 388 \nQ 2188 388 2466 706 \nQ 2744 1025 2744 1678 \nQ 2744 2294 2464 2611 \nQ 2184 2928 1769 2928 \nQ 1347 2928 1069 2612 \nQ 791 2297 791 1659 \nz\n\" transform=\"scale(0.015625)\"/>\n        <path id=\"ArialMT-72\" d=\"M 416 0 \nL 416 3319 \nL 922 3319 \nL 922 2816 \nQ 1116 3169 1280 3281 \nQ 1444 3394 1641 3394 \nQ 1925 3394 2219 3213 \nL 2025 2691 \nQ 1819 2813 1613 2813 \nQ 1428 2813 1281 2702 \nQ 1134 2591 1072 2394 \nQ 978 2094 978 1738 \nL 978 0 \nL 416 0 \nz\n\" transform=\"scale(0.015625)\"/>\n        <path id=\"ArialMT-65\" d=\"M 2694 1069 \nL 3275 997 \nQ 3138 488 2766 206 \nQ 2394 -75 1816 -75 \nQ 1088 -75 661 373 \nQ 234 822 234 1631 \nQ 234 2469 665 2931 \nQ 1097 3394 1784 3394 \nQ 2450 3394 2872 2941 \nQ 3294 2488 3294 1666 \nQ 3294 1616 3291 1516 \nL 816 1516 \nQ 847 969 1125 678 \nQ 1403 388 1819 388 \nQ 2128 388 2347 550 \nQ 2566 713 2694 1069 \nz\nM 847 1978 \nL 2700 1978 \nQ 2663 2397 2488 2606 \nQ 2219 2931 1791 2931 \nQ 1403 2931 1139 2672 \nQ 875 2413 847 1978 \nz\n\" transform=\"scale(0.015625)\"/>\n        <path id=\"ArialMT-6c\" d=\"M 409 0 \nL 409 4581 \nL 972 4581 \nL 972 0 \nL 409 0 \nz\n\" transform=\"scale(0.015625)\"/>\n        <path id=\"ArialMT-61\" d=\"M 2588 409 \nQ 2275 144 1986 34 \nQ 1697 -75 1366 -75 \nQ 819 -75 525 192 \nQ 231 459 231 875 \nQ 231 1119 342 1320 \nQ 453 1522 633 1644 \nQ 813 1766 1038 1828 \nQ 1203 1872 1538 1913 \nQ 2219 1994 2541 2106 \nQ 2544 2222 2544 2253 \nQ 2544 2597 2384 2738 \nQ 2169 2928 1744 2928 \nQ 1347 2928 1158 2789 \nQ 969 2650 878 2297 \nL 328 2372 \nQ 403 2725 575 2942 \nQ 747 3159 1072 3276 \nQ 1397 3394 1825 3394 \nQ 2250 3394 2515 3294 \nQ 2781 3194 2906 3042 \nQ 3031 2891 3081 2659 \nQ 3109 2516 3109 2141 \nL 3109 1391 \nQ 3109 606 3145 398 \nQ 3181 191 3288 0 \nL 2700 0 \nQ 2613 175 2588 409 \nz\nM 2541 1666 \nQ 2234 1541 1622 1453 \nQ 1275 1403 1131 1340 \nQ 988 1278 909 1158 \nQ 831 1038 831 891 \nQ 831 666 1001 516 \nQ 1172 366 1500 366 \nQ 1825 366 2078 508 \nQ 2331 650 2450 897 \nQ 2541 1088 2541 1459 \nL 2541 1666 \nz\n\" transform=\"scale(0.015625)\"/>\n        <path id=\"ArialMT-74\" d=\"M 1650 503 \nL 1731 6 \nQ 1494 -44 1306 -44 \nQ 1000 -44 831 53 \nQ 663 150 594 308 \nQ 525 466 525 972 \nL 525 2881 \nL 113 2881 \nL 113 3319 \nL 525 3319 \nL 525 4141 \nL 1084 4478 \nL 1084 3319 \nL 1650 3319 \nL 1650 2881 \nL 1084 2881 \nL 1084 941 \nQ 1084 700 1114 631 \nQ 1144 563 1211 522 \nQ 1278 481 1403 481 \nQ 1497 481 1650 503 \nz\n\" transform=\"scale(0.015625)\"/>\n        <path id=\"ArialMT-69\" d=\"M 425 3934 \nL 425 4581 \nL 988 4581 \nL 988 3934 \nL 425 3934 \nz\nM 425 0 \nL 425 3319 \nL 988 3319 \nL 988 0 \nL 425 0 \nz\n\" transform=\"scale(0.015625)\"/>\n        <path id=\"ArialMT-6e\" d=\"M 422 0 \nL 422 3319 \nL 928 3319 \nL 928 2847 \nQ 1294 3394 1984 3394 \nQ 2284 3394 2536 3286 \nQ 2788 3178 2913 3003 \nQ 3038 2828 3088 2588 \nQ 3119 2431 3119 2041 \nL 3119 0 \nL 2556 0 \nL 2556 2019 \nQ 2556 2363 2490 2533 \nQ 2425 2703 2258 2804 \nQ 2091 2906 1866 2906 \nQ 1506 2906 1245 2678 \nQ 984 2450 984 1813 \nL 984 0 \nL 422 0 \nz\n\" transform=\"scale(0.015625)\"/>\n        <path id=\"ArialMT-20\" transform=\"scale(0.015625)\"/>\n        <path id=\"ArialMT-77\" d=\"M 1034 0 \nL 19 3319 \nL 600 3319 \nL 1128 1403 \nL 1325 691 \nQ 1338 744 1497 1375 \nL 2025 3319 \nL 2603 3319 \nL 3100 1394 \nL 3266 759 \nL 3456 1400 \nL 4025 3319 \nL 4572 3319 \nL 3534 0 \nL 2950 0 \nL 2422 1988 \nL 2294 2553 \nL 1622 0 \nL 1034 0 \nz\n\" transform=\"scale(0.015625)\"/>\n        <path id=\"ArialMT-68\" d=\"M 422 0 \nL 422 4581 \nL 984 4581 \nL 984 2938 \nQ 1378 3394 1978 3394 \nQ 2347 3394 2619 3248 \nQ 2891 3103 3008 2847 \nQ 3125 2591 3125 2103 \nL 3125 0 \nL 2563 0 \nL 2563 2103 \nQ 2563 2525 2380 2717 \nQ 2197 2909 1863 2909 \nQ 1613 2909 1392 2779 \nQ 1172 2650 1078 2428 \nQ 984 2206 984 1816 \nL 984 0 \nL 422 0 \nz\n\" transform=\"scale(0.015625)\"/>\n        <path id=\"ArialMT-54\" d=\"M 1659 0 \nL 1659 4041 \nL 150 4041 \nL 150 4581 \nL 3781 4581 \nL 3781 4041 \nL 2266 4041 \nL 2266 0 \nL 1659 0 \nz\n\" transform=\"scale(0.015625)\"/>\n        <path id=\"ArialMT-4f\" d=\"M 309 2231 \nQ 309 3372 921 4017 \nQ 1534 4663 2503 4663 \nQ 3138 4663 3647 4359 \nQ 4156 4056 4423 3514 \nQ 4691 2972 4691 2284 \nQ 4691 1588 4409 1038 \nQ 4128 488 3612 205 \nQ 3097 -78 2500 -78 \nQ 1853 -78 1343 234 \nQ 834 547 571 1087 \nQ 309 1628 309 2231 \nz\nM 934 2222 \nQ 934 1394 1379 917 \nQ 1825 441 2497 441 \nQ 3181 441 3623 922 \nQ 4066 1403 4066 2288 \nQ 4066 2847 3877 3264 \nQ 3688 3681 3323 3911 \nQ 2959 4141 2506 4141 \nQ 1863 4141 1398 3698 \nQ 934 3256 934 2222 \nz\n\" transform=\"scale(0.015625)\"/>\n        <path id=\"ArialMT-41\" d=\"M -9 0 \nL 1750 4581 \nL 2403 4581 \nL 4278 0 \nL 3588 0 \nL 3053 1388 \nL 1138 1388 \nL 634 0 \nL -9 0 \nz\nM 1313 1881 \nL 2866 1881 \nL 2388 3150 \nQ 2169 3728 2063 4100 \nQ 1975 3659 1816 3225 \nL 1313 1881 \nz\n\" transform=\"scale(0.015625)\"/>\n        <path id=\"ArialMT-4c\" d=\"M 469 0 \nL 469 4581 \nL 1075 4581 \nL 1075 541 \nL 3331 541 \nL 3331 0 \nL 469 0 \nz\n\" transform=\"scale(0.015625)\"/>\n        <path id=\"ArialMT-2e\" d=\"M 581 0 \nL 581 641 \nL 1222 641 \nL 1222 0 \nL 581 0 \nz\n\" transform=\"scale(0.015625)\"/>\n        <path id=\"ArialMT-53\" d=\"M 288 1472 \nL 859 1522 \nQ 900 1178 1048 958 \nQ 1197 738 1509 602 \nQ 1822 466 2213 466 \nQ 2559 466 2825 569 \nQ 3091 672 3220 851 \nQ 3350 1031 3350 1244 \nQ 3350 1459 3225 1620 \nQ 3100 1781 2813 1891 \nQ 2628 1963 1997 2114 \nQ 1366 2266 1113 2400 \nQ 784 2572 623 2826 \nQ 463 3081 463 3397 \nQ 463 3744 659 4045 \nQ 856 4347 1234 4503 \nQ 1613 4659 2075 4659 \nQ 2584 4659 2973 4495 \nQ 3363 4331 3572 4012 \nQ 3781 3694 3797 3291 \nL 3216 3247 \nQ 3169 3681 2898 3903 \nQ 2628 4125 2100 4125 \nQ 1550 4125 1298 3923 \nQ 1047 3722 1047 3438 \nQ 1047 3191 1225 3031 \nQ 1400 2872 2139 2705 \nQ 2878 2538 3153 2413 \nQ 3553 2228 3743 1945 \nQ 3934 1663 3934 1294 \nQ 3934 928 3725 604 \nQ 3516 281 3123 101 \nQ 2731 -78 2241 -78 \nQ 1619 -78 1198 103 \nQ 778 284 539 648 \nQ 300 1013 288 1472 \nz\n\" transform=\"scale(0.015625)\"/>\n        <path id=\"ArialMT-45\" d=\"M 506 0 \nL 506 4581 \nL 3819 4581 \nL 3819 4041 \nL 1113 4041 \nL 1113 2638 \nL 3647 2638 \nL 3647 2100 \nL 1113 2100 \nL 1113 541 \nL 3925 541 \nL 3925 0 \nL 506 0 \nz\n\" transform=\"scale(0.015625)\"/>\n       </defs>\n       <use xlink:href=\"#ArialMT-43\"/>\n       <use xlink:href=\"#ArialMT-6f\" x=\"72.216797\"/>\n       <use xlink:href=\"#ArialMT-72\" x=\"127.832031\"/>\n       <use xlink:href=\"#ArialMT-72\" x=\"161.132812\"/>\n       <use xlink:href=\"#ArialMT-65\" x=\"194.433594\"/>\n       <use xlink:href=\"#ArialMT-6c\" x=\"250.048828\"/>\n       <use xlink:href=\"#ArialMT-61\" x=\"272.265625\"/>\n       <use xlink:href=\"#ArialMT-74\" x=\"327.880859\"/>\n       <use xlink:href=\"#ArialMT-69\" x=\"355.664062\"/>\n       <use xlink:href=\"#ArialMT-6f\" x=\"377.880859\"/>\n       <use xlink:href=\"#ArialMT-6e\" x=\"433.496094\"/>\n       <use xlink:href=\"#ArialMT-20\" x=\"489.111328\"/>\n       <use xlink:href=\"#ArialMT-77\" x=\"516.894531\"/>\n       <use xlink:href=\"#ArialMT-69\" x=\"589.111328\"/>\n       <use xlink:href=\"#ArialMT-74\" x=\"611.328125\"/>\n       <use xlink:href=\"#ArialMT-68\" x=\"639.111328\"/>\n       <use xlink:href=\"#ArialMT-20\" x=\"694.726562\"/>\n       <use xlink:href=\"#ArialMT-54\" x=\"720.759766\"/>\n       <use xlink:href=\"#ArialMT-4f\" x=\"780.09375\"/>\n       <use xlink:href=\"#ArialMT-54\" x=\"857.876953\"/>\n       <use xlink:href=\"#ArialMT-41\" x=\"911.585938\"/>\n       <use xlink:href=\"#ArialMT-4c\" x=\"978.285156\"/>\n       <use xlink:href=\"#ArialMT-2e\" x=\"1033.900391\"/>\n       <use xlink:href=\"#ArialMT-53\" x=\"1061.683594\"/>\n       <use xlink:href=\"#ArialMT-41\" x=\"1128.382812\"/>\n       <use xlink:href=\"#ArialMT-4c\" x=\"1195.082031\"/>\n       <use xlink:href=\"#ArialMT-45\" x=\"1250.697266\"/>\n       <use xlink:href=\"#ArialMT-53\" x=\"1317.396484\"/>\n      </g>\n     </g>\n    </g>\n    <g id=\"text_2\">\n     <!-- Correlation with TOTAL.SALES -->\n     <g style=\"fill: #262626\" transform=\"translate(981.964688 1195.977188)scale(0.24 -0.24)\">\n      <use xlink:href=\"#ArialMT-43\"/>\n      <use xlink:href=\"#ArialMT-6f\" x=\"72.216797\"/>\n      <use xlink:href=\"#ArialMT-72\" x=\"127.832031\"/>\n      <use xlink:href=\"#ArialMT-72\" x=\"161.132812\"/>\n      <use xlink:href=\"#ArialMT-65\" x=\"194.433594\"/>\n      <use xlink:href=\"#ArialMT-6c\" x=\"250.048828\"/>\n      <use xlink:href=\"#ArialMT-61\" x=\"272.265625\"/>\n      <use xlink:href=\"#ArialMT-74\" x=\"327.880859\"/>\n      <use xlink:href=\"#ArialMT-69\" x=\"355.664062\"/>\n      <use xlink:href=\"#ArialMT-6f\" x=\"377.880859\"/>\n      <use xlink:href=\"#ArialMT-6e\" x=\"433.496094\"/>\n      <use xlink:href=\"#ArialMT-20\" x=\"489.111328\"/>\n      <use xlink:href=\"#ArialMT-77\" x=\"516.894531\"/>\n      <use xlink:href=\"#ArialMT-69\" x=\"589.111328\"/>\n      <use xlink:href=\"#ArialMT-74\" x=\"611.328125\"/>\n      <use xlink:href=\"#ArialMT-68\" x=\"639.111328\"/>\n      <use xlink:href=\"#ArialMT-20\" x=\"694.726562\"/>\n      <use xlink:href=\"#ArialMT-54\" x=\"720.759766\"/>\n      <use xlink:href=\"#ArialMT-4f\" x=\"780.09375\"/>\n      <use xlink:href=\"#ArialMT-54\" x=\"857.876953\"/>\n      <use xlink:href=\"#ArialMT-41\" x=\"911.585938\"/>\n      <use xlink:href=\"#ArialMT-4c\" x=\"978.285156\"/>\n      <use xlink:href=\"#ArialMT-2e\" x=\"1033.900391\"/>\n      <use xlink:href=\"#ArialMT-53\" x=\"1061.683594\"/>\n      <use xlink:href=\"#ArialMT-41\" x=\"1128.382812\"/>\n      <use xlink:href=\"#ArialMT-4c\" x=\"1195.082031\"/>\n      <use xlink:href=\"#ArialMT-45\" x=\"1250.697266\"/>\n      <use xlink:href=\"#ArialMT-53\" x=\"1317.396484\"/>\n     </g>\n    </g>\n   </g>\n   <g id=\"matplotlib.axis_2\">\n    <g id=\"ytick_1\">\n     <g id=\"text_3\">\n      <!-- TOTAL.SALES -->\n      <g style=\"fill: #262626\" transform=\"translate(149.618125 47.861838)scale(0.22 -0.22)\">\n       <use xlink:href=\"#ArialMT-54\"/>\n       <use xlink:href=\"#ArialMT-4f\" x=\"59.333984\"/>\n       <use xlink:href=\"#ArialMT-54\" x=\"137.117188\"/>\n       <use xlink:href=\"#ArialMT-41\" x=\"190.826172\"/>\n       <use xlink:href=\"#ArialMT-4c\" x=\"257.525391\"/>\n       <use xlink:href=\"#ArialMT-2e\" x=\"313.140625\"/>\n       <use xlink:href=\"#ArialMT-53\" x=\"340.923828\"/>\n       <use xlink:href=\"#ArialMT-41\" x=\"407.623047\"/>\n       <use xlink:href=\"#ArialMT-4c\" x=\"474.322266\"/>\n       <use xlink:href=\"#ArialMT-45\" x=\"529.9375\"/>\n       <use xlink:href=\"#ArialMT-53\" x=\"596.636719\"/>\n      </g>\n     </g>\n    </g>\n    <g id=\"ytick_2\">\n     <g id=\"text_4\">\n      <!-- RES.SALES -->\n      <g style=\"fill: #262626\" transform=\"translate(173.268125 71.453328)scale(0.22 -0.22)\">\n       <defs>\n        <path id=\"ArialMT-52\" d=\"M 503 0 \nL 503 4581 \nL 2534 4581 \nQ 3147 4581 3465 4457 \nQ 3784 4334 3975 4021 \nQ 4166 3709 4166 3331 \nQ 4166 2844 3850 2509 \nQ 3534 2175 2875 2084 \nQ 3116 1969 3241 1856 \nQ 3506 1613 3744 1247 \nL 4541 0 \nL 3778 0 \nL 3172 953 \nQ 2906 1366 2734 1584 \nQ 2563 1803 2427 1890 \nQ 2291 1978 2150 2013 \nQ 2047 2034 1813 2034 \nL 1109 2034 \nL 1109 0 \nL 503 0 \nz\nM 1109 2559 \nL 2413 2559 \nQ 2828 2559 3062 2645 \nQ 3297 2731 3419 2920 \nQ 3541 3109 3541 3331 \nQ 3541 3656 3305 3865 \nQ 3069 4075 2559 4075 \nL 1109 4075 \nL 1109 2559 \nz\n\" transform=\"scale(0.015625)\"/>\n       </defs>\n       <use xlink:href=\"#ArialMT-52\"/>\n       <use xlink:href=\"#ArialMT-45\" x=\"72.216797\"/>\n       <use xlink:href=\"#ArialMT-53\" x=\"138.916016\"/>\n       <use xlink:href=\"#ArialMT-2e\" x=\"205.615234\"/>\n       <use xlink:href=\"#ArialMT-53\" x=\"233.398438\"/>\n       <use xlink:href=\"#ArialMT-41\" x=\"300.097656\"/>\n       <use xlink:href=\"#ArialMT-4c\" x=\"366.796875\"/>\n       <use xlink:href=\"#ArialMT-45\" x=\"422.412109\"/>\n       <use xlink:href=\"#ArialMT-53\" x=\"489.111328\"/>\n      </g>\n     </g>\n    </g>\n    <g id=\"ytick_3\">\n     <g id=\"text_5\">\n      <!-- COM.SALES -->\n      <g style=\"fill: #262626\" transform=\"translate(167.180313 95.044817)scale(0.22 -0.22)\">\n       <defs>\n        <path id=\"ArialMT-4d\" d=\"M 475 0 \nL 475 4581 \nL 1388 4581 \nL 2472 1338 \nQ 2622 884 2691 659 \nQ 2769 909 2934 1394 \nL 4031 4581 \nL 4847 4581 \nL 4847 0 \nL 4263 0 \nL 4263 3834 \nL 2931 0 \nL 2384 0 \nL 1059 3900 \nL 1059 0 \nL 475 0 \nz\n\" transform=\"scale(0.015625)\"/>\n       </defs>\n       <use xlink:href=\"#ArialMT-43\"/>\n       <use xlink:href=\"#ArialMT-4f\" x=\"72.216797\"/>\n       <use xlink:href=\"#ArialMT-4d\" x=\"150\"/>\n       <use xlink:href=\"#ArialMT-2e\" x=\"233.300781\"/>\n       <use xlink:href=\"#ArialMT-53\" x=\"261.083984\"/>\n       <use xlink:href=\"#ArialMT-41\" x=\"327.783203\"/>\n       <use xlink:href=\"#ArialMT-4c\" x=\"394.482422\"/>\n       <use xlink:href=\"#ArialMT-45\" x=\"450.097656\"/>\n       <use xlink:href=\"#ArialMT-53\" x=\"516.796875\"/>\n      </g>\n     </g>\n    </g>\n    <g id=\"ytick_4\">\n     <g id=\"text_6\">\n      <!-- UTIL.REALGSP -->\n      <g style=\"fill: #262626\" transform=\"translate(137.834375 118.636307)scale(0.22 -0.22)\">\n       <defs>\n        <path id=\"ArialMT-55\" d=\"M 3500 4581 \nL 4106 4581 \nL 4106 1934 \nQ 4106 1244 3950 837 \nQ 3794 431 3386 176 \nQ 2978 -78 2316 -78 \nQ 1672 -78 1262 144 \nQ 853 366 678 786 \nQ 503 1206 503 1934 \nL 503 4581 \nL 1109 4581 \nL 1109 1938 \nQ 1109 1341 1220 1058 \nQ 1331 775 1601 622 \nQ 1872 469 2263 469 \nQ 2931 469 3215 772 \nQ 3500 1075 3500 1938 \nL 3500 4581 \nz\n\" transform=\"scale(0.015625)\"/>\n        <path id=\"ArialMT-49\" d=\"M 597 0 \nL 597 4581 \nL 1203 4581 \nL 1203 0 \nL 597 0 \nz\n\" transform=\"scale(0.015625)\"/>\n        <path id=\"ArialMT-47\" d=\"M 2638 1797 \nL 2638 2334 \nL 4578 2338 \nL 4578 638 \nQ 4131 281 3656 101 \nQ 3181 -78 2681 -78 \nQ 2006 -78 1454 211 \nQ 903 500 622 1047 \nQ 341 1594 341 2269 \nQ 341 2938 620 3517 \nQ 900 4097 1425 4378 \nQ 1950 4659 2634 4659 \nQ 3131 4659 3532 4498 \nQ 3934 4338 4162 4050 \nQ 4391 3763 4509 3300 \nL 3963 3150 \nQ 3859 3500 3706 3700 \nQ 3553 3900 3268 4020 \nQ 2984 4141 2638 4141 \nQ 2222 4141 1919 4014 \nQ 1616 3888 1430 3681 \nQ 1244 3475 1141 3228 \nQ 966 2803 966 2306 \nQ 966 1694 1177 1281 \nQ 1388 869 1791 669 \nQ 2194 469 2647 469 \nQ 3041 469 3416 620 \nQ 3791 772 3984 944 \nL 3984 1797 \nL 2638 1797 \nz\n\" transform=\"scale(0.015625)\"/>\n        <path id=\"ArialMT-50\" d=\"M 494 0 \nL 494 4581 \nL 2222 4581 \nQ 2678 4581 2919 4538 \nQ 3256 4481 3484 4323 \nQ 3713 4166 3852 3881 \nQ 3991 3597 3991 3256 \nQ 3991 2672 3619 2267 \nQ 3247 1863 2275 1863 \nL 1100 1863 \nL 1100 0 \nL 494 0 \nz\nM 1100 2403 \nL 2284 2403 \nQ 2872 2403 3119 2622 \nQ 3366 2841 3366 3238 \nQ 3366 3525 3220 3729 \nQ 3075 3934 2838 4000 \nQ 2684 4041 2272 4041 \nL 1100 4041 \nL 1100 2403 \nz\n\" transform=\"scale(0.015625)\"/>\n       </defs>\n       <use xlink:href=\"#ArialMT-55\"/>\n       <use xlink:href=\"#ArialMT-54\" x=\"72.216797\"/>\n       <use xlink:href=\"#ArialMT-49\" x=\"133.300781\"/>\n       <use xlink:href=\"#ArialMT-4c\" x=\"161.083984\"/>\n       <use xlink:href=\"#ArialMT-2e\" x=\"216.699219\"/>\n       <use xlink:href=\"#ArialMT-52\" x=\"244.482422\"/>\n       <use xlink:href=\"#ArialMT-45\" x=\"316.699219\"/>\n       <use xlink:href=\"#ArialMT-41\" x=\"383.398438\"/>\n       <use xlink:href=\"#ArialMT-4c\" x=\"450.097656\"/>\n       <use xlink:href=\"#ArialMT-47\" x=\"505.712891\"/>\n       <use xlink:href=\"#ArialMT-53\" x=\"583.496094\"/>\n       <use xlink:href=\"#ArialMT-50\" x=\"650.195312\"/>\n      </g>\n     </g>\n    </g>\n    <g id=\"ytick_5\">\n     <g id=\"text_7\">\n      <!-- COM.CUSTOMERS -->\n      <g style=\"fill: #262626\" transform=\"translate(97.935313 142.227796)scale(0.22 -0.22)\">\n       <use xlink:href=\"#ArialMT-43\"/>\n       <use xlink:href=\"#ArialMT-4f\" x=\"72.216797\"/>\n       <use xlink:href=\"#ArialMT-4d\" x=\"150\"/>\n       <use xlink:href=\"#ArialMT-2e\" x=\"233.300781\"/>\n       <use xlink:href=\"#ArialMT-43\" x=\"261.083984\"/>\n       <use xlink:href=\"#ArialMT-55\" x=\"333.300781\"/>\n       <use xlink:href=\"#ArialMT-53\" x=\"405.517578\"/>\n       <use xlink:href=\"#ArialMT-54\" x=\"472.216797\"/>\n       <use xlink:href=\"#ArialMT-4f\" x=\"531.550781\"/>\n       <use xlink:href=\"#ArialMT-4d\" x=\"609.333984\"/>\n       <use xlink:href=\"#ArialMT-45\" x=\"692.634766\"/>\n       <use xlink:href=\"#ArialMT-52\" x=\"759.333984\"/>\n       <use xlink:href=\"#ArialMT-53\" x=\"831.550781\"/>\n      </g>\n     </g>\n    </g>\n    <g id=\"ytick_6\">\n     <g id=\"text_8\">\n      <!-- TOTAL.CUSTOMERS -->\n      <g style=\"fill: #262626\" transform=\"translate(80.373125 165.819285)scale(0.22 -0.22)\">\n       <use xlink:href=\"#ArialMT-54\"/>\n       <use xlink:href=\"#ArialMT-4f\" x=\"59.333984\"/>\n       <use xlink:href=\"#ArialMT-54\" x=\"137.117188\"/>\n       <use xlink:href=\"#ArialMT-41\" x=\"190.826172\"/>\n       <use xlink:href=\"#ArialMT-4c\" x=\"257.525391\"/>\n       <use xlink:href=\"#ArialMT-2e\" x=\"313.140625\"/>\n       <use xlink:href=\"#ArialMT-43\" x=\"340.923828\"/>\n       <use xlink:href=\"#ArialMT-55\" x=\"413.140625\"/>\n       <use xlink:href=\"#ArialMT-53\" x=\"485.357422\"/>\n       <use xlink:href=\"#ArialMT-54\" x=\"552.056641\"/>\n       <use xlink:href=\"#ArialMT-4f\" x=\"611.390625\"/>\n       <use xlink:href=\"#ArialMT-4d\" x=\"689.173828\"/>\n       <use xlink:href=\"#ArialMT-45\" x=\"772.474609\"/>\n       <use xlink:href=\"#ArialMT-52\" x=\"839.173828\"/>\n       <use xlink:href=\"#ArialMT-53\" x=\"911.390625\"/>\n      </g>\n     </g>\n    </g>\n    <g id=\"ytick_7\">\n     <g id=\"text_9\">\n      <!-- PI.UTIL.OFUSA -->\n      <g style=\"fill: #262626\" transform=\"translate(139.082188 189.410775)scale(0.22 -0.22)\">\n       <defs>\n        <path id=\"ArialMT-46\" d=\"M 525 0 \nL 525 4581 \nL 3616 4581 \nL 3616 4041 \nL 1131 4041 \nL 1131 2622 \nL 3281 2622 \nL 3281 2081 \nL 1131 2081 \nL 1131 0 \nL 525 0 \nz\n\" transform=\"scale(0.015625)\"/>\n       </defs>\n       <use xlink:href=\"#ArialMT-50\"/>\n       <use xlink:href=\"#ArialMT-49\" x=\"66.699219\"/>\n       <use xlink:href=\"#ArialMT-2e\" x=\"94.482422\"/>\n       <use xlink:href=\"#ArialMT-55\" x=\"122.265625\"/>\n       <use xlink:href=\"#ArialMT-54\" x=\"194.482422\"/>\n       <use xlink:href=\"#ArialMT-49\" x=\"255.566406\"/>\n       <use xlink:href=\"#ArialMT-4c\" x=\"283.349609\"/>\n       <use xlink:href=\"#ArialMT-2e\" x=\"338.964844\"/>\n       <use xlink:href=\"#ArialMT-4f\" x=\"366.748047\"/>\n       <use xlink:href=\"#ArialMT-46\" x=\"444.53125\"/>\n       <use xlink:href=\"#ArialMT-55\" x=\"505.615234\"/>\n       <use xlink:href=\"#ArialMT-53\" x=\"577.832031\"/>\n       <use xlink:href=\"#ArialMT-41\" x=\"644.53125\"/>\n      </g>\n     </g>\n    </g>\n    <g id=\"ytick_8\">\n     <g id=\"text_10\">\n      <!-- RES.CUSTOMERS -->\n      <g style=\"fill: #262626\" transform=\"translate(104.023125 213.002264)scale(0.22 -0.22)\">\n       <use xlink:href=\"#ArialMT-52\"/>\n       <use xlink:href=\"#ArialMT-45\" x=\"72.216797\"/>\n       <use xlink:href=\"#ArialMT-53\" x=\"138.916016\"/>\n       <use xlink:href=\"#ArialMT-2e\" x=\"205.615234\"/>\n       <use xlink:href=\"#ArialMT-43\" x=\"233.398438\"/>\n       <use xlink:href=\"#ArialMT-55\" x=\"305.615234\"/>\n       <use xlink:href=\"#ArialMT-53\" x=\"377.832031\"/>\n       <use xlink:href=\"#ArialMT-54\" x=\"444.53125\"/>\n       <use xlink:href=\"#ArialMT-4f\" x=\"503.865234\"/>\n       <use xlink:href=\"#ArialMT-4d\" x=\"581.648438\"/>\n       <use xlink:href=\"#ArialMT-45\" x=\"664.949219\"/>\n       <use xlink:href=\"#ArialMT-52\" x=\"731.648438\"/>\n       <use xlink:href=\"#ArialMT-53\" x=\"803.865234\"/>\n      </g>\n     </g>\n    </g>\n    <g id=\"ytick_9\">\n     <g id=\"text_11\">\n      <!-- IND.SALES -->\n      <g style=\"fill: #262626\" transform=\"translate(180.6175 236.593753)scale(0.22 -0.22)\">\n       <defs>\n        <path id=\"ArialMT-4e\" d=\"M 488 0 \nL 488 4581 \nL 1109 4581 \nL 3516 984 \nL 3516 4581 \nL 4097 4581 \nL 4097 0 \nL 3475 0 \nL 1069 3600 \nL 1069 0 \nL 488 0 \nz\n\" transform=\"scale(0.015625)\"/>\n        <path id=\"ArialMT-44\" d=\"M 494 0 \nL 494 4581 \nL 2072 4581 \nQ 2606 4581 2888 4516 \nQ 3281 4425 3559 4188 \nQ 3922 3881 4101 3404 \nQ 4281 2928 4281 2316 \nQ 4281 1794 4159 1391 \nQ 4038 988 3847 723 \nQ 3656 459 3429 307 \nQ 3203 156 2883 78 \nQ 2563 0 2147 0 \nL 494 0 \nz\nM 1100 541 \nL 2078 541 \nQ 2531 541 2789 625 \nQ 3047 709 3200 863 \nQ 3416 1078 3536 1442 \nQ 3656 1806 3656 2325 \nQ 3656 3044 3420 3430 \nQ 3184 3816 2847 3947 \nQ 2603 4041 2063 4041 \nL 1100 4041 \nL 1100 541 \nz\n\" transform=\"scale(0.015625)\"/>\n       </defs>\n       <use xlink:href=\"#ArialMT-49\"/>\n       <use xlink:href=\"#ArialMT-4e\" x=\"27.783203\"/>\n       <use xlink:href=\"#ArialMT-44\" x=\"100\"/>\n       <use xlink:href=\"#ArialMT-2e\" x=\"172.216797\"/>\n       <use xlink:href=\"#ArialMT-53\" x=\"200\"/>\n       <use xlink:href=\"#ArialMT-41\" x=\"266.699219\"/>\n       <use xlink:href=\"#ArialMT-4c\" x=\"333.398438\"/>\n       <use xlink:href=\"#ArialMT-45\" x=\"389.013672\"/>\n       <use xlink:href=\"#ArialMT-53\" x=\"455.712891\"/>\n      </g>\n     </g>\n    </g>\n    <g id=\"ytick_10\">\n     <g id=\"text_12\">\n      <!-- POPULATION -->\n      <g style=\"fill: #262626\" transform=\"translate(155.365625 260.185243)scale(0.22 -0.22)\">\n       <use xlink:href=\"#ArialMT-50\"/>\n       <use xlink:href=\"#ArialMT-4f\" x=\"66.699219\"/>\n       <use xlink:href=\"#ArialMT-50\" x=\"144.482422\"/>\n       <use xlink:href=\"#ArialMT-55\" x=\"211.181641\"/>\n       <use xlink:href=\"#ArialMT-4c\" x=\"283.398438\"/>\n       <use xlink:href=\"#ArialMT-41\" x=\"339.013672\"/>\n       <use xlink:href=\"#ArialMT-54\" x=\"398.337891\"/>\n       <use xlink:href=\"#ArialMT-49\" x=\"459.421875\"/>\n       <use xlink:href=\"#ArialMT-4f\" x=\"487.205078\"/>\n       <use xlink:href=\"#ArialMT-4e\" x=\"564.988281\"/>\n      </g>\n     </g>\n    </g>\n    <g id=\"ytick_11\">\n     <g id=\"text_13\">\n      <!-- IND.CUSTOMERS -->\n      <g style=\"fill: #262626\" transform=\"translate(111.3725 283.776732)scale(0.22 -0.22)\">\n       <use xlink:href=\"#ArialMT-49\"/>\n       <use xlink:href=\"#ArialMT-4e\" x=\"27.783203\"/>\n       <use xlink:href=\"#ArialMT-44\" x=\"100\"/>\n       <use xlink:href=\"#ArialMT-2e\" x=\"172.216797\"/>\n       <use xlink:href=\"#ArialMT-43\" x=\"200\"/>\n       <use xlink:href=\"#ArialMT-55\" x=\"272.216797\"/>\n       <use xlink:href=\"#ArialMT-53\" x=\"344.433594\"/>\n       <use xlink:href=\"#ArialMT-54\" x=\"411.132812\"/>\n       <use xlink:href=\"#ArialMT-4f\" x=\"470.466797\"/>\n       <use xlink:href=\"#ArialMT-4d\" x=\"548.25\"/>\n       <use xlink:href=\"#ArialMT-45\" x=\"631.550781\"/>\n       <use xlink:href=\"#ArialMT-52\" x=\"698.25\"/>\n       <use xlink:href=\"#ArialMT-53\" x=\"770.466797\"/>\n      </g>\n     </g>\n    </g>\n    <g id=\"ytick_12\">\n     <g id=\"text_14\">\n      <!-- TOTAL.REALGSP -->\n      <g style=\"fill: #262626\" transform=\"translate(116.618125 307.368221)scale(0.22 -0.22)\">\n       <use xlink:href=\"#ArialMT-54\"/>\n       <use xlink:href=\"#ArialMT-4f\" x=\"59.333984\"/>\n       <use xlink:href=\"#ArialMT-54\" x=\"137.117188\"/>\n       <use xlink:href=\"#ArialMT-41\" x=\"190.826172\"/>\n       <use xlink:href=\"#ArialMT-4c\" x=\"257.525391\"/>\n       <use xlink:href=\"#ArialMT-2e\" x=\"313.140625\"/>\n       <use xlink:href=\"#ArialMT-52\" x=\"340.923828\"/>\n       <use xlink:href=\"#ArialMT-45\" x=\"413.140625\"/>\n       <use xlink:href=\"#ArialMT-41\" x=\"479.839844\"/>\n       <use xlink:href=\"#ArialMT-4c\" x=\"546.539062\"/>\n       <use xlink:href=\"#ArialMT-47\" x=\"602.154297\"/>\n       <use xlink:href=\"#ArialMT-53\" x=\"679.9375\"/>\n       <use xlink:href=\"#ArialMT-50\" x=\"746.636719\"/>\n      </g>\n     </g>\n    </g>\n    <g id=\"ytick_13\">\n     <g id=\"text_15\">\n      <!-- POP.DENSITY.URBAN -->\n      <g style=\"fill: #262626\" transform=\"translate(70.167188 330.959711)scale(0.22 -0.22)\">\n       <defs>\n        <path id=\"ArialMT-59\" d=\"M 1784 0 \nL 1784 1941 \nL 19 4581 \nL 756 4581 \nL 1659 3200 \nQ 1909 2813 2125 2425 \nQ 2331 2784 2625 3234 \nL 3513 4581 \nL 4219 4581 \nL 2391 1941 \nL 2391 0 \nL 1784 0 \nz\n\" transform=\"scale(0.015625)\"/>\n        <path id=\"ArialMT-42\" d=\"M 469 0 \nL 469 4581 \nL 2188 4581 \nQ 2713 4581 3030 4442 \nQ 3347 4303 3526 4014 \nQ 3706 3725 3706 3409 \nQ 3706 3116 3547 2856 \nQ 3388 2597 3066 2438 \nQ 3481 2316 3704 2022 \nQ 3928 1728 3928 1328 \nQ 3928 1006 3792 729 \nQ 3656 453 3456 303 \nQ 3256 153 2954 76 \nQ 2653 0 2216 0 \nL 469 0 \nz\nM 1075 2656 \nL 2066 2656 \nQ 2469 2656 2644 2709 \nQ 2875 2778 2992 2937 \nQ 3109 3097 3109 3338 \nQ 3109 3566 3000 3739 \nQ 2891 3913 2687 3977 \nQ 2484 4041 1991 4041 \nL 1075 4041 \nL 1075 2656 \nz\nM 1075 541 \nL 2216 541 \nQ 2509 541 2628 563 \nQ 2838 600 2978 687 \nQ 3119 775 3209 942 \nQ 3300 1109 3300 1328 \nQ 3300 1584 3169 1773 \nQ 3038 1963 2805 2039 \nQ 2572 2116 2134 2116 \nL 1075 2116 \nL 1075 541 \nz\n\" transform=\"scale(0.015625)\"/>\n       </defs>\n       <use xlink:href=\"#ArialMT-50\"/>\n       <use xlink:href=\"#ArialMT-4f\" x=\"66.699219\"/>\n       <use xlink:href=\"#ArialMT-50\" x=\"144.482422\"/>\n       <use xlink:href=\"#ArialMT-2e\" x=\"198.306641\"/>\n       <use xlink:href=\"#ArialMT-44\" x=\"226.089844\"/>\n       <use xlink:href=\"#ArialMT-45\" x=\"298.306641\"/>\n       <use xlink:href=\"#ArialMT-4e\" x=\"365.005859\"/>\n       <use xlink:href=\"#ArialMT-53\" x=\"437.222656\"/>\n       <use xlink:href=\"#ArialMT-49\" x=\"503.921875\"/>\n       <use xlink:href=\"#ArialMT-54\" x=\"531.705078\"/>\n       <use xlink:href=\"#ArialMT-59\" x=\"592.789062\"/>\n       <use xlink:href=\"#ArialMT-2e\" x=\"646.613281\"/>\n       <use xlink:href=\"#ArialMT-55\" x=\"674.396484\"/>\n       <use xlink:href=\"#ArialMT-52\" x=\"746.613281\"/>\n       <use xlink:href=\"#ArialMT-42\" x=\"818.830078\"/>\n       <use xlink:href=\"#ArialMT-41\" x=\"885.529297\"/>\n       <use xlink:href=\"#ArialMT-4e\" x=\"952.228516\"/>\n      </g>\n     </g>\n    </g>\n    <g id=\"ytick_14\">\n     <g id=\"text_16\">\n      <!-- POPPCT_URBAN -->\n      <g style=\"fill: #262626\" transform=\"translate(115.84125 354.692138)scale(0.22 -0.22)\">\n       <defs>\n        <path id=\"ArialMT-5f\" d=\"M -97 -1272 \nL -97 -866 \nL 3631 -866 \nL 3631 -1272 \nL -97 -1272 \nz\n\" transform=\"scale(0.015625)\"/>\n       </defs>\n       <use xlink:href=\"#ArialMT-50\"/>\n       <use xlink:href=\"#ArialMT-4f\" x=\"66.699219\"/>\n       <use xlink:href=\"#ArialMT-50\" x=\"144.482422\"/>\n       <use xlink:href=\"#ArialMT-50\" x=\"211.181641\"/>\n       <use xlink:href=\"#ArialMT-43\" x=\"277.880859\"/>\n       <use xlink:href=\"#ArialMT-54\" x=\"350.097656\"/>\n       <use xlink:href=\"#ArialMT-5f\" x=\"411.181641\"/>\n       <use xlink:href=\"#ArialMT-55\" x=\"466.796875\"/>\n       <use xlink:href=\"#ArialMT-52\" x=\"539.013672\"/>\n       <use xlink:href=\"#ArialMT-42\" x=\"611.230469\"/>\n       <use xlink:href=\"#ArialMT-41\" x=\"677.929688\"/>\n       <use xlink:href=\"#ArialMT-4e\" x=\"744.628906\"/>\n      </g>\n     </g>\n    </g>\n    <g id=\"ytick_15\">\n     <g id=\"text_17\">\n      <!-- POPDEN_UC -->\n      <g style=\"fill: #262626\" transform=\"translate(158.627813 378.283627)scale(0.22 -0.22)\">\n       <use xlink:href=\"#ArialMT-50\"/>\n       <use xlink:href=\"#ArialMT-4f\" x=\"66.699219\"/>\n       <use xlink:href=\"#ArialMT-50\" x=\"144.482422\"/>\n       <use xlink:href=\"#ArialMT-44\" x=\"211.181641\"/>\n       <use xlink:href=\"#ArialMT-45\" x=\"283.398438\"/>\n       <use xlink:href=\"#ArialMT-4e\" x=\"350.097656\"/>\n       <use xlink:href=\"#ArialMT-5f\" x=\"422.314453\"/>\n       <use xlink:href=\"#ArialMT-55\" x=\"477.929688\"/>\n       <use xlink:href=\"#ArialMT-43\" x=\"550.146484\"/>\n      </g>\n     </g>\n    </g>\n    <g id=\"ytick_16\">\n     <g id=\"text_18\">\n      <!-- POPDEN_URBAN -->\n      <g style=\"fill: #262626\" transform=\"translate(113.390313 401.875116)scale(0.22 -0.22)\">\n       <use xlink:href=\"#ArialMT-50\"/>\n       <use xlink:href=\"#ArialMT-4f\" x=\"66.699219\"/>\n       <use xlink:href=\"#ArialMT-50\" x=\"144.482422\"/>\n       <use xlink:href=\"#ArialMT-44\" x=\"211.181641\"/>\n       <use xlink:href=\"#ArialMT-45\" x=\"283.398438\"/>\n       <use xlink:href=\"#ArialMT-4e\" x=\"350.097656\"/>\n       <use xlink:href=\"#ArialMT-5f\" x=\"422.314453\"/>\n       <use xlink:href=\"#ArialMT-55\" x=\"477.929688\"/>\n       <use xlink:href=\"#ArialMT-52\" x=\"550.146484\"/>\n       <use xlink:href=\"#ArialMT-42\" x=\"622.363281\"/>\n       <use xlink:href=\"#ArialMT-41\" x=\"689.0625\"/>\n       <use xlink:href=\"#ArialMT-4e\" x=\"755.761719\"/>\n      </g>\n     </g>\n    </g>\n    <g id=\"ytick_17\">\n     <g id=\"text_19\">\n      <!-- PCT_LAND -->\n      <g style=\"fill: #262626\" transform=\"translate(180.63125 425.459731)scale(0.22 -0.22)\">\n       <use xlink:href=\"#ArialMT-50\"/>\n       <use xlink:href=\"#ArialMT-43\" x=\"66.699219\"/>\n       <use xlink:href=\"#ArialMT-54\" x=\"138.916016\"/>\n       <use xlink:href=\"#ArialMT-5f\" x=\"200\"/>\n       <use xlink:href=\"#ArialMT-4c\" x=\"255.615234\"/>\n       <use xlink:href=\"#ArialMT-41\" x=\"311.230469\"/>\n       <use xlink:href=\"#ArialMT-4e\" x=\"377.929688\"/>\n       <use xlink:href=\"#ArialMT-44\" x=\"450.146484\"/>\n      </g>\n     </g>\n    </g>\n    <g id=\"ytick_18\">\n     <g id=\"text_20\">\n      <!-- TOTAL.PRICE -->\n      <g style=\"fill: #262626\" transform=\"translate(153.313438 448.917158)scale(0.22 -0.22)\">\n       <use xlink:href=\"#ArialMT-54\"/>\n       <use xlink:href=\"#ArialMT-4f\" x=\"59.333984\"/>\n       <use xlink:href=\"#ArialMT-54\" x=\"137.117188\"/>\n       <use xlink:href=\"#ArialMT-41\" x=\"190.826172\"/>\n       <use xlink:href=\"#ArialMT-4c\" x=\"257.525391\"/>\n       <use xlink:href=\"#ArialMT-2e\" x=\"313.140625\"/>\n       <use xlink:href=\"#ArialMT-50\" x=\"340.923828\"/>\n       <use xlink:href=\"#ArialMT-52\" x=\"407.623047\"/>\n       <use xlink:href=\"#ArialMT-49\" x=\"479.839844\"/>\n       <use xlink:href=\"#ArialMT-43\" x=\"507.623047\"/>\n       <use xlink:href=\"#ArialMT-45\" x=\"579.839844\"/>\n      </g>\n     </g>\n    </g>\n    <g id=\"ytick_19\">\n     <g id=\"text_21\">\n      <!-- AVG.MONTHLY.PRICE -->\n      <g style=\"fill: #262626\" transform=\"translate(68.145938 472.508647)scale(0.22 -0.22)\">\n       <defs>\n        <path id=\"ArialMT-56\" d=\"M 1803 0 \nL 28 4581 \nL 684 4581 \nL 1875 1253 \nQ 2019 853 2116 503 \nQ 2222 878 2363 1253 \nL 3600 4581 \nL 4219 4581 \nL 2425 0 \nL 1803 0 \nz\n\" transform=\"scale(0.015625)\"/>\n        <path id=\"ArialMT-48\" d=\"M 513 0 \nL 513 4581 \nL 1119 4581 \nL 1119 2700 \nL 3500 2700 \nL 3500 4581 \nL 4106 4581 \nL 4106 0 \nL 3500 0 \nL 3500 2159 \nL 1119 2159 \nL 1119 0 \nL 513 0 \nz\n\" transform=\"scale(0.015625)\"/>\n       </defs>\n       <use xlink:href=\"#ArialMT-41\"/>\n       <use xlink:href=\"#ArialMT-56\" x=\"59.324219\"/>\n       <use xlink:href=\"#ArialMT-47\" x=\"126.023438\"/>\n       <use xlink:href=\"#ArialMT-2e\" x=\"203.806641\"/>\n       <use xlink:href=\"#ArialMT-4d\" x=\"231.589844\"/>\n       <use xlink:href=\"#ArialMT-4f\" x=\"314.890625\"/>\n       <use xlink:href=\"#ArialMT-4e\" x=\"392.673828\"/>\n       <use xlink:href=\"#ArialMT-54\" x=\"464.890625\"/>\n       <use xlink:href=\"#ArialMT-48\" x=\"525.974609\"/>\n       <use xlink:href=\"#ArialMT-4c\" x=\"598.191406\"/>\n       <use xlink:href=\"#ArialMT-59\" x=\"646.431641\"/>\n       <use xlink:href=\"#ArialMT-2e\" x=\"700.255859\"/>\n       <use xlink:href=\"#ArialMT-50\" x=\"728.039062\"/>\n       <use xlink:href=\"#ArialMT-52\" x=\"794.738281\"/>\n       <use xlink:href=\"#ArialMT-49\" x=\"866.955078\"/>\n       <use xlink:href=\"#ArialMT-43\" x=\"894.738281\"/>\n       <use xlink:href=\"#ArialMT-45\" x=\"966.955078\"/>\n      </g>\n     </g>\n    </g>\n    <g id=\"ytick_20\">\n     <g id=\"text_22\">\n      <!-- IND.PRICE -->\n      <g style=\"fill: #262626\" transform=\"translate(184.312813 496.100136)scale(0.22 -0.22)\">\n       <use xlink:href=\"#ArialMT-49\"/>\n       <use xlink:href=\"#ArialMT-4e\" x=\"27.783203\"/>\n       <use xlink:href=\"#ArialMT-44\" x=\"100\"/>\n       <use xlink:href=\"#ArialMT-2e\" x=\"172.216797\"/>\n       <use xlink:href=\"#ArialMT-50\" x=\"200\"/>\n       <use xlink:href=\"#ArialMT-52\" x=\"266.699219\"/>\n       <use xlink:href=\"#ArialMT-49\" x=\"338.916016\"/>\n       <use xlink:href=\"#ArialMT-43\" x=\"366.699219\"/>\n       <use xlink:href=\"#ArialMT-45\" x=\"438.916016\"/>\n      </g>\n     </g>\n    </g>\n    <g id=\"ytick_21\">\n     <g id=\"text_23\">\n      <!-- RES.PRICE -->\n      <g style=\"fill: #262626\" transform=\"translate(176.963437 519.691626)scale(0.22 -0.22)\">\n       <use xlink:href=\"#ArialMT-52\"/>\n       <use xlink:href=\"#ArialMT-45\" x=\"72.216797\"/>\n       <use xlink:href=\"#ArialMT-53\" x=\"138.916016\"/>\n       <use xlink:href=\"#ArialMT-2e\" x=\"205.615234\"/>\n       <use xlink:href=\"#ArialMT-50\" x=\"233.398438\"/>\n       <use xlink:href=\"#ArialMT-52\" x=\"300.097656\"/>\n       <use xlink:href=\"#ArialMT-49\" x=\"372.314453\"/>\n       <use xlink:href=\"#ArialMT-43\" x=\"400.097656\"/>\n       <use xlink:href=\"#ArialMT-45\" x=\"472.314453\"/>\n      </g>\n     </g>\n    </g>\n    <g id=\"ytick_22\">\n     <g id=\"text_24\">\n      <!-- COM.PRICE -->\n      <g style=\"fill: #262626\" transform=\"translate(170.875625 543.283115)scale(0.22 -0.22)\">\n       <use xlink:href=\"#ArialMT-43\"/>\n       <use xlink:href=\"#ArialMT-4f\" x=\"72.216797\"/>\n       <use xlink:href=\"#ArialMT-4d\" x=\"150\"/>\n       <use xlink:href=\"#ArialMT-2e\" x=\"233.300781\"/>\n       <use xlink:href=\"#ArialMT-50\" x=\"261.083984\"/>\n       <use xlink:href=\"#ArialMT-52\" x=\"327.783203\"/>\n       <use xlink:href=\"#ArialMT-49\" x=\"400\"/>\n       <use xlink:href=\"#ArialMT-43\" x=\"427.783203\"/>\n       <use xlink:href=\"#ArialMT-45\" x=\"500\"/>\n      </g>\n     </g>\n    </g>\n    <g id=\"ytick_23\">\n     <g id=\"text_25\">\n      <!-- COM.PERCEN -->\n      <g style=\"fill: #262626\" transform=\"translate(146.424688 566.874604)scale(0.22 -0.22)\">\n       <use xlink:href=\"#ArialMT-43\"/>\n       <use xlink:href=\"#ArialMT-4f\" x=\"72.216797\"/>\n       <use xlink:href=\"#ArialMT-4d\" x=\"150\"/>\n       <use xlink:href=\"#ArialMT-2e\" x=\"233.300781\"/>\n       <use xlink:href=\"#ArialMT-50\" x=\"261.083984\"/>\n       <use xlink:href=\"#ArialMT-45\" x=\"327.783203\"/>\n       <use xlink:href=\"#ArialMT-52\" x=\"394.482422\"/>\n       <use xlink:href=\"#ArialMT-43\" x=\"466.699219\"/>\n       <use xlink:href=\"#ArialMT-45\" x=\"538.916016\"/>\n       <use xlink:href=\"#ArialMT-4e\" x=\"605.615234\"/>\n      </g>\n     </g>\n    </g>\n    <g id=\"ytick_24\">\n     <g id=\"text_26\">\n      <!-- PC.REALGSP.CHANGE -->\n      <g style=\"fill: #262626\" transform=\"translate(57.537813 590.466094)scale(0.22 -0.22)\">\n       <use xlink:href=\"#ArialMT-50\"/>\n       <use xlink:href=\"#ArialMT-43\" x=\"66.699219\"/>\n       <use xlink:href=\"#ArialMT-2e\" x=\"138.916016\"/>\n       <use xlink:href=\"#ArialMT-52\" x=\"166.699219\"/>\n       <use xlink:href=\"#ArialMT-45\" x=\"238.916016\"/>\n       <use xlink:href=\"#ArialMT-41\" x=\"305.615234\"/>\n       <use xlink:href=\"#ArialMT-4c\" x=\"372.314453\"/>\n       <use xlink:href=\"#ArialMT-47\" x=\"427.929688\"/>\n       <use xlink:href=\"#ArialMT-53\" x=\"505.712891\"/>\n       <use xlink:href=\"#ArialMT-50\" x=\"572.412109\"/>\n       <use xlink:href=\"#ArialMT-2e\" x=\"626.236328\"/>\n       <use xlink:href=\"#ArialMT-43\" x=\"654.019531\"/>\n       <use xlink:href=\"#ArialMT-48\" x=\"726.236328\"/>\n       <use xlink:href=\"#ArialMT-41\" x=\"798.453125\"/>\n       <use xlink:href=\"#ArialMT-4e\" x=\"865.152344\"/>\n       <use xlink:href=\"#ArialMT-47\" x=\"937.369141\"/>\n       <use xlink:href=\"#ArialMT-45\" x=\"1015.152344\"/>\n      </g>\n     </g>\n    </g>\n    <g id=\"ytick_25\">\n     <g id=\"text_27\">\n      <!-- IND.CUST.PCT -->\n      <g style=\"fill: #262626\" transform=\"translate(143.997813 614.057583)scale(0.22 -0.22)\">\n       <use xlink:href=\"#ArialMT-49\"/>\n       <use xlink:href=\"#ArialMT-4e\" x=\"27.783203\"/>\n       <use xlink:href=\"#ArialMT-44\" x=\"100\"/>\n       <use xlink:href=\"#ArialMT-2e\" x=\"172.216797\"/>\n       <use xlink:href=\"#ArialMT-43\" x=\"200\"/>\n       <use xlink:href=\"#ArialMT-55\" x=\"272.216797\"/>\n       <use xlink:href=\"#ArialMT-53\" x=\"344.433594\"/>\n       <use xlink:href=\"#ArialMT-54\" x=\"411.132812\"/>\n       <use xlink:href=\"#ArialMT-2e\" x=\"461.091797\"/>\n       <use xlink:href=\"#ArialMT-50\" x=\"488.875\"/>\n       <use xlink:href=\"#ArialMT-43\" x=\"555.574219\"/>\n       <use xlink:href=\"#ArialMT-54\" x=\"627.791016\"/>\n      </g>\n     </g>\n    </g>\n    <g id=\"ytick_26\">\n     <g id=\"text_28\">\n      <!-- UTIL.CONTRI -->\n      <g style=\"fill: #262626\" transform=\"translate(157.441875 637.649072)scale(0.22 -0.22)\">\n       <use xlink:href=\"#ArialMT-55\"/>\n       <use xlink:href=\"#ArialMT-54\" x=\"72.216797\"/>\n       <use xlink:href=\"#ArialMT-49\" x=\"133.300781\"/>\n       <use xlink:href=\"#ArialMT-4c\" x=\"161.083984\"/>\n       <use xlink:href=\"#ArialMT-2e\" x=\"216.699219\"/>\n       <use xlink:href=\"#ArialMT-43\" x=\"244.482422\"/>\n       <use xlink:href=\"#ArialMT-4f\" x=\"316.699219\"/>\n       <use xlink:href=\"#ArialMT-4e\" x=\"394.482422\"/>\n       <use xlink:href=\"#ArialMT-54\" x=\"466.699219\"/>\n       <use xlink:href=\"#ArialMT-52\" x=\"527.783203\"/>\n       <use xlink:href=\"#ArialMT-49\" x=\"600\"/>\n      </g>\n     </g>\n    </g>\n    <g id=\"ytick_27\">\n     <g id=\"text_29\">\n      <!-- CUSTOMERS.AFFECTED -->\n      <g style=\"fill: #262626\" transform=\"translate(33.14875 661.240562)scale(0.22 -0.22)\">\n       <use xlink:href=\"#ArialMT-43\"/>\n       <use xlink:href=\"#ArialMT-55\" x=\"72.216797\"/>\n       <use xlink:href=\"#ArialMT-53\" x=\"144.433594\"/>\n       <use xlink:href=\"#ArialMT-54\" x=\"211.132812\"/>\n       <use xlink:href=\"#ArialMT-4f\" x=\"270.466797\"/>\n       <use xlink:href=\"#ArialMT-4d\" x=\"348.25\"/>\n       <use xlink:href=\"#ArialMT-45\" x=\"431.550781\"/>\n       <use xlink:href=\"#ArialMT-52\" x=\"498.25\"/>\n       <use xlink:href=\"#ArialMT-53\" x=\"570.466797\"/>\n       <use xlink:href=\"#ArialMT-2e\" x=\"637.166016\"/>\n       <use xlink:href=\"#ArialMT-41\" x=\"664.949219\"/>\n       <use xlink:href=\"#ArialMT-46\" x=\"731.648438\"/>\n       <use xlink:href=\"#ArialMT-46\" x=\"792.732422\"/>\n       <use xlink:href=\"#ArialMT-45\" x=\"853.816406\"/>\n       <use xlink:href=\"#ArialMT-43\" x=\"920.515625\"/>\n       <use xlink:href=\"#ArialMT-54\" x=\"992.732422\"/>\n       <use xlink:href=\"#ArialMT-45\" x=\"1053.816406\"/>\n       <use xlink:href=\"#ArialMT-44\" x=\"1120.515625\"/>\n      </g>\n     </g>\n    </g>\n    <g id=\"ytick_28\">\n     <g id=\"text_30\">\n      <!-- COM.CUST.PCT -->\n      <g style=\"fill: #262626\" transform=\"translate(130.560625 684.832051)scale(0.22 -0.22)\">\n       <use xlink:href=\"#ArialMT-43\"/>\n       <use xlink:href=\"#ArialMT-4f\" x=\"72.216797\"/>\n       <use xlink:href=\"#ArialMT-4d\" x=\"150\"/>\n       <use xlink:href=\"#ArialMT-2e\" x=\"233.300781\"/>\n       <use xlink:href=\"#ArialMT-43\" x=\"261.083984\"/>\n       <use xlink:href=\"#ArialMT-55\" x=\"333.300781\"/>\n       <use xlink:href=\"#ArialMT-53\" x=\"405.517578\"/>\n       <use xlink:href=\"#ArialMT-54\" x=\"472.216797\"/>\n       <use xlink:href=\"#ArialMT-2e\" x=\"522.175781\"/>\n       <use xlink:href=\"#ArialMT-50\" x=\"549.958984\"/>\n       <use xlink:href=\"#ArialMT-43\" x=\"616.658203\"/>\n       <use xlink:href=\"#ArialMT-54\" x=\"688.875\"/>\n      </g>\n     </g>\n    </g>\n    <g id=\"ytick_29\">\n     <g id=\"text_31\">\n      <!-- RES.PERCEN -->\n      <g style=\"fill: #262626\" transform=\"translate(152.5125 708.423541)scale(0.22 -0.22)\">\n       <use xlink:href=\"#ArialMT-52\"/>\n       <use xlink:href=\"#ArialMT-45\" x=\"72.216797\"/>\n       <use xlink:href=\"#ArialMT-53\" x=\"138.916016\"/>\n       <use xlink:href=\"#ArialMT-2e\" x=\"205.615234\"/>\n       <use xlink:href=\"#ArialMT-50\" x=\"233.398438\"/>\n       <use xlink:href=\"#ArialMT-45\" x=\"300.097656\"/>\n       <use xlink:href=\"#ArialMT-52\" x=\"366.796875\"/>\n       <use xlink:href=\"#ArialMT-43\" x=\"439.013672\"/>\n       <use xlink:href=\"#ArialMT-45\" x=\"511.230469\"/>\n       <use xlink:href=\"#ArialMT-4e\" x=\"577.929688\"/>\n      </g>\n     </g>\n    </g>\n    <g id=\"ytick_30\">\n     <g id=\"text_32\">\n      <!-- MONTH -->\n      <g style=\"fill: #262626\" transform=\"translate(214.899688 732.01503)scale(0.22 -0.22)\">\n       <use xlink:href=\"#ArialMT-4d\"/>\n       <use xlink:href=\"#ArialMT-4f\" x=\"83.300781\"/>\n       <use xlink:href=\"#ArialMT-4e\" x=\"161.083984\"/>\n       <use xlink:href=\"#ArialMT-54\" x=\"233.300781\"/>\n       <use xlink:href=\"#ArialMT-48\" x=\"294.384766\"/>\n      </g>\n     </g>\n    </g>\n    <g id=\"ytick_31\">\n     <g id=\"text_33\">\n      <!-- ANOMALY.LEVEL -->\n      <g style=\"fill: #262626\" transform=\"translate(117.817813 755.606519)scale(0.22 -0.22)\">\n       <use xlink:href=\"#ArialMT-41\"/>\n       <use xlink:href=\"#ArialMT-4e\" x=\"66.699219\"/>\n       <use xlink:href=\"#ArialMT-4f\" x=\"138.916016\"/>\n       <use xlink:href=\"#ArialMT-4d\" x=\"216.699219\"/>\n       <use xlink:href=\"#ArialMT-41\" x=\"300\"/>\n       <use xlink:href=\"#ArialMT-4c\" x=\"366.699219\"/>\n       <use xlink:href=\"#ArialMT-59\" x=\"414.939453\"/>\n       <use xlink:href=\"#ArialMT-2e\" x=\"468.763672\"/>\n       <use xlink:href=\"#ArialMT-4c\" x=\"496.546875\"/>\n       <use xlink:href=\"#ArialMT-45\" x=\"552.162109\"/>\n       <use xlink:href=\"#ArialMT-56\" x=\"618.861328\"/>\n       <use xlink:href=\"#ArialMT-45\" x=\"685.560547\"/>\n       <use xlink:href=\"#ArialMT-4c\" x=\"752.259766\"/>\n      </g>\n     </g>\n    </g>\n    <g id=\"ytick_32\">\n     <g id=\"text_34\">\n      <!-- IS_DARK -->\n      <g style=\"fill: #262626\" transform=\"translate(201.404063 779.332071)scale(0.22 -0.22)\">\n       <defs>\n        <path id=\"ArialMT-4b\" d=\"M 469 0 \nL 469 4581 \nL 1075 4581 \nL 1075 2309 \nL 3350 4581 \nL 4172 4581 \nL 2250 2725 \nL 4256 0 \nL 3456 0 \nL 1825 2319 \nL 1075 1588 \nL 1075 0 \nL 469 0 \nz\n\" transform=\"scale(0.015625)\"/>\n       </defs>\n       <use xlink:href=\"#ArialMT-49\"/>\n       <use xlink:href=\"#ArialMT-53\" x=\"27.783203\"/>\n       <use xlink:href=\"#ArialMT-5f\" x=\"94.482422\"/>\n       <use xlink:href=\"#ArialMT-44\" x=\"150.097656\"/>\n       <use xlink:href=\"#ArialMT-41\" x=\"222.314453\"/>\n       <use xlink:href=\"#ArialMT-52\" x=\"289.013672\"/>\n       <use xlink:href=\"#ArialMT-4b\" x=\"361.230469\"/>\n      </g>\n     </g>\n    </g>\n    <g id=\"ytick_33\">\n     <g id=\"text_35\">\n      <!-- OUTAGE.DURATION -->\n      <g style=\"fill: #262626\" transform=\"translate(84.896875 802.789498)scale(0.22 -0.22)\">\n       <use xlink:href=\"#ArialMT-4f\"/>\n       <use xlink:href=\"#ArialMT-55\" x=\"77.783203\"/>\n       <use xlink:href=\"#ArialMT-54\" x=\"150\"/>\n       <use xlink:href=\"#ArialMT-41\" x=\"203.708984\"/>\n       <use xlink:href=\"#ArialMT-47\" x=\"270.408203\"/>\n       <use xlink:href=\"#ArialMT-45\" x=\"348.191406\"/>\n       <use xlink:href=\"#ArialMT-2e\" x=\"414.890625\"/>\n       <use xlink:href=\"#ArialMT-44\" x=\"442.673828\"/>\n       <use xlink:href=\"#ArialMT-55\" x=\"514.890625\"/>\n       <use xlink:href=\"#ArialMT-52\" x=\"587.107422\"/>\n       <use xlink:href=\"#ArialMT-41\" x=\"659.324219\"/>\n       <use xlink:href=\"#ArialMT-54\" x=\"718.648438\"/>\n       <use xlink:href=\"#ArialMT-49\" x=\"779.732422\"/>\n       <use xlink:href=\"#ArialMT-4f\" x=\"807.515625\"/>\n       <use xlink:href=\"#ArialMT-4e\" x=\"885.298828\"/>\n      </g>\n     </g>\n    </g>\n    <g id=\"ytick_34\">\n     <g id=\"text_36\">\n      <!-- PC.REALGSP.REL -->\n      <g style=\"fill: #262626\" transform=\"translate(108.866563 826.380987)scale(0.22 -0.22)\">\n       <use xlink:href=\"#ArialMT-50\"/>\n       <use xlink:href=\"#ArialMT-43\" x=\"66.699219\"/>\n       <use xlink:href=\"#ArialMT-2e\" x=\"138.916016\"/>\n       <use xlink:href=\"#ArialMT-52\" x=\"166.699219\"/>\n       <use xlink:href=\"#ArialMT-45\" x=\"238.916016\"/>\n       <use xlink:href=\"#ArialMT-41\" x=\"305.615234\"/>\n       <use xlink:href=\"#ArialMT-4c\" x=\"372.314453\"/>\n       <use xlink:href=\"#ArialMT-47\" x=\"427.929688\"/>\n       <use xlink:href=\"#ArialMT-53\" x=\"505.712891\"/>\n       <use xlink:href=\"#ArialMT-50\" x=\"572.412109\"/>\n       <use xlink:href=\"#ArialMT-2e\" x=\"626.236328\"/>\n       <use xlink:href=\"#ArialMT-52\" x=\"654.019531\"/>\n       <use xlink:href=\"#ArialMT-45\" x=\"726.236328\"/>\n       <use xlink:href=\"#ArialMT-4c\" x=\"792.935547\"/>\n      </g>\n     </g>\n    </g>\n    <g id=\"ytick_35\">\n     <g id=\"text_37\">\n      <!-- PC.REALGSP.STATE -->\n      <g style=\"fill: #262626\" transform=\"translate(84.01 849.972477)scale(0.22 -0.22)\">\n       <use xlink:href=\"#ArialMT-50\"/>\n       <use xlink:href=\"#ArialMT-43\" x=\"66.699219\"/>\n       <use xlink:href=\"#ArialMT-2e\" x=\"138.916016\"/>\n       <use xlink:href=\"#ArialMT-52\" x=\"166.699219\"/>\n       <use xlink:href=\"#ArialMT-45\" x=\"238.916016\"/>\n       <use xlink:href=\"#ArialMT-41\" x=\"305.615234\"/>\n       <use xlink:href=\"#ArialMT-4c\" x=\"372.314453\"/>\n       <use xlink:href=\"#ArialMT-47\" x=\"427.929688\"/>\n       <use xlink:href=\"#ArialMT-53\" x=\"505.712891\"/>\n       <use xlink:href=\"#ArialMT-50\" x=\"572.412109\"/>\n       <use xlink:href=\"#ArialMT-2e\" x=\"626.236328\"/>\n       <use xlink:href=\"#ArialMT-53\" x=\"654.019531\"/>\n       <use xlink:href=\"#ArialMT-54\" x=\"720.71875\"/>\n       <use xlink:href=\"#ArialMT-41\" x=\"774.427734\"/>\n       <use xlink:href=\"#ArialMT-54\" x=\"833.751953\"/>\n       <use xlink:href=\"#ArialMT-45\" x=\"894.835938\"/>\n      </g>\n     </g>\n    </g>\n    <g id=\"ytick_36\">\n     <g id=\"text_38\">\n      <!-- PC.REALGSP.USA -->\n      <g style=\"fill: #262626\" transform=\"translate(106.425938 873.563966)scale(0.22 -0.22)\">\n       <use xlink:href=\"#ArialMT-50\"/>\n       <use xlink:href=\"#ArialMT-43\" x=\"66.699219\"/>\n       <use xlink:href=\"#ArialMT-2e\" x=\"138.916016\"/>\n       <use xlink:href=\"#ArialMT-52\" x=\"166.699219\"/>\n       <use xlink:href=\"#ArialMT-45\" x=\"238.916016\"/>\n       <use xlink:href=\"#ArialMT-41\" x=\"305.615234\"/>\n       <use xlink:href=\"#ArialMT-4c\" x=\"372.314453\"/>\n       <use xlink:href=\"#ArialMT-47\" x=\"427.929688\"/>\n       <use xlink:href=\"#ArialMT-53\" x=\"505.712891\"/>\n       <use xlink:href=\"#ArialMT-50\" x=\"572.412109\"/>\n       <use xlink:href=\"#ArialMT-2e\" x=\"626.236328\"/>\n       <use xlink:href=\"#ArialMT-55\" x=\"654.019531\"/>\n       <use xlink:href=\"#ArialMT-53\" x=\"726.236328\"/>\n       <use xlink:href=\"#ArialMT-41\" x=\"792.935547\"/>\n      </g>\n     </g>\n    </g>\n    <g id=\"ytick_37\">\n     <g id=\"text_39\">\n      <!-- DEMAND.LOSS.MW -->\n      <g style=\"fill: #262626\" transform=\"translate(90.200938 897.155455)scale(0.22 -0.22)\">\n       <defs>\n        <path id=\"ArialMT-57\" d=\"M 1294 0 \nL 78 4581 \nL 700 4581 \nL 1397 1578 \nQ 1509 1106 1591 641 \nQ 1766 1375 1797 1488 \nL 2669 4581 \nL 3400 4581 \nL 4056 2263 \nQ 4303 1400 4413 641 \nQ 4500 1075 4641 1638 \nL 5359 4581 \nL 5969 4581 \nL 4713 0 \nL 4128 0 \nL 3163 3491 \nQ 3041 3928 3019 4028 \nQ 2947 3713 2884 3491 \nL 1913 0 \nL 1294 0 \nz\n\" transform=\"scale(0.015625)\"/>\n       </defs>\n       <use xlink:href=\"#ArialMT-44\"/>\n       <use xlink:href=\"#ArialMT-45\" x=\"72.216797\"/>\n       <use xlink:href=\"#ArialMT-4d\" x=\"138.916016\"/>\n       <use xlink:href=\"#ArialMT-41\" x=\"222.216797\"/>\n       <use xlink:href=\"#ArialMT-4e\" x=\"288.916016\"/>\n       <use xlink:href=\"#ArialMT-44\" x=\"361.132812\"/>\n       <use xlink:href=\"#ArialMT-2e\" x=\"433.349609\"/>\n       <use xlink:href=\"#ArialMT-4c\" x=\"461.132812\"/>\n       <use xlink:href=\"#ArialMT-4f\" x=\"516.748047\"/>\n       <use xlink:href=\"#ArialMT-53\" x=\"594.53125\"/>\n       <use xlink:href=\"#ArialMT-53\" x=\"661.230469\"/>\n       <use xlink:href=\"#ArialMT-2e\" x=\"727.929688\"/>\n       <use xlink:href=\"#ArialMT-4d\" x=\"755.712891\"/>\n       <use xlink:href=\"#ArialMT-57\" x=\"839.013672\"/>\n      </g>\n     </g>\n    </g>\n    <g id=\"ytick_38\">\n     <g id=\"text_40\">\n      <!-- RES.CUST.PCT -->\n      <g style=\"fill: #262626\" transform=\"translate(136.648438 920.746945)scale(0.22 -0.22)\">\n       <use xlink:href=\"#ArialMT-52\"/>\n       <use xlink:href=\"#ArialMT-45\" x=\"72.216797\"/>\n       <use xlink:href=\"#ArialMT-53\" x=\"138.916016\"/>\n       <use xlink:href=\"#ArialMT-2e\" x=\"205.615234\"/>\n       <use xlink:href=\"#ArialMT-43\" x=\"233.398438\"/>\n       <use xlink:href=\"#ArialMT-55\" x=\"305.615234\"/>\n       <use xlink:href=\"#ArialMT-53\" x=\"377.832031\"/>\n       <use xlink:href=\"#ArialMT-54\" x=\"444.53125\"/>\n       <use xlink:href=\"#ArialMT-2e\" x=\"494.490234\"/>\n       <use xlink:href=\"#ArialMT-50\" x=\"522.273438\"/>\n       <use xlink:href=\"#ArialMT-43\" x=\"588.972656\"/>\n       <use xlink:href=\"#ArialMT-54\" x=\"661.189453\"/>\n      </g>\n     </g>\n    </g>\n    <g id=\"ytick_39\">\n     <g id=\"text_41\">\n      <!-- OBS -->\n      <g style=\"fill: #262626\" transform=\"translate(249.089063 944.338434)scale(0.22 -0.22)\">\n       <use xlink:href=\"#ArialMT-4f\"/>\n       <use xlink:href=\"#ArialMT-42\" x=\"77.783203\"/>\n       <use xlink:href=\"#ArialMT-53\" x=\"144.482422\"/>\n      </g>\n     </g>\n    </g>\n    <g id=\"ytick_40\">\n     <g id=\"text_42\">\n      <!-- IND.PERCEN -->\n      <g style=\"fill: #262626\" transform=\"translate(159.861875 967.929924)scale(0.22 -0.22)\">\n       <use xlink:href=\"#ArialMT-49\"/>\n       <use xlink:href=\"#ArialMT-4e\" x=\"27.783203\"/>\n       <use xlink:href=\"#ArialMT-44\" x=\"100\"/>\n       <use xlink:href=\"#ArialMT-2e\" x=\"172.216797\"/>\n       <use xlink:href=\"#ArialMT-50\" x=\"200\"/>\n       <use xlink:href=\"#ArialMT-45\" x=\"266.699219\"/>\n       <use xlink:href=\"#ArialMT-52\" x=\"333.398438\"/>\n       <use xlink:href=\"#ArialMT-43\" x=\"405.615234\"/>\n       <use xlink:href=\"#ArialMT-45\" x=\"477.832031\"/>\n       <use xlink:href=\"#ArialMT-4e\" x=\"544.53125\"/>\n      </g>\n     </g>\n    </g>\n    <g id=\"ytick_41\">\n     <g id=\"text_43\">\n      <!-- YEAR -->\n      <g style=\"fill: #262626\" transform=\"translate(235.638125 991.521413)scale(0.22 -0.22)\">\n       <use xlink:href=\"#ArialMT-59\"/>\n       <use xlink:href=\"#ArialMT-45\" x=\"66.699219\"/>\n       <use xlink:href=\"#ArialMT-41\" x=\"133.398438\"/>\n       <use xlink:href=\"#ArialMT-52\" x=\"200.097656\"/>\n      </g>\n     </g>\n    </g>\n    <g id=\"ytick_42\">\n     <g id=\"text_44\">\n      <!-- PCT_WATER_INLAND -->\n      <g style=\"fill: #262626\" transform=\"translate(69.404063 1015.246965)scale(0.22 -0.22)\">\n       <use xlink:href=\"#ArialMT-50\"/>\n       <use xlink:href=\"#ArialMT-43\" x=\"66.699219\"/>\n       <use xlink:href=\"#ArialMT-54\" x=\"138.916016\"/>\n       <use xlink:href=\"#ArialMT-5f\" x=\"200\"/>\n       <use xlink:href=\"#ArialMT-57\" x=\"255.615234\"/>\n       <use xlink:href=\"#ArialMT-41\" x=\"346.25\"/>\n       <use xlink:href=\"#ArialMT-54\" x=\"405.574219\"/>\n       <use xlink:href=\"#ArialMT-45\" x=\"466.658203\"/>\n       <use xlink:href=\"#ArialMT-52\" x=\"533.357422\"/>\n       <use xlink:href=\"#ArialMT-5f\" x=\"605.574219\"/>\n       <use xlink:href=\"#ArialMT-49\" x=\"661.189453\"/>\n       <use xlink:href=\"#ArialMT-4e\" x=\"688.972656\"/>\n       <use xlink:href=\"#ArialMT-4c\" x=\"761.189453\"/>\n       <use xlink:href=\"#ArialMT-41\" x=\"816.804688\"/>\n       <use xlink:href=\"#ArialMT-4e\" x=\"883.503906\"/>\n       <use xlink:href=\"#ArialMT-44\" x=\"955.720703\"/>\n      </g>\n     </g>\n    </g>\n    <g id=\"ytick_43\">\n     <g id=\"text_45\">\n      <!-- AREAPCT_URBAN -->\n      <g style=\"fill: #262626\" transform=\"translate(102.390313 1038.838454)scale(0.22 -0.22)\">\n       <use xlink:href=\"#ArialMT-41\"/>\n       <use xlink:href=\"#ArialMT-52\" x=\"66.699219\"/>\n       <use xlink:href=\"#ArialMT-45\" x=\"138.916016\"/>\n       <use xlink:href=\"#ArialMT-41\" x=\"205.615234\"/>\n       <use xlink:href=\"#ArialMT-50\" x=\"272.314453\"/>\n       <use xlink:href=\"#ArialMT-43\" x=\"339.013672\"/>\n       <use xlink:href=\"#ArialMT-54\" x=\"411.230469\"/>\n       <use xlink:href=\"#ArialMT-5f\" x=\"472.314453\"/>\n       <use xlink:href=\"#ArialMT-55\" x=\"527.929688\"/>\n       <use xlink:href=\"#ArialMT-52\" x=\"600.146484\"/>\n       <use xlink:href=\"#ArialMT-42\" x=\"672.363281\"/>\n       <use xlink:href=\"#ArialMT-41\" x=\"739.0625\"/>\n       <use xlink:href=\"#ArialMT-4e\" x=\"805.761719\"/>\n      </g>\n     </g>\n    </g>\n    <g id=\"ytick_44\">\n     <g id=\"text_46\">\n      <!-- PCT_WATER_TOT -->\n      <g style=\"fill: #262626\" transform=\"translate(106.487813 1062.436818)scale(0.22 -0.22)\">\n       <use xlink:href=\"#ArialMT-50\"/>\n       <use xlink:href=\"#ArialMT-43\" x=\"66.699219\"/>\n       <use xlink:href=\"#ArialMT-54\" x=\"138.916016\"/>\n       <use xlink:href=\"#ArialMT-5f\" x=\"200\"/>\n       <use xlink:href=\"#ArialMT-57\" x=\"255.615234\"/>\n       <use xlink:href=\"#ArialMT-41\" x=\"346.25\"/>\n       <use xlink:href=\"#ArialMT-54\" x=\"405.574219\"/>\n       <use xlink:href=\"#ArialMT-45\" x=\"466.658203\"/>\n       <use xlink:href=\"#ArialMT-52\" x=\"533.357422\"/>\n       <use xlink:href=\"#ArialMT-5f\" x=\"605.574219\"/>\n       <use xlink:href=\"#ArialMT-54\" x=\"661.189453\"/>\n       <use xlink:href=\"#ArialMT-4f\" x=\"720.523438\"/>\n       <use xlink:href=\"#ArialMT-54\" x=\"798.306641\"/>\n      </g>\n     </g>\n    </g>\n    <g id=\"ytick_45\">\n     <g id=\"text_47\">\n      <!-- AREAPCT_UC -->\n      <g style=\"fill: #262626\" transform=\"translate(147.627813 1086.021433)scale(0.22 -0.22)\">\n       <use xlink:href=\"#ArialMT-41\"/>\n       <use xlink:href=\"#ArialMT-52\" x=\"66.699219\"/>\n       <use xlink:href=\"#ArialMT-45\" x=\"138.916016\"/>\n       <use xlink:href=\"#ArialMT-41\" x=\"205.615234\"/>\n       <use xlink:href=\"#ArialMT-50\" x=\"272.314453\"/>\n       <use xlink:href=\"#ArialMT-43\" x=\"339.013672\"/>\n       <use xlink:href=\"#ArialMT-54\" x=\"411.230469\"/>\n       <use xlink:href=\"#ArialMT-5f\" x=\"472.314453\"/>\n       <use xlink:href=\"#ArialMT-55\" x=\"527.929688\"/>\n       <use xlink:href=\"#ArialMT-43\" x=\"600.146484\"/>\n      </g>\n     </g>\n    </g>\n    <g id=\"ytick_46\">\n     <g id=\"text_48\">\n      <!-- POPDEN_RURAL -->\n      <g style=\"fill: #262626\" transform=\"translate(115.830938 1109.619797)scale(0.22 -0.22)\">\n       <use xlink:href=\"#ArialMT-50\"/>\n       <use xlink:href=\"#ArialMT-4f\" x=\"66.699219\"/>\n       <use xlink:href=\"#ArialMT-50\" x=\"144.482422\"/>\n       <use xlink:href=\"#ArialMT-44\" x=\"211.181641\"/>\n       <use xlink:href=\"#ArialMT-45\" x=\"283.398438\"/>\n       <use xlink:href=\"#ArialMT-4e\" x=\"350.097656\"/>\n       <use xlink:href=\"#ArialMT-5f\" x=\"422.314453\"/>\n       <use xlink:href=\"#ArialMT-52\" x=\"477.929688\"/>\n       <use xlink:href=\"#ArialMT-55\" x=\"550.146484\"/>\n       <use xlink:href=\"#ArialMT-52\" x=\"622.363281\"/>\n       <use xlink:href=\"#ArialMT-41\" x=\"694.580078\"/>\n       <use xlink:href=\"#ArialMT-4c\" x=\"761.279297\"/>\n      </g>\n     </g>\n    </g>\n    <g id=\"ytick_47\">\n     <g id=\"text_49\">\n      <!-- POPPCT_UC -->\n      <g style=\"fill: #262626\" transform=\"translate(161.07875 1133.211287)scale(0.22 -0.22)\">\n       <use xlink:href=\"#ArialMT-50\"/>\n       <use xlink:href=\"#ArialMT-4f\" x=\"66.699219\"/>\n       <use xlink:href=\"#ArialMT-50\" x=\"144.482422\"/>\n       <use xlink:href=\"#ArialMT-50\" x=\"211.181641\"/>\n       <use xlink:href=\"#ArialMT-43\" x=\"277.880859\"/>\n       <use xlink:href=\"#ArialMT-54\" x=\"350.097656\"/>\n       <use xlink:href=\"#ArialMT-5f\" x=\"411.181641\"/>\n       <use xlink:href=\"#ArialMT-55\" x=\"466.796875\"/>\n       <use xlink:href=\"#ArialMT-43\" x=\"539.013672\"/>\n      </g>\n     </g>\n    </g>\n    <g id=\"text_50\">\n     <!-- Features -->\n     <g style=\"fill: #262626\" transform=\"translate(24.37875 632.13)rotate(-90)scale(0.24 -0.24)\">\n      <defs>\n       <path id=\"ArialMT-75\" d=\"M 2597 0 \nL 2597 488 \nQ 2209 -75 1544 -75 \nQ 1250 -75 995 37 \nQ 741 150 617 320 \nQ 494 491 444 738 \nQ 409 903 409 1263 \nL 409 3319 \nL 972 3319 \nL 972 1478 \nQ 972 1038 1006 884 \nQ 1059 663 1231 536 \nQ 1403 409 1656 409 \nQ 1909 409 2131 539 \nQ 2353 669 2445 892 \nQ 2538 1116 2538 1541 \nL 2538 3319 \nL 3100 3319 \nL 3100 0 \nL 2597 0 \nz\n\" transform=\"scale(0.015625)\"/>\n       <path id=\"ArialMT-73\" d=\"M 197 991 \nL 753 1078 \nQ 800 744 1014 566 \nQ 1228 388 1613 388 \nQ 2000 388 2187 545 \nQ 2375 703 2375 916 \nQ 2375 1106 2209 1216 \nQ 2094 1291 1634 1406 \nQ 1016 1563 777 1677 \nQ 538 1791 414 1992 \nQ 291 2194 291 2438 \nQ 291 2659 392 2848 \nQ 494 3038 669 3163 \nQ 800 3259 1026 3326 \nQ 1253 3394 1513 3394 \nQ 1903 3394 2198 3281 \nQ 2494 3169 2634 2976 \nQ 2775 2784 2828 2463 \nL 2278 2388 \nQ 2241 2644 2061 2787 \nQ 1881 2931 1553 2931 \nQ 1166 2931 1000 2803 \nQ 834 2675 834 2503 \nQ 834 2394 903 2306 \nQ 972 2216 1119 2156 \nQ 1203 2125 1616 2013 \nQ 2213 1853 2448 1751 \nQ 2684 1650 2818 1456 \nQ 2953 1263 2953 975 \nQ 2953 694 2789 445 \nQ 2625 197 2315 61 \nQ 2006 -75 1616 -75 \nQ 969 -75 630 194 \nQ 291 463 197 991 \nz\n\" transform=\"scale(0.015625)\"/>\n      </defs>\n      <use xlink:href=\"#ArialMT-46\"/>\n      <use xlink:href=\"#ArialMT-65\" x=\"61.083984\"/>\n      <use xlink:href=\"#ArialMT-61\" x=\"116.699219\"/>\n      <use xlink:href=\"#ArialMT-74\" x=\"172.314453\"/>\n      <use xlink:href=\"#ArialMT-75\" x=\"200.097656\"/>\n      <use xlink:href=\"#ArialMT-72\" x=\"255.712891\"/>\n      <use xlink:href=\"#ArialMT-65\" x=\"289.013672\"/>\n      <use xlink:href=\"#ArialMT-73\" x=\"344.628906\"/>\n     </g>\n    </g>\n   </g>\n   <g id=\"QuadMesh_1\">\n    <path d=\"M 311.050313 30.37875 \nL 1985.050313 30.37875 \nL 1985.050313 53.970239 \nL 311.050313 53.970239 \nL 311.050313 30.37875 \n\" clip-path=\"url(#pb1567bd6bf)\" style=\"fill: #b40426\"/>\n    <path d=\"M 311.050313 53.970239 \nL 1985.050313 53.970239 \nL 1985.050313 77.561729 \nL 311.050313 77.561729 \nL 311.050313 53.970239 \n\" clip-path=\"url(#pb1567bd6bf)\" style=\"fill: #c0282f\"/>\n    <path d=\"M 311.050313 77.561729 \nL 1985.050313 77.561729 \nL 1985.050313 101.153218 \nL 311.050313 101.153218 \nL 311.050313 77.561729 \n\" clip-path=\"url(#pb1567bd6bf)\" style=\"fill: #c12b30\"/>\n    <path d=\"M 311.050313 101.153218 \nL 1985.050313 101.153218 \nL 1985.050313 124.744707 \nL 311.050313 124.744707 \nL 311.050313 101.153218 \n\" clip-path=\"url(#pb1567bd6bf)\" style=\"fill: #cc403a\"/>\n    <path d=\"M 311.050313 124.744707 \nL 1985.050313 124.744707 \nL 1985.050313 148.336197 \nL 311.050313 148.336197 \nL 311.050313 124.744707 \n\" clip-path=\"url(#pb1567bd6bf)\" style=\"fill: #d24b40\"/>\n    <path d=\"M 311.050313 148.336197 \nL 1985.050313 148.336197 \nL 1985.050313 171.927686 \nL 311.050313 171.927686 \nL 311.050313 148.336197 \n\" clip-path=\"url(#pb1567bd6bf)\" style=\"fill: #d55042\"/>\n    <path d=\"M 311.050313 171.927686 \nL 1985.050313 171.927686 \nL 1985.050313 195.519176 \nL 311.050313 195.519176 \nL 311.050313 171.927686 \n\" clip-path=\"url(#pb1567bd6bf)\" style=\"fill: #d55042\"/>\n    <path d=\"M 311.050313 195.519176 \nL 1985.050313 195.519176 \nL 1985.050313 219.110665 \nL 311.050313 219.110665 \nL 311.050313 195.519176 \n\" clip-path=\"url(#pb1567bd6bf)\" style=\"fill: #d55042\"/>\n    <path d=\"M 311.050313 219.110665 \nL 1985.050313 219.110665 \nL 1985.050313 242.702154 \nL 311.050313 242.702154 \nL 311.050313 219.110665 \n\" clip-path=\"url(#pb1567bd6bf)\" style=\"fill: #d65244\"/>\n    <path d=\"M 311.050313 242.702154 \nL 1985.050313 242.702154 \nL 1985.050313 266.293644 \nL 311.050313 266.293644 \nL 311.050313 242.702154 \n\" clip-path=\"url(#pb1567bd6bf)\" style=\"fill: #dc5d4a\"/>\n    <path d=\"M 311.050313 266.293644 \nL 1985.050313 266.293644 \nL 1985.050313 289.885133 \nL 311.050313 289.885133 \nL 311.050313 266.293644 \n\" clip-path=\"url(#pb1567bd6bf)\" style=\"fill: #e26952\"/>\n    <path d=\"M 311.050313 289.885133 \nL 1985.050313 289.885133 \nL 1985.050313 313.476622 \nL 311.050313 313.476622 \nL 311.050313 289.885133 \n\" clip-path=\"url(#pb1567bd6bf)\" style=\"fill: #e36b54\"/>\n    <path d=\"M 311.050313 313.476622 \nL 1985.050313 313.476622 \nL 1985.050313 337.068112 \nL 311.050313 337.068112 \nL 311.050313 313.476622 \n\" clip-path=\"url(#pb1567bd6bf)\" style=\"fill: #e36b54\"/>\n    <path d=\"M 311.050313 337.068112 \nL 1985.050313 337.068112 \nL 1985.050313 360.659601 \nL 311.050313 360.659601 \nL 311.050313 337.068112 \n\" clip-path=\"url(#pb1567bd6bf)\" style=\"fill: #eed0c0\"/>\n    <path d=\"M 311.050313 360.659601 \nL 1985.050313 360.659601 \nL 1985.050313 384.25109 \nL 311.050313 384.25109 \nL 311.050313 360.659601 \n\" clip-path=\"url(#pb1567bd6bf)\" style=\"fill: #ead5c9\"/>\n    <path d=\"M 311.050313 384.25109 \nL 1985.050313 384.25109 \nL 1985.050313 407.84258 \nL 311.050313 407.84258 \nL 311.050313 384.25109 \n\" clip-path=\"url(#pb1567bd6bf)\" style=\"fill: #e0dbd8\"/>\n    <path d=\"M 311.050313 407.84258 \nL 1985.050313 407.84258 \nL 1985.050313 431.434069 \nL 311.050313 431.434069 \nL 311.050313 407.84258 \n\" clip-path=\"url(#pb1567bd6bf)\" style=\"fill: #c5d6f2\"/>\n    <path d=\"M 311.050313 431.434069 \nL 1985.050313 431.434069 \nL 1985.050313 455.025559 \nL 311.050313 455.025559 \nL 311.050313 431.434069 \n\" clip-path=\"url(#pb1567bd6bf)\" style=\"fill: #bed2f6\"/>\n    <path d=\"M 311.050313 455.025559 \nL 1985.050313 455.025559 \nL 1985.050313 478.617048 \nL 311.050313 478.617048 \nL 311.050313 455.025559 \n\" clip-path=\"url(#pb1567bd6bf)\" style=\"fill: #bbd1f8\"/>\n    <path d=\"M 311.050313 478.617048 \nL 1985.050313 478.617048 \nL 1985.050313 502.208537 \nL 311.050313 502.208537 \nL 311.050313 478.617048 \n\" clip-path=\"url(#pb1567bd6bf)\" style=\"fill: #bad0f8\"/>\n    <path d=\"M 311.050313 502.208537 \nL 1985.050313 502.208537 \nL 1985.050313 525.800027 \nL 311.050313 525.800027 \nL 311.050313 502.208537 \n\" clip-path=\"url(#pb1567bd6bf)\" style=\"fill: #b9d0f9\"/>\n    <path d=\"M 311.050313 525.800027 \nL 1985.050313 525.800027 \nL 1985.050313 549.391516 \nL 311.050313 549.391516 \nL 311.050313 525.800027 \n\" clip-path=\"url(#pb1567bd6bf)\" style=\"fill: #b9d0f9\"/>\n    <path d=\"M 311.050313 549.391516 \nL 1985.050313 549.391516 \nL 1985.050313 572.983005 \nL 311.050313 572.983005 \nL 311.050313 549.391516 \n\" clip-path=\"url(#pb1567bd6bf)\" style=\"fill: #b2ccfb\"/>\n    <path d=\"M 311.050313 572.983005 \nL 1985.050313 572.983005 \nL 1985.050313 596.574495 \nL 311.050313 596.574495 \nL 311.050313 572.983005 \n\" clip-path=\"url(#pb1567bd6bf)\" style=\"fill: #afcafc\"/>\n    <path d=\"M 311.050313 596.574495 \nL 1985.050313 596.574495 \nL 1985.050313 620.165984 \nL 311.050313 620.165984 \nL 311.050313 596.574495 \n\" clip-path=\"url(#pb1567bd6bf)\" style=\"fill: #a7c5fe\"/>\n    <path d=\"M 311.050313 620.165984 \nL 1985.050313 620.165984 \nL 1985.050313 643.757473 \nL 311.050313 643.757473 \nL 311.050313 620.165984 \n\" clip-path=\"url(#pb1567bd6bf)\" style=\"fill: #a7c5fe\"/>\n    <path d=\"M 311.050313 643.757473 \nL 1985.050313 643.757473 \nL 1985.050313 667.348963 \nL 311.050313 667.348963 \nL 311.050313 643.757473 \n\" clip-path=\"url(#pb1567bd6bf)\" style=\"fill: #a6c4fe\"/>\n    <path d=\"M 311.050313 667.348963 \nL 1985.050313 667.348963 \nL 1985.050313 690.940452 \nL 311.050313 690.940452 \nL 311.050313 667.348963 \n\" clip-path=\"url(#pb1567bd6bf)\" style=\"fill: #a6c4fe\"/>\n    <path d=\"M 311.050313 690.940452 \nL 1985.050313 690.940452 \nL 1985.050313 714.531941 \nL 311.050313 714.531941 \nL 311.050313 690.940452 \n\" clip-path=\"url(#pb1567bd6bf)\" style=\"fill: #a2c1ff\"/>\n    <path d=\"M 311.050313 714.531941 \nL 1985.050313 714.531941 \nL 1985.050313 738.123431 \nL 311.050313 738.123431 \nL 311.050313 714.531941 \n\" clip-path=\"url(#pb1567bd6bf)\" style=\"fill: #9fbfff\"/>\n    <path d=\"M 311.050313 738.123431 \nL 1985.050313 738.123431 \nL 1985.050313 761.71492 \nL 311.050313 761.71492 \nL 311.050313 738.123431 \n\" clip-path=\"url(#pb1567bd6bf)\" style=\"fill: #9abbff\"/>\n    <path d=\"M 311.050313 761.71492 \nL 1985.050313 761.71492 \nL 1985.050313 785.30641 \nL 311.050313 785.30641 \nL 311.050313 761.71492 \n\" clip-path=\"url(#pb1567bd6bf)\" style=\"fill: #98b9ff\"/>\n    <path d=\"M 311.050313 785.30641 \nL 1985.050313 785.30641 \nL 1985.050313 808.897899 \nL 311.050313 808.897899 \nL 311.050313 785.30641 \n\" clip-path=\"url(#pb1567bd6bf)\" style=\"fill: #98b9ff\"/>\n    <path d=\"M 311.050313 808.897899 \nL 1985.050313 808.897899 \nL 1985.050313 832.489388 \nL 311.050313 832.489388 \nL 311.050313 808.897899 \n\" clip-path=\"url(#pb1567bd6bf)\" style=\"fill: #94b6ff\"/>\n    <path d=\"M 311.050313 832.489388 \nL 1985.050313 832.489388 \nL 1985.050313 856.080878 \nL 311.050313 856.080878 \nL 311.050313 832.489388 \n\" clip-path=\"url(#pb1567bd6bf)\" style=\"fill: #93b5fe\"/>\n    <path d=\"M 311.050313 856.080878 \nL 1985.050313 856.080878 \nL 1985.050313 879.672367 \nL 311.050313 879.672367 \nL 311.050313 856.080878 \n\" clip-path=\"url(#pb1567bd6bf)\" style=\"fill: #84a7fc\"/>\n    <path d=\"M 311.050313 879.672367 \nL 1985.050313 879.672367 \nL 1985.050313 903.263856 \nL 311.050313 903.263856 \nL 311.050313 879.672367 \n\" clip-path=\"url(#pb1567bd6bf)\" style=\"fill: #84a7fc\"/>\n    <path d=\"M 311.050313 903.263856 \nL 1985.050313 903.263856 \nL 1985.050313 926.855346 \nL 311.050313 926.855346 \nL 311.050313 903.263856 \n\" clip-path=\"url(#pb1567bd6bf)\" style=\"fill: #779af7\"/>\n    <path d=\"M 311.050313 926.855346 \nL 1985.050313 926.855346 \nL 1985.050313 950.446835 \nL 311.050313 950.446835 \nL 311.050313 926.855346 \n\" clip-path=\"url(#pb1567bd6bf)\" style=\"fill: #6e90f2\"/>\n    <path d=\"M 311.050313 950.446835 \nL 1985.050313 950.446835 \nL 1985.050313 974.038324 \nL 311.050313 974.038324 \nL 311.050313 950.446835 \n\" clip-path=\"url(#pb1567bd6bf)\" style=\"fill: #6b8df0\"/>\n    <path d=\"M 311.050313 974.038324 \nL 1985.050313 974.038324 \nL 1985.050313 997.629814 \nL 311.050313 997.629814 \nL 311.050313 974.038324 \n\" clip-path=\"url(#pb1567bd6bf)\" style=\"fill: #688aef\"/>\n    <path d=\"M 311.050313 997.629814 \nL 1985.050313 997.629814 \nL 1985.050313 1021.221303 \nL 311.050313 1021.221303 \nL 311.050313 997.629814 \n\" clip-path=\"url(#pb1567bd6bf)\" style=\"fill: #6485ec\"/>\n    <path d=\"M 311.050313 1021.221303 \nL 1985.050313 1021.221303 \nL 1985.050313 1044.812793 \nL 311.050313 1044.812793 \nL 311.050313 1021.221303 \n\" clip-path=\"url(#pb1567bd6bf)\" style=\"fill: #5d7ce6\"/>\n    <path d=\"M 311.050313 1044.812793 \nL 1985.050313 1044.812793 \nL 1985.050313 1068.404282 \nL 311.050313 1068.404282 \nL 311.050313 1044.812793 \n\" clip-path=\"url(#pb1567bd6bf)\" style=\"fill: #5d7ce6\"/>\n    <path d=\"M 311.050313 1068.404282 \nL 1985.050313 1068.404282 \nL 1985.050313 1091.995771 \nL 311.050313 1091.995771 \nL 311.050313 1068.404282 \n\" clip-path=\"url(#pb1567bd6bf)\" style=\"fill: #536edd\"/>\n    <path d=\"M 311.050313 1091.995771 \nL 1985.050313 1091.995771 \nL 1985.050313 1115.587261 \nL 311.050313 1115.587261 \nL 311.050313 1091.995771 \n\" clip-path=\"url(#pb1567bd6bf)\" style=\"fill: #3c4ec2\"/>\n    <path d=\"M 311.050313 1115.587261 \nL 1985.050313 1115.587261 \nL 1985.050313 1139.17875 \nL 311.050313 1139.17875 \nL 311.050313 1115.587261 \n\" clip-path=\"url(#pb1567bd6bf)\" style=\"fill: #3b4cc0\"/>\n   </g>\n   <g id=\"text_51\">\n    <!-- 1.00 -->\n    <g style=\"fill: #ffffff\" transform=\"translate(1124.697187 48.37887)scale(0.24 -0.24)\">\n     <defs>\n      <path id=\"ArialMT-31\" d=\"M 2384 0 \nL 1822 0 \nL 1822 3584 \nQ 1619 3391 1289 3197 \nQ 959 3003 697 2906 \nL 697 3450 \nQ 1169 3672 1522 3987 \nQ 1875 4303 2022 4600 \nL 2384 4600 \nL 2384 0 \nz\n\" transform=\"scale(0.015625)\"/>\n      <path id=\"ArialMT-30\" d=\"M 266 2259 \nQ 266 3072 433 3567 \nQ 600 4063 929 4331 \nQ 1259 4600 1759 4600 \nQ 2128 4600 2406 4451 \nQ 2684 4303 2865 4023 \nQ 3047 3744 3150 3342 \nQ 3253 2941 3253 2259 \nQ 3253 1453 3087 958 \nQ 2922 463 2592 192 \nQ 2263 -78 1759 -78 \nQ 1097 -78 719 397 \nQ 266 969 266 2259 \nz\nM 844 2259 \nQ 844 1131 1108 757 \nQ 1372 384 1759 384 \nQ 2147 384 2411 759 \nQ 2675 1134 2675 2259 \nQ 2675 3391 2411 3762 \nQ 2147 4134 1753 4134 \nQ 1366 4134 1134 3806 \nQ 844 3388 844 2259 \nz\n\" transform=\"scale(0.015625)\"/>\n     </defs>\n     <use xlink:href=\"#ArialMT-31\"/>\n     <use xlink:href=\"#ArialMT-2e\" x=\"55.615234\"/>\n     <use xlink:href=\"#ArialMT-30\" x=\"83.398438\"/>\n     <use xlink:href=\"#ArialMT-30\" x=\"139.013672\"/>\n    </g>\n   </g>\n   <g id=\"text_52\">\n    <!-- 0.96 -->\n    <g style=\"fill: #ffffff\" transform=\"translate(1124.697187 71.970359)scale(0.24 -0.24)\">\n     <defs>\n      <path id=\"ArialMT-39\" d=\"M 350 1059 \nL 891 1109 \nQ 959 728 1153 556 \nQ 1347 384 1650 384 \nQ 1909 384 2104 503 \nQ 2300 622 2425 820 \nQ 2550 1019 2634 1356 \nQ 2719 1694 2719 2044 \nQ 2719 2081 2716 2156 \nQ 2547 1888 2255 1720 \nQ 1963 1553 1622 1553 \nQ 1053 1553 659 1965 \nQ 266 2378 266 3053 \nQ 266 3750 677 4175 \nQ 1088 4600 1706 4600 \nQ 2153 4600 2523 4359 \nQ 2894 4119 3086 3673 \nQ 3278 3228 3278 2384 \nQ 3278 1506 3087 986 \nQ 2897 466 2520 194 \nQ 2144 -78 1638 -78 \nQ 1100 -78 759 220 \nQ 419 519 350 1059 \nz\nM 2653 3081 \nQ 2653 3566 2395 3850 \nQ 2138 4134 1775 4134 \nQ 1400 4134 1122 3828 \nQ 844 3522 844 3034 \nQ 844 2597 1108 2323 \nQ 1372 2050 1759 2050 \nQ 2150 2050 2401 2323 \nQ 2653 2597 2653 3081 \nz\n\" transform=\"scale(0.015625)\"/>\n      <path id=\"ArialMT-36\" d=\"M 3184 3459 \nL 2625 3416 \nQ 2550 3747 2413 3897 \nQ 2184 4138 1850 4138 \nQ 1581 4138 1378 3988 \nQ 1113 3794 959 3422 \nQ 806 3050 800 2363 \nQ 1003 2672 1297 2822 \nQ 1591 2972 1913 2972 \nQ 2475 2972 2870 2558 \nQ 3266 2144 3266 1488 \nQ 3266 1056 3080 686 \nQ 2894 316 2569 119 \nQ 2244 -78 1831 -78 \nQ 1128 -78 684 439 \nQ 241 956 241 2144 \nQ 241 3472 731 4075 \nQ 1159 4600 1884 4600 \nQ 2425 4600 2770 4297 \nQ 3116 3994 3184 3459 \nz\nM 888 1484 \nQ 888 1194 1011 928 \nQ 1134 663 1356 523 \nQ 1578 384 1822 384 \nQ 2178 384 2434 671 \nQ 2691 959 2691 1453 \nQ 2691 1928 2437 2201 \nQ 2184 2475 1800 2475 \nQ 1419 2475 1153 2201 \nQ 888 1928 888 1484 \nz\n\" transform=\"scale(0.015625)\"/>\n     </defs>\n     <use xlink:href=\"#ArialMT-30\"/>\n     <use xlink:href=\"#ArialMT-2e\" x=\"55.615234\"/>\n     <use xlink:href=\"#ArialMT-39\" x=\"83.398438\"/>\n     <use xlink:href=\"#ArialMT-36\" x=\"139.013672\"/>\n    </g>\n   </g>\n   <g id=\"text_53\">\n    <!-- 0.95 -->\n    <g style=\"fill: #ffffff\" transform=\"translate(1124.697187 95.561848)scale(0.24 -0.24)\">\n     <defs>\n      <path id=\"ArialMT-35\" d=\"M 266 1200 \nL 856 1250 \nQ 922 819 1161 601 \nQ 1400 384 1738 384 \nQ 2144 384 2425 690 \nQ 2706 997 2706 1503 \nQ 2706 1984 2436 2262 \nQ 2166 2541 1728 2541 \nQ 1456 2541 1237 2417 \nQ 1019 2294 894 2097 \nL 366 2166 \nL 809 4519 \nL 3088 4519 \nL 3088 3981 \nL 1259 3981 \nL 1013 2750 \nQ 1425 3038 1878 3038 \nQ 2478 3038 2890 2622 \nQ 3303 2206 3303 1553 \nQ 3303 931 2941 478 \nQ 2500 -78 1738 -78 \nQ 1113 -78 717 272 \nQ 322 622 266 1200 \nz\n\" transform=\"scale(0.015625)\"/>\n     </defs>\n     <use xlink:href=\"#ArialMT-30\"/>\n     <use xlink:href=\"#ArialMT-2e\" x=\"55.615234\"/>\n     <use xlink:href=\"#ArialMT-39\" x=\"83.398438\"/>\n     <use xlink:href=\"#ArialMT-35\" x=\"139.013672\"/>\n    </g>\n   </g>\n   <g id=\"text_54\">\n    <!-- 0.90 -->\n    <g style=\"fill: #ffffff\" transform=\"translate(1124.697187 119.153338)scale(0.24 -0.24)\">\n     <use xlink:href=\"#ArialMT-30\"/>\n     <use xlink:href=\"#ArialMT-2e\" x=\"55.615234\"/>\n     <use xlink:href=\"#ArialMT-39\" x=\"83.398438\"/>\n     <use xlink:href=\"#ArialMT-30\" x=\"139.013672\"/>\n    </g>\n   </g>\n   <g id=\"text_55\">\n    <!-- 0.88 -->\n    <g style=\"fill: #ffffff\" transform=\"translate(1124.697187 142.744827)scale(0.24 -0.24)\">\n     <defs>\n      <path id=\"ArialMT-38\" d=\"M 1131 2484 \nQ 781 2613 612 2850 \nQ 444 3088 444 3419 \nQ 444 3919 803 4259 \nQ 1163 4600 1759 4600 \nQ 2359 4600 2725 4251 \nQ 3091 3903 3091 3403 \nQ 3091 3084 2923 2848 \nQ 2756 2613 2416 2484 \nQ 2838 2347 3058 2040 \nQ 3278 1734 3278 1309 \nQ 3278 722 2862 322 \nQ 2447 -78 1769 -78 \nQ 1091 -78 675 323 \nQ 259 725 259 1325 \nQ 259 1772 486 2073 \nQ 713 2375 1131 2484 \nz\nM 1019 3438 \nQ 1019 3113 1228 2906 \nQ 1438 2700 1772 2700 \nQ 2097 2700 2305 2904 \nQ 2513 3109 2513 3406 \nQ 2513 3716 2298 3927 \nQ 2084 4138 1766 4138 \nQ 1444 4138 1231 3931 \nQ 1019 3725 1019 3438 \nz\nM 838 1322 \nQ 838 1081 952 856 \nQ 1066 631 1291 507 \nQ 1516 384 1775 384 \nQ 2178 384 2440 643 \nQ 2703 903 2703 1303 \nQ 2703 1709 2433 1975 \nQ 2163 2241 1756 2241 \nQ 1359 2241 1098 1978 \nQ 838 1716 838 1322 \nz\n\" transform=\"scale(0.015625)\"/>\n     </defs>\n     <use xlink:href=\"#ArialMT-30\"/>\n     <use xlink:href=\"#ArialMT-2e\" x=\"55.615234\"/>\n     <use xlink:href=\"#ArialMT-38\" x=\"83.398438\"/>\n     <use xlink:href=\"#ArialMT-38\" x=\"139.013672\"/>\n    </g>\n   </g>\n   <g id=\"text_56\">\n    <!-- 0.87 -->\n    <g style=\"fill: #ffffff\" transform=\"translate(1124.697187 166.336316)scale(0.24 -0.24)\">\n     <defs>\n      <path id=\"ArialMT-37\" d=\"M 303 3981 \nL 303 4522 \nL 3269 4522 \nL 3269 4084 \nQ 2831 3619 2401 2847 \nQ 1972 2075 1738 1259 \nQ 1569 684 1522 0 \nL 944 0 \nQ 953 541 1156 1306 \nQ 1359 2072 1739 2783 \nQ 2119 3494 2547 3981 \nL 303 3981 \nz\n\" transform=\"scale(0.015625)\"/>\n     </defs>\n     <use xlink:href=\"#ArialMT-30\"/>\n     <use xlink:href=\"#ArialMT-2e\" x=\"55.615234\"/>\n     <use xlink:href=\"#ArialMT-38\" x=\"83.398438\"/>\n     <use xlink:href=\"#ArialMT-37\" x=\"139.013672\"/>\n    </g>\n   </g>\n   <g id=\"text_57\">\n    <!-- 0.87 -->\n    <g style=\"fill: #ffffff\" transform=\"translate(1124.697187 189.927806)scale(0.24 -0.24)\">\n     <use xlink:href=\"#ArialMT-30\"/>\n     <use xlink:href=\"#ArialMT-2e\" x=\"55.615234\"/>\n     <use xlink:href=\"#ArialMT-38\" x=\"83.398438\"/>\n     <use xlink:href=\"#ArialMT-37\" x=\"139.013672\"/>\n    </g>\n   </g>\n   <g id=\"text_58\">\n    <!-- 0.87 -->\n    <g style=\"fill: #ffffff\" transform=\"translate(1124.697187 213.519295)scale(0.24 -0.24)\">\n     <use xlink:href=\"#ArialMT-30\"/>\n     <use xlink:href=\"#ArialMT-2e\" x=\"55.615234\"/>\n     <use xlink:href=\"#ArialMT-38\" x=\"83.398438\"/>\n     <use xlink:href=\"#ArialMT-37\" x=\"139.013672\"/>\n    </g>\n   </g>\n   <g id=\"text_59\">\n    <!-- 0.87 -->\n    <g style=\"fill: #ffffff\" transform=\"translate(1124.697187 237.110785)scale(0.24 -0.24)\">\n     <use xlink:href=\"#ArialMT-30\"/>\n     <use xlink:href=\"#ArialMT-2e\" x=\"55.615234\"/>\n     <use xlink:href=\"#ArialMT-38\" x=\"83.398438\"/>\n     <use xlink:href=\"#ArialMT-37\" x=\"139.013672\"/>\n    </g>\n   </g>\n   <g id=\"text_60\">\n    <!-- 0.84 -->\n    <g style=\"fill: #ffffff\" transform=\"translate(1124.697187 260.702274)scale(0.24 -0.24)\">\n     <defs>\n      <path id=\"ArialMT-34\" d=\"M 2069 0 \nL 2069 1097 \nL 81 1097 \nL 81 1613 \nL 2172 4581 \nL 2631 4581 \nL 2631 1613 \nL 3250 1613 \nL 3250 1097 \nL 2631 1097 \nL 2631 0 \nL 2069 0 \nz\nM 2069 1613 \nL 2069 3678 \nL 634 1613 \nL 2069 1613 \nz\n\" transform=\"scale(0.015625)\"/>\n     </defs>\n     <use xlink:href=\"#ArialMT-30\"/>\n     <use xlink:href=\"#ArialMT-2e\" x=\"55.615234\"/>\n     <use xlink:href=\"#ArialMT-38\" x=\"83.398438\"/>\n     <use xlink:href=\"#ArialMT-34\" x=\"139.013672\"/>\n    </g>\n   </g>\n   <g id=\"text_61\">\n    <!-- 0.81 -->\n    <g style=\"fill: #ffffff\" transform=\"translate(1124.697187 284.293763)scale(0.24 -0.24)\">\n     <use xlink:href=\"#ArialMT-30\"/>\n     <use xlink:href=\"#ArialMT-2e\" x=\"55.615234\"/>\n     <use xlink:href=\"#ArialMT-38\" x=\"83.398438\"/>\n     <use xlink:href=\"#ArialMT-31\" x=\"139.013672\"/>\n    </g>\n   </g>\n   <g id=\"text_62\">\n    <!-- 0.80 -->\n    <g style=\"fill: #ffffff\" transform=\"translate(1124.697187 307.885253)scale(0.24 -0.24)\">\n     <use xlink:href=\"#ArialMT-30\"/>\n     <use xlink:href=\"#ArialMT-2e\" x=\"55.615234\"/>\n     <use xlink:href=\"#ArialMT-38\" x=\"83.398438\"/>\n     <use xlink:href=\"#ArialMT-30\" x=\"139.013672\"/>\n    </g>\n   </g>\n   <g id=\"text_63\">\n    <!-- 0.80 -->\n    <g style=\"fill: #ffffff\" transform=\"translate(1124.697187 331.476742)scale(0.24 -0.24)\">\n     <use xlink:href=\"#ArialMT-30\"/>\n     <use xlink:href=\"#ArialMT-2e\" x=\"55.615234\"/>\n     <use xlink:href=\"#ArialMT-38\" x=\"83.398438\"/>\n     <use xlink:href=\"#ArialMT-30\" x=\"139.013672\"/>\n    </g>\n   </g>\n   <g id=\"text_64\">\n    <!-- 0.43 -->\n    <g style=\"fill: #262626\" transform=\"translate(1124.697187 355.068231)scale(0.24 -0.24)\">\n     <defs>\n      <path id=\"ArialMT-33\" d=\"M 269 1209 \nL 831 1284 \nQ 928 806 1161 595 \nQ 1394 384 1728 384 \nQ 2125 384 2398 659 \nQ 2672 934 2672 1341 \nQ 2672 1728 2419 1979 \nQ 2166 2231 1775 2231 \nQ 1616 2231 1378 2169 \nL 1441 2663 \nQ 1497 2656 1531 2656 \nQ 1891 2656 2178 2843 \nQ 2466 3031 2466 3422 \nQ 2466 3731 2256 3934 \nQ 2047 4138 1716 4138 \nQ 1388 4138 1169 3931 \nQ 950 3725 888 3313 \nL 325 3413 \nQ 428 3978 793 4289 \nQ 1159 4600 1703 4600 \nQ 2078 4600 2393 4439 \nQ 2709 4278 2876 4000 \nQ 3044 3722 3044 3409 \nQ 3044 3113 2884 2869 \nQ 2725 2625 2413 2481 \nQ 2819 2388 3044 2092 \nQ 3269 1797 3269 1353 \nQ 3269 753 2831 336 \nQ 2394 -81 1725 -81 \nQ 1122 -81 723 278 \nQ 325 638 269 1209 \nz\n\" transform=\"scale(0.015625)\"/>\n     </defs>\n     <use xlink:href=\"#ArialMT-30\"/>\n     <use xlink:href=\"#ArialMT-2e\" x=\"55.615234\"/>\n     <use xlink:href=\"#ArialMT-34\" x=\"83.398438\"/>\n     <use xlink:href=\"#ArialMT-33\" x=\"139.013672\"/>\n    </g>\n   </g>\n   <g id=\"text_65\">\n    <!-- 0.39 -->\n    <g style=\"fill: #262626\" transform=\"translate(1124.697187 378.659721)scale(0.24 -0.24)\">\n     <use xlink:href=\"#ArialMT-30\"/>\n     <use xlink:href=\"#ArialMT-2e\" x=\"55.615234\"/>\n     <use xlink:href=\"#ArialMT-33\" x=\"83.398438\"/>\n     <use xlink:href=\"#ArialMT-39\" x=\"139.013672\"/>\n    </g>\n   </g>\n   <g id=\"text_66\">\n    <!-- 0.34 -->\n    <g style=\"fill: #262626\" transform=\"translate(1124.697187 402.25121)scale(0.24 -0.24)\">\n     <use xlink:href=\"#ArialMT-30\"/>\n     <use xlink:href=\"#ArialMT-2e\" x=\"55.615234\"/>\n     <use xlink:href=\"#ArialMT-33\" x=\"83.398438\"/>\n     <use xlink:href=\"#ArialMT-34\" x=\"139.013672\"/>\n    </g>\n   </g>\n   <g id=\"text_67\">\n    <!-- 0.21 -->\n    <g style=\"fill: #262626\" transform=\"translate(1124.697187 425.842699)scale(0.24 -0.24)\">\n     <defs>\n      <path id=\"ArialMT-32\" d=\"M 3222 541 \nL 3222 0 \nL 194 0 \nQ 188 203 259 391 \nQ 375 700 629 1000 \nQ 884 1300 1366 1694 \nQ 2113 2306 2375 2664 \nQ 2638 3022 2638 3341 \nQ 2638 3675 2398 3904 \nQ 2159 4134 1775 4134 \nQ 1369 4134 1125 3890 \nQ 881 3647 878 3216 \nL 300 3275 \nQ 359 3922 746 4261 \nQ 1134 4600 1788 4600 \nQ 2447 4600 2831 4234 \nQ 3216 3869 3216 3328 \nQ 3216 3053 3103 2787 \nQ 2991 2522 2730 2228 \nQ 2469 1934 1863 1422 \nQ 1356 997 1212 845 \nQ 1069 694 975 541 \nL 3222 541 \nz\n\" transform=\"scale(0.015625)\"/>\n     </defs>\n     <use xlink:href=\"#ArialMT-30\"/>\n     <use xlink:href=\"#ArialMT-2e\" x=\"55.615234\"/>\n     <use xlink:href=\"#ArialMT-32\" x=\"83.398438\"/>\n     <use xlink:href=\"#ArialMT-31\" x=\"139.013672\"/>\n    </g>\n   </g>\n   <g id=\"text_68\">\n    <!-- 0.17 -->\n    <g style=\"fill: #262626\" transform=\"translate(1124.697187 449.434189)scale(0.24 -0.24)\">\n     <use xlink:href=\"#ArialMT-30\"/>\n     <use xlink:href=\"#ArialMT-2e\" x=\"55.615234\"/>\n     <use xlink:href=\"#ArialMT-31\" x=\"83.398438\"/>\n     <use xlink:href=\"#ArialMT-37\" x=\"139.013672\"/>\n    </g>\n   </g>\n   <g id=\"text_69\">\n    <!-- 0.16 -->\n    <g style=\"fill: #262626\" transform=\"translate(1124.697187 473.025678)scale(0.24 -0.24)\">\n     <use xlink:href=\"#ArialMT-30\"/>\n     <use xlink:href=\"#ArialMT-2e\" x=\"55.615234\"/>\n     <use xlink:href=\"#ArialMT-31\" x=\"83.398438\"/>\n     <use xlink:href=\"#ArialMT-36\" x=\"139.013672\"/>\n    </g>\n   </g>\n   <g id=\"text_70\">\n    <!-- 0.16 -->\n    <g style=\"fill: #262626\" transform=\"translate(1124.697187 496.617168)scale(0.24 -0.24)\">\n     <use xlink:href=\"#ArialMT-30\"/>\n     <use xlink:href=\"#ArialMT-2e\" x=\"55.615234\"/>\n     <use xlink:href=\"#ArialMT-31\" x=\"83.398438\"/>\n     <use xlink:href=\"#ArialMT-36\" x=\"139.013672\"/>\n    </g>\n   </g>\n   <g id=\"text_71\">\n    <!-- 0.15 -->\n    <g style=\"fill: #262626\" transform=\"translate(1124.697187 520.208657)scale(0.24 -0.24)\">\n     <use xlink:href=\"#ArialMT-30\"/>\n     <use xlink:href=\"#ArialMT-2e\" x=\"55.615234\"/>\n     <use xlink:href=\"#ArialMT-31\" x=\"83.398438\"/>\n     <use xlink:href=\"#ArialMT-35\" x=\"139.013672\"/>\n    </g>\n   </g>\n   <g id=\"text_72\">\n    <!-- 0.15 -->\n    <g style=\"fill: #262626\" transform=\"translate(1124.697187 543.800146)scale(0.24 -0.24)\">\n     <use xlink:href=\"#ArialMT-30\"/>\n     <use xlink:href=\"#ArialMT-2e\" x=\"55.615234\"/>\n     <use xlink:href=\"#ArialMT-31\" x=\"83.398438\"/>\n     <use xlink:href=\"#ArialMT-35\" x=\"139.013672\"/>\n    </g>\n   </g>\n   <g id=\"text_73\">\n    <!-- 0.12 -->\n    <g style=\"fill: #262626\" transform=\"translate(1124.697187 567.391636)scale(0.24 -0.24)\">\n     <use xlink:href=\"#ArialMT-30\"/>\n     <use xlink:href=\"#ArialMT-2e\" x=\"55.615234\"/>\n     <use xlink:href=\"#ArialMT-31\" x=\"83.398438\"/>\n     <use xlink:href=\"#ArialMT-32\" x=\"139.013672\"/>\n    </g>\n   </g>\n   <g id=\"text_74\">\n    <!-- 0.12 -->\n    <g style=\"fill: #262626\" transform=\"translate(1124.697187 590.983125)scale(0.24 -0.24)\">\n     <use xlink:href=\"#ArialMT-30\"/>\n     <use xlink:href=\"#ArialMT-2e\" x=\"55.615234\"/>\n     <use xlink:href=\"#ArialMT-31\" x=\"83.398438\"/>\n     <use xlink:href=\"#ArialMT-32\" x=\"139.013672\"/>\n    </g>\n   </g>\n   <g id=\"text_75\">\n    <!-- 0.09 -->\n    <g style=\"fill: #262626\" transform=\"translate(1124.697187 614.574614)scale(0.24 -0.24)\">\n     <use xlink:href=\"#ArialMT-30\"/>\n     <use xlink:href=\"#ArialMT-2e\" x=\"55.615234\"/>\n     <use xlink:href=\"#ArialMT-30\" x=\"83.398438\"/>\n     <use xlink:href=\"#ArialMT-39\" x=\"139.013672\"/>\n    </g>\n   </g>\n   <g id=\"text_76\">\n    <!-- 0.08 -->\n    <g style=\"fill: #262626\" transform=\"translate(1124.697187 638.166104)scale(0.24 -0.24)\">\n     <use xlink:href=\"#ArialMT-30\"/>\n     <use xlink:href=\"#ArialMT-2e\" x=\"55.615234\"/>\n     <use xlink:href=\"#ArialMT-30\" x=\"83.398438\"/>\n     <use xlink:href=\"#ArialMT-38\" x=\"139.013672\"/>\n    </g>\n   </g>\n   <g id=\"text_77\">\n    <!-- 0.08 -->\n    <g style=\"fill: #262626\" transform=\"translate(1124.697187 661.757593)scale(0.24 -0.24)\">\n     <use xlink:href=\"#ArialMT-30\"/>\n     <use xlink:href=\"#ArialMT-2e\" x=\"55.615234\"/>\n     <use xlink:href=\"#ArialMT-30\" x=\"83.398438\"/>\n     <use xlink:href=\"#ArialMT-38\" x=\"139.013672\"/>\n    </g>\n   </g>\n   <g id=\"text_78\">\n    <!-- 0.08 -->\n    <g style=\"fill: #262626\" transform=\"translate(1124.697187 685.349082)scale(0.24 -0.24)\">\n     <use xlink:href=\"#ArialMT-30\"/>\n     <use xlink:href=\"#ArialMT-2e\" x=\"55.615234\"/>\n     <use xlink:href=\"#ArialMT-30\" x=\"83.398438\"/>\n     <use xlink:href=\"#ArialMT-38\" x=\"139.013672\"/>\n    </g>\n   </g>\n   <g id=\"text_79\">\n    <!-- 0.06 -->\n    <g style=\"fill: #262626\" transform=\"translate(1124.697187 708.940572)scale(0.24 -0.24)\">\n     <use xlink:href=\"#ArialMT-30\"/>\n     <use xlink:href=\"#ArialMT-2e\" x=\"55.615234\"/>\n     <use xlink:href=\"#ArialMT-30\" x=\"83.398438\"/>\n     <use xlink:href=\"#ArialMT-36\" x=\"139.013672\"/>\n    </g>\n   </g>\n   <g id=\"text_80\">\n    <!-- 0.05 -->\n    <g style=\"fill: #262626\" transform=\"translate(1124.697187 732.532061)scale(0.24 -0.24)\">\n     <use xlink:href=\"#ArialMT-30\"/>\n     <use xlink:href=\"#ArialMT-2e\" x=\"55.615234\"/>\n     <use xlink:href=\"#ArialMT-30\" x=\"83.398438\"/>\n     <use xlink:href=\"#ArialMT-35\" x=\"139.013672\"/>\n    </g>\n   </g>\n   <g id=\"text_81\">\n    <!-- 0.03 -->\n    <g style=\"fill: #262626\" transform=\"translate(1124.697187 756.123551)scale(0.24 -0.24)\">\n     <use xlink:href=\"#ArialMT-30\"/>\n     <use xlink:href=\"#ArialMT-2e\" x=\"55.615234\"/>\n     <use xlink:href=\"#ArialMT-30\" x=\"83.398438\"/>\n     <use xlink:href=\"#ArialMT-33\" x=\"139.013672\"/>\n    </g>\n   </g>\n   <g id=\"text_82\">\n    <!-- 0.03 -->\n    <g style=\"fill: #262626\" transform=\"translate(1124.697187 779.71504)scale(0.24 -0.24)\">\n     <use xlink:href=\"#ArialMT-30\"/>\n     <use xlink:href=\"#ArialMT-2e\" x=\"55.615234\"/>\n     <use xlink:href=\"#ArialMT-30\" x=\"83.398438\"/>\n     <use xlink:href=\"#ArialMT-33\" x=\"139.013672\"/>\n    </g>\n   </g>\n   <g id=\"text_83\">\n    <!-- 0.03 -->\n    <g style=\"fill: #262626\" transform=\"translate(1124.697187 803.306529)scale(0.24 -0.24)\">\n     <use xlink:href=\"#ArialMT-30\"/>\n     <use xlink:href=\"#ArialMT-2e\" x=\"55.615234\"/>\n     <use xlink:href=\"#ArialMT-30\" x=\"83.398438\"/>\n     <use xlink:href=\"#ArialMT-33\" x=\"139.013672\"/>\n    </g>\n   </g>\n   <g id=\"text_84\">\n    <!-- 0.01 -->\n    <g style=\"fill: #262626\" transform=\"translate(1124.697187 826.898019)scale(0.24 -0.24)\">\n     <use xlink:href=\"#ArialMT-30\"/>\n     <use xlink:href=\"#ArialMT-2e\" x=\"55.615234\"/>\n     <use xlink:href=\"#ArialMT-30\" x=\"83.398438\"/>\n     <use xlink:href=\"#ArialMT-31\" x=\"139.013672\"/>\n    </g>\n   </g>\n   <g id=\"text_85\">\n    <!-- 0.00 -->\n    <g style=\"fill: #262626\" transform=\"translate(1124.697187 850.489508)scale(0.24 -0.24)\">\n     <use xlink:href=\"#ArialMT-30\"/>\n     <use xlink:href=\"#ArialMT-2e\" x=\"55.615234\"/>\n     <use xlink:href=\"#ArialMT-30\" x=\"83.398438\"/>\n     <use xlink:href=\"#ArialMT-30\" x=\"139.013672\"/>\n    </g>\n   </g>\n   <g id=\"text_86\">\n    <!-- -0.05 -->\n    <g style=\"fill: #ffffff\" transform=\"translate(1120.701562 874.080997)scale(0.24 -0.24)\">\n     <defs>\n      <path id=\"ArialMT-2d\" d=\"M 203 1375 \nL 203 1941 \nL 1931 1941 \nL 1931 1375 \nL 203 1375 \nz\n\" transform=\"scale(0.015625)\"/>\n     </defs>\n     <use xlink:href=\"#ArialMT-2d\"/>\n     <use xlink:href=\"#ArialMT-30\" x=\"33.300781\"/>\n     <use xlink:href=\"#ArialMT-2e\" x=\"88.916016\"/>\n     <use xlink:href=\"#ArialMT-30\" x=\"116.699219\"/>\n     <use xlink:href=\"#ArialMT-35\" x=\"172.314453\"/>\n    </g>\n   </g>\n   <g id=\"text_87\">\n    <!-- -0.05 -->\n    <g style=\"fill: #ffffff\" transform=\"translate(1120.701562 897.672487)scale(0.24 -0.24)\">\n     <use xlink:href=\"#ArialMT-2d\"/>\n     <use xlink:href=\"#ArialMT-30\" x=\"33.300781\"/>\n     <use xlink:href=\"#ArialMT-2e\" x=\"88.916016\"/>\n     <use xlink:href=\"#ArialMT-30\" x=\"116.699219\"/>\n     <use xlink:href=\"#ArialMT-35\" x=\"172.314453\"/>\n    </g>\n   </g>\n   <g id=\"text_88\">\n    <!-- -0.10 -->\n    <g style=\"fill: #ffffff\" transform=\"translate(1120.701562 921.263976)scale(0.24 -0.24)\">\n     <use xlink:href=\"#ArialMT-2d\"/>\n     <use xlink:href=\"#ArialMT-30\" x=\"33.300781\"/>\n     <use xlink:href=\"#ArialMT-2e\" x=\"88.916016\"/>\n     <use xlink:href=\"#ArialMT-31\" x=\"116.699219\"/>\n     <use xlink:href=\"#ArialMT-30\" x=\"172.314453\"/>\n    </g>\n   </g>\n   <g id=\"text_89\">\n    <!-- -0.14 -->\n    <g style=\"fill: #ffffff\" transform=\"translate(1120.701562 944.855465)scale(0.24 -0.24)\">\n     <use xlink:href=\"#ArialMT-2d\"/>\n     <use xlink:href=\"#ArialMT-30\" x=\"33.300781\"/>\n     <use xlink:href=\"#ArialMT-2e\" x=\"88.916016\"/>\n     <use xlink:href=\"#ArialMT-31\" x=\"116.699219\"/>\n     <use xlink:href=\"#ArialMT-34\" x=\"172.314453\"/>\n    </g>\n   </g>\n   <g id=\"text_90\">\n    <!-- -0.15 -->\n    <g style=\"fill: #ffffff\" transform=\"translate(1120.701562 968.446955)scale(0.24 -0.24)\">\n     <use xlink:href=\"#ArialMT-2d\"/>\n     <use xlink:href=\"#ArialMT-30\" x=\"33.300781\"/>\n     <use xlink:href=\"#ArialMT-2e\" x=\"88.916016\"/>\n     <use xlink:href=\"#ArialMT-31\" x=\"116.699219\"/>\n     <use xlink:href=\"#ArialMT-35\" x=\"172.314453\"/>\n    </g>\n   </g>\n   <g id=\"text_91\">\n    <!-- -0.16 -->\n    <g style=\"fill: #ffffff\" transform=\"translate(1120.701562 992.038444)scale(0.24 -0.24)\">\n     <use xlink:href=\"#ArialMT-2d\"/>\n     <use xlink:href=\"#ArialMT-30\" x=\"33.300781\"/>\n     <use xlink:href=\"#ArialMT-2e\" x=\"88.916016\"/>\n     <use xlink:href=\"#ArialMT-31\" x=\"116.699219\"/>\n     <use xlink:href=\"#ArialMT-36\" x=\"172.314453\"/>\n    </g>\n   </g>\n   <g id=\"text_92\">\n    <!-- -0.18 -->\n    <g style=\"fill: #ffffff\" transform=\"translate(1120.701562 1015.629934)scale(0.24 -0.24)\">\n     <use xlink:href=\"#ArialMT-2d\"/>\n     <use xlink:href=\"#ArialMT-30\" x=\"33.300781\"/>\n     <use xlink:href=\"#ArialMT-2e\" x=\"88.916016\"/>\n     <use xlink:href=\"#ArialMT-31\" x=\"116.699219\"/>\n     <use xlink:href=\"#ArialMT-38\" x=\"172.314453\"/>\n    </g>\n   </g>\n   <g id=\"text_93\">\n    <!-- -0.21 -->\n    <g style=\"fill: #ffffff\" transform=\"translate(1120.701562 1039.221423)scale(0.24 -0.24)\">\n     <use xlink:href=\"#ArialMT-2d\"/>\n     <use xlink:href=\"#ArialMT-30\" x=\"33.300781\"/>\n     <use xlink:href=\"#ArialMT-2e\" x=\"88.916016\"/>\n     <use xlink:href=\"#ArialMT-32\" x=\"116.699219\"/>\n     <use xlink:href=\"#ArialMT-31\" x=\"172.314453\"/>\n    </g>\n   </g>\n   <g id=\"text_94\">\n    <!-- -0.21 -->\n    <g style=\"fill: #ffffff\" transform=\"translate(1120.701562 1062.812912)scale(0.24 -0.24)\">\n     <use xlink:href=\"#ArialMT-2d\"/>\n     <use xlink:href=\"#ArialMT-30\" x=\"33.300781\"/>\n     <use xlink:href=\"#ArialMT-2e\" x=\"88.916016\"/>\n     <use xlink:href=\"#ArialMT-32\" x=\"116.699219\"/>\n     <use xlink:href=\"#ArialMT-31\" x=\"172.314453\"/>\n    </g>\n   </g>\n   <g id=\"text_95\">\n    <!-- -0.25 -->\n    <g style=\"fill: #ffffff\" transform=\"translate(1120.701562 1086.404402)scale(0.24 -0.24)\">\n     <use xlink:href=\"#ArialMT-2d\"/>\n     <use xlink:href=\"#ArialMT-30\" x=\"33.300781\"/>\n     <use xlink:href=\"#ArialMT-2e\" x=\"88.916016\"/>\n     <use xlink:href=\"#ArialMT-32\" x=\"116.699219\"/>\n     <use xlink:href=\"#ArialMT-35\" x=\"172.314453\"/>\n    </g>\n   </g>\n   <g id=\"text_96\">\n    <!-- -0.35 -->\n    <g style=\"fill: #ffffff\" transform=\"translate(1120.701562 1109.995891)scale(0.24 -0.24)\">\n     <use xlink:href=\"#ArialMT-2d\"/>\n     <use xlink:href=\"#ArialMT-30\" x=\"33.300781\"/>\n     <use xlink:href=\"#ArialMT-2e\" x=\"88.916016\"/>\n     <use xlink:href=\"#ArialMT-33\" x=\"116.699219\"/>\n     <use xlink:href=\"#ArialMT-35\" x=\"172.314453\"/>\n    </g>\n   </g>\n   <g id=\"text_97\">\n    <!-- -0.36 -->\n    <g style=\"fill: #ffffff\" transform=\"translate(1120.701562 1133.58738)scale(0.24 -0.24)\">\n     <use xlink:href=\"#ArialMT-2d\"/>\n     <use xlink:href=\"#ArialMT-30\" x=\"33.300781\"/>\n     <use xlink:href=\"#ArialMT-2e\" x=\"88.916016\"/>\n     <use xlink:href=\"#ArialMT-33\" x=\"116.699219\"/>\n     <use xlink:href=\"#ArialMT-36\" x=\"172.314453\"/>\n    </g>\n   </g>\n   <g id=\"text_98\">\n    <!-- Correlation of Features with TOTAL.SALES -->\n    <g style=\"fill: #262626\" transform=\"translate(917.939063 24.37875)scale(0.24 -0.24)\">\n     <defs>\n      <path id=\"ArialMT-66\" d=\"M 556 0 \nL 556 2881 \nL 59 2881 \nL 59 3319 \nL 556 3319 \nL 556 3672 \nQ 556 4006 616 4169 \nQ 697 4388 901 4523 \nQ 1106 4659 1475 4659 \nQ 1713 4659 2000 4603 \nL 1916 4113 \nQ 1741 4144 1584 4144 \nQ 1328 4144 1222 4034 \nQ 1116 3925 1116 3625 \nL 1116 3319 \nL 1763 3319 \nL 1763 2881 \nL 1116 2881 \nL 1116 0 \nL 556 0 \nz\n\" transform=\"scale(0.015625)\"/>\n     </defs>\n     <use xlink:href=\"#ArialMT-43\"/>\n     <use xlink:href=\"#ArialMT-6f\" x=\"72.216797\"/>\n     <use xlink:href=\"#ArialMT-72\" x=\"127.832031\"/>\n     <use xlink:href=\"#ArialMT-72\" x=\"161.132812\"/>\n     <use xlink:href=\"#ArialMT-65\" x=\"194.433594\"/>\n     <use xlink:href=\"#ArialMT-6c\" x=\"250.048828\"/>\n     <use xlink:href=\"#ArialMT-61\" x=\"272.265625\"/>\n     <use xlink:href=\"#ArialMT-74\" x=\"327.880859\"/>\n     <use xlink:href=\"#ArialMT-69\" x=\"355.664062\"/>\n     <use xlink:href=\"#ArialMT-6f\" x=\"377.880859\"/>\n     <use xlink:href=\"#ArialMT-6e\" x=\"433.496094\"/>\n     <use xlink:href=\"#ArialMT-20\" x=\"489.111328\"/>\n     <use xlink:href=\"#ArialMT-6f\" x=\"516.894531\"/>\n     <use xlink:href=\"#ArialMT-66\" x=\"572.509766\"/>\n     <use xlink:href=\"#ArialMT-20\" x=\"600.292969\"/>\n     <use xlink:href=\"#ArialMT-46\" x=\"628.076172\"/>\n     <use xlink:href=\"#ArialMT-65\" x=\"689.160156\"/>\n     <use xlink:href=\"#ArialMT-61\" x=\"744.775391\"/>\n     <use xlink:href=\"#ArialMT-74\" x=\"800.390625\"/>\n     <use xlink:href=\"#ArialMT-75\" x=\"828.173828\"/>\n     <use xlink:href=\"#ArialMT-72\" x=\"883.789062\"/>\n     <use xlink:href=\"#ArialMT-65\" x=\"917.089844\"/>\n     <use xlink:href=\"#ArialMT-73\" x=\"972.705078\"/>\n     <use xlink:href=\"#ArialMT-20\" x=\"1022.705078\"/>\n     <use xlink:href=\"#ArialMT-77\" x=\"1050.488281\"/>\n     <use xlink:href=\"#ArialMT-69\" x=\"1122.705078\"/>\n     <use xlink:href=\"#ArialMT-74\" x=\"1144.921875\"/>\n     <use xlink:href=\"#ArialMT-68\" x=\"1172.705078\"/>\n     <use xlink:href=\"#ArialMT-20\" x=\"1228.320312\"/>\n     <use xlink:href=\"#ArialMT-54\" x=\"1254.353516\"/>\n     <use xlink:href=\"#ArialMT-4f\" x=\"1313.6875\"/>\n     <use xlink:href=\"#ArialMT-54\" x=\"1391.470703\"/>\n     <use xlink:href=\"#ArialMT-41\" x=\"1445.179688\"/>\n     <use xlink:href=\"#ArialMT-4c\" x=\"1511.878906\"/>\n     <use xlink:href=\"#ArialMT-2e\" x=\"1567.494141\"/>\n     <use xlink:href=\"#ArialMT-53\" x=\"1595.277344\"/>\n     <use xlink:href=\"#ArialMT-41\" x=\"1661.976562\"/>\n     <use xlink:href=\"#ArialMT-4c\" x=\"1728.675781\"/>\n     <use xlink:href=\"#ArialMT-45\" x=\"1784.291016\"/>\n     <use xlink:href=\"#ArialMT-53\" x=\"1850.990234\"/>\n    </g>\n   </g>\n  </g>\n </g>\n <defs>\n  <clipPath id=\"pb1567bd6bf\">\n   <rect x=\"311.050313\" y=\"30.37875\" width=\"1674\" height=\"1108.8\"/>\n  </clipPath>\n </defs>\n</svg>\n",
      "text/plain": [
       "<Figure size 3000x2000 with 1 Axes>"
      ]
     },
     "metadata": {},
     "output_type": "display_data"
    }
   ],
   "source": [
    "# Median Severity per NERC Region Group Table\n",
    "outage_agg = outage.groupby('NERC.REGION')[['OUTAGE.DURATION', \n",
    "                                            'DEMAND.LOSS.MW', \n",
    "                                            'CUSTOMERS.AFFECTED']].median()\n",
    "\n",
    "# Average Outage Duration between CLIMATE.REGION and CLIMATE.CATEGORY\n",
    "outage_avg_pivot = outage.pivot_table(index='CLIMATE.REGION', columns = 'CLIMATE.CATEGORY', \n",
    "                                      values = 'OUTAGE.DURATION', aggfunc = 'mean')\n",
    "\n",
    "# Joint Distribution Outage Duration between CLIMATE.REGION and CLIMATE.CATEGORY\n",
    "outage_joint = outage.pivot_table(index='CLIMATE.REGION', columns = 'CLIMATE.CATEGORY', \n",
    "                                  values = 'OUTAGE.DURATION', aggfunc = 'count')\n",
    "\n",
    "correlation_df = correlations_with_sales.to_frame().reset_index()\n",
    "correlation_df.columns = [\"Feature\", \"Correlation with TOTAL.SALES\"]\n",
    "\n",
    "plt.figure(figsize=(30, 20))  # Adjust size for vertical heatmap\n",
    "sns.heatmap(\n",
    "    correlation_df[[\"Correlation with TOTAL.SALES\"]],  # Only show correlations\n",
    "    annot=True,\n",
    "    cmap=\"coolwarm\",\n",
    "    fmt=\".2f\",\n",
    "    cbar=False,\n",
    "    yticklabels=correlation_df[\"Feature\"],  # Display feature names vertically\n",
    ")\n",
    "plt.title(\"Correlation of Features with TOTAL.SALES\")\n",
    "plt.xlabel(\"Correlation with TOTAL.SALES\")  # Label for the x-axis\n",
    "plt.ylabel(\"Features\")  # Label for the y-axis\n",
    "plt.show()\n",
    "\n",
    "features = ['CLIMATE.REGION', 'PC.REALGSP.STATE', 'YEAR', 'MONTH', 'NERC.REGION', \n",
    "            'POPULATION', 'PCT_WATER_INLAND', 'POSTAL.CODE']"
   ]
  },
  {
   "cell_type": "markdown",
   "metadata": {},
   "source": [
    "## Step 3: Assessment of Missingness"
   ]
  },
  {
   "cell_type": "markdown",
   "metadata": {},
   "source": [
    "Pick a column in the dataset with non-trivial missingness to analyze, and perform permutation tests to analyze the dependency of the missingness of this column on other columns.\n",
    "\n",
    "Specifically, find at least one other column that the missingness of your selected column does depend on, and at least one other column that the missingness of your selected column does not depend on.\n",
    "\n",
    "Tip: Make sure you know the difference between the different types of missingness before approaching that section. Many students in the past have lost credit for mistaking one type of missingness for another.\n",
    "\n",
    "Note that some datasets may have special requirements for this section; look at the “Special Considerations” section of your chosen dataset for more details."
   ]
  },
  {
   "cell_type": "code",
   "execution_count": 30,
   "metadata": {},
   "outputs": [],
   "source": [
    "# Month Dist\n",
    "outage_consumption = outage.copy()\n",
    "outage_consumption['TOTAL_SALES_MISSING'] = outage_consumption['TOTAL.SALES'].isna()\n",
    "\n",
    "month_dist = (\n",
    "    outage_consumption\n",
    "    .assign(total_sales_missing=outage['TOTAL.SALES'].isna())\n",
    "    .pivot_table(index='MONTH', columns='total_sales_missing', aggfunc='size')\n",
    ")\n",
    "month_dist.columns = ['total_sales_missing = False', 'total_sales_missing = True']\n",
    "month_dist = month_dist / month_dist.sum()\n",
    "\n",
    "n_repetitions = 1_000\n",
    "shuffled = outage_consumption.copy()\n",
    "\n",
    "tvds = []\n",
    "for _ in range(n_repetitions):\n",
    "    shuffled['MONTH'] = np.random.permutation(shuffled['MONTH'])\n",
    "    pivoted = (\n",
    "        shuffled\n",
    "        .pivot_table(index='MONTH', columns='TOTAL_SALES_MISSING', aggfunc='size')\n",
    "    )\n",
    "    pivoted = pivoted / pivoted.sum()\n",
    "    tvd = pivoted.diff(axis=1).iloc[:, -1].abs().sum() / 2\n",
    "    tvds.append(tvd)\n",
    "\n",
    "observed_tvd = month_dist.diff(axis=1).iloc[:, -1].abs().sum() / 2\n",
    "\n",
    "fig = px.histogram(pd.DataFrame(tvds), x=0, nbins=25, histnorm='probability', \n",
    "                   title='Empirical Distribution of the TVD')\n",
    "fig.add_vline(x=observed_tvd, line_color='red', line_width=5, \n",
    "              annotation_text=f'Observed TVD = {round(observed_tvd, 2)}', \n",
    "              annotation_position='top right')\n",
    "fig.update_layout(margin=dict(t=60))\n",
    "\n",
    "p_value = (np.array(tvds) >= observed_tvd).mean()\n",
    "fig.write_html('tvd-month-sales.html', include_plotlyjs='cdn')\n"
   ]
  },
  {
   "cell_type": "code",
   "execution_count": 31,
   "metadata": {
    "ExecuteTime": {
     "end_time": "2019-10-31T23:36:28.662099Z",
     "start_time": "2019-10-31T23:36:28.660016Z"
    }
   },
   "outputs": [],
   "source": [
    "# NERC Dist\n",
    "outage_consumption = outage.copy()\n",
    "outage_consumption['TOTAL_SALES_MISSING'] = outage_consumption['TOTAL.SALES'].isna()\n",
    "\n",
    "nerc_category_dist = (\n",
    "    outage_consumption\n",
    "    .assign(total_sales_missing=outage['TOTAL.SALES'].isna())\n",
    "    .pivot_table(index='NERC.REGION', columns='total_sales_missing', aggfunc='size')\n",
    ")\n",
    "nerc_category_dist.columns = ['total_sales_missing = False', 'total_sales_missing = True']\n",
    "nerc_category_dist = nerc_category_dist / nerc_category_dist.sum()\n",
    "\n",
    "n_repetitions = 1_000\n",
    "shuffled = outage_consumption.copy()\n",
    "\n",
    "tvds = []\n",
    "for _ in range(n_repetitions):\n",
    "    shuffled['NERC.REGION'] = np.random.permutation(shuffled['NERC.REGION'])\n",
    "    pivoted = (\n",
    "        shuffled\n",
    "        .pivot_table(index='NERC.REGION', columns='TOTAL_SALES_MISSING', aggfunc='size')\n",
    "    )\n",
    "    pivoted = pivoted / pivoted.sum()\n",
    "    tvd = pivoted.diff(axis=1).iloc[:, -1].abs().sum() / 2\n",
    "    tvds.append(tvd)\n",
    "\n",
    "observed_tvd = nerc_category_dist.diff(axis=1).iloc[:, -1].abs().sum() / 2\n",
    "\n",
    "fig = px.histogram(pd.DataFrame(tvds), x=0, nbins=25, histnorm='probability', \n",
    "                   title='Empirical Distribution of the TVD')\n",
    "fig.add_vline(x=observed_tvd, line_color='red', line_width=5, \n",
    "              annotation_text=f'Observed TVD = {round(observed_tvd, 2)}', \n",
    "              annotation_position='top right')\n",
    "fig.update_layout(margin=dict(t=60))\n",
    "\n",
    "p_value = (np.array(tvds) >= observed_tvd).mean()\n",
    "fig.write_html('tvd-nerc-sales.html', include_plotlyjs='cdn')"
   ]
  },
  {
   "cell_type": "markdown",
   "metadata": {},
   "source": [
    "## Step 4: Hypothesis Testing"
   ]
  },
  {
   "cell_type": "markdown",
   "metadata": {
    "ExecuteTime": {
     "end_time": "2019-10-31T23:36:28.666489Z",
     "start_time": "2019-10-31T23:36:28.664381Z"
    }
   },
   "source": [
    "Clearly state a pair of hypotheses and perform a hypothesis test or permutation test that is not related to missingness. Feel free to use one of the example questions stated in the “Example Questions and Prediction Problems” section of your dataset’s description page or pose a hypothesis test of your own.\t\n",
    "\n",
    "**Null Hypothesis (H0)**: There is no significant difference in the distribution of `DEMAND.LOSS.MW` across different levels of `TOTAL.SALES`.\n",
    "\n",
    "**Alternative Hypothesis (H1)**: Higher levels of `TOTAL.SALES` are associated with greater `DEMAND.LOSS.MW`.\n",
    "\n",
    "**Test Statistic**: Difference in group means between `DEMAND.LOSS.MW` of high and low levels of `TOTAL.SALES`.\n",
    "\n",
    "**Significance Level**: Standard 0.05"
   ]
  },
  {
   "cell_type": "code",
   "execution_count": 32,
   "metadata": {
    "scrolled": true
   },
   "outputs": [],
   "source": [
    "hypothesis_outage = outage.copy()\n",
    "\n",
    "median_sales = hypothesis_outage['TOTAL.SALES'].median()\n",
    "hypothesis_outage['SALES_CATEGORY'] = np.where(hypothesis_outage['TOTAL.SALES'] >= \n",
    "                                               median_sales, 'High Sales', 'Low Sales')\n",
    "\n",
    "mean_weights = hypothesis_outage.groupby('SALES_CATEGORY')['DEMAND.LOSS.MW'].mean()\n",
    "observed_difference = mean_weights['High Sales'] - mean_weights['Low Sales']\n",
    "\n",
    "n_repetitions = 10_000\n",
    "differences = []\n",
    "\n",
    "for _ in range(n_repetitions):\n",
    "    with_shuffled = hypothesis_outage.assign(Shuffled_Weights=\n",
    "                                             np.random.permutation(hypothesis_outage['DEMAND.LOSS.MW']))\n",
    "    group_means = with_shuffled.groupby('SALES_CATEGORY')['Shuffled_Weights'].mean()\n",
    "    difference = group_means.loc['High Sales'] - group_means.loc['Low Sales']\n",
    "    differences.append(difference)\n",
    "\n",
    "fig = px.histogram(\n",
    "    pd.DataFrame(differences, columns=['Difference']), x='Difference', histnorm='probability', \n",
    "    title='Empirical Distribution of the Mean Differences in Demand \\\n",
    "    Loss (MW) <br> (High Total Sales - Low Total Sales)', nbins=25)\n",
    "fig.add_vline(x=observed_difference, line_color='red', line_width=5, \n",
    "              annotation_text=f'Observed Difference = {round(observed_difference, 2)}', \n",
    "              annotation_position='top right')\n",
    "fig.update_layout(margin=dict(t=60))\n",
    "\n",
    "p_value = (np.array(differences) >= observed_difference).mean()"
   ]
  },
  {
   "cell_type": "markdown",
   "metadata": {},
   "source": [
    "## Step 5: Framing a Prediction Problem"
   ]
  },
  {
   "cell_type": "markdown",
   "metadata": {},
   "source": [
    "Identify a prediction problem. Feel free to use one of the example prediction problems stated in the “Example Questions and Prediction Problems” section of your dataset’s description page or pose a hypothesis test of your own. The prediction problem you come up with doesn’t have to be related to the question you were answering in Steps 1-4, but ideally, your entire project has some sort of coherent theme.\t"
   ]
  },
  {
   "cell_type": "markdown",
   "metadata": {
    "ExecuteTime": {
     "end_time": "2019-10-31T23:36:28.657068Z",
     "start_time": "2019-10-31T23:36:28.654650Z"
    }
   },
   "source": [
    "Predict the electricity consumption of an area."
   ]
  },
  {
   "cell_type": "markdown",
   "metadata": {},
   "source": [
    "## Step 6: Baseline Model"
   ]
  },
  {
   "cell_type": "markdown",
   "metadata": {},
   "source": [
    "Train a “baseline model” for your prediction task that uses at least two features. (For this requirement, two features means selecting at least two columns from your original dataset that you should transform). You can leave numerical features as-is, but you’ll need to take care of categorical columns using an appropriate encoding. Implement all steps (feature transforms and model training) in a single sklearn Pipeline.\n",
    "\n",
    "Note: Both now and in Step 7: Final Model, make sure to evaluate your model’s ability to generalize to unseen data!\n",
    "\n",
    "There is no “required” performance metric that your baseline model needs to achieve."
   ]
  },
  {
   "cell_type": "markdown",
   "metadata": {},
   "source": [
    "Imputation"
   ]
  },
  {
   "cell_type": "code",
   "execution_count": 33,
   "metadata": {},
   "outputs": [],
   "source": [
    "# MAR columns\n",
    "# Categorical\n",
    "outage['MONTH'] = outage['MONTH'].fillna(7.0)\n",
    "outage['CLIMATE.REGION'] = outage['CLIMATE.REGION'].fillna(outage['CLIMATE.REGION'].mode())\n",
    "outage['CLIMATE.CATEGORY'] = outage['CLIMATE.REGION'].fillna(outage['CLIMATE.REGION'].mode())\n",
    "outage['OUTAGE.START'] = outage['OUTAGE.START'].ffill()\n",
    "outage['OUTAGE.RESTORATION'] = outage['OUTAGE.RESTORATION'].ffill()\n",
    "outage['IS_DARK'] = np.where(outage['OUTAGE.START'].isnull(), np.nan, \n",
    "                             (outage['OUTAGE.START'].dt.time >= sunset) | \n",
    "                             (outage['OUTAGE.START'].dt.time <= sunrise))\n",
    "\n",
    "# Numeric\n",
    "def prob_impute(s):\n",
    "    s = s.copy()\n",
    "    num_null = s.isna().sum()\n",
    "    fill_values = np.random.choice(s.dropna(), num_null)\n",
    "    s[s.isna()] = fill_values\n",
    "    return s\n",
    "\n",
    "\n",
    "numerical = ['RES.PRICE', 'COM.PRICE', 'IND.PRICE', 'TOTAL.PRICE', 'RES.SALES', 'COM.SALES', 'IND.SALES', \n",
    "             'TOTAL.SALES', 'RES.PERCEN', 'COM.PERCEN', 'IND.PERCEN', 'POPDEN_UC', 'POPDEN_RURAL']\n",
    "\n",
    "outage['OUTAGE.DURATION'] = (outage.groupby('CAUSE.CATEGORY')['OUTAGE.DURATION'].transform(prob_impute))\n",
    "for i in numerical:\n",
    "    outage[i] = (outage.groupby('CLIMATE.CATEGORY')[i].transform(prob_impute))\n",
    "\n",
    "\n",
    "# MCAR columns\n",
    "def quantitative_distribution(data):\n",
    "    values = []\n",
    "    bins = []\n",
    "    hist, bin_edges = np.histogram(data.dropna())\n",
    "    hist = hist / len(data.dropna())\n",
    "    for i in range(len(bin_edges) - 1):\n",
    "        bins.append(bin_edges[i:i + 2])\n",
    "    for i in range(len(data) - data.count()):\n",
    "        selected_bin = bins[np.random.choice(len(bins), p=hist)]\n",
    "        values.append(np.random.uniform(selected_bin[0], selected_bin[1]))\n",
    "    return np.array(values)\n",
    "\n",
    "def impute_quantitative_column(column_data):\n",
    "    missing_values = column_data.isnull()\n",
    "    distribution = quantitative_distribution(column_data)\n",
    "    column_data[missing_values] = distribution[:sum(missing_values)]\n",
    "    return column_data\n",
    "\n",
    "outage['ANOMALY.LEVEL'] = impute_quantitative_column(outage['ANOMALY.LEVEL'])\n",
    "outage['DEMAND.LOSS.MW'] = impute_quantitative_column(outage['DEMAND.LOSS.MW'])\n",
    "outage['CUSTOMERS.AFFECTED'] = impute_quantitative_column(outage['CUSTOMERS.AFFECTED'])"
   ]
  },
  {
   "cell_type": "markdown",
   "metadata": {},
   "source": [
    "Baseline Model"
   ]
  },
  {
   "cell_type": "code",
   "execution_count": 34,
   "metadata": {},
   "outputs": [],
   "source": [
    "features = ['CLIMATE.REGION', 'PC.REALGSP.STATE', 'YEAR', 'MONTH', 'NERC.REGION', \n",
    "            'POPULATION', 'PCT_WATER_INLAND', 'POSTAL.CODE']\n",
    "target = 'TOTAL.SALES'\n",
    "X = outage[features]\n",
    "y = outage[target]\n",
    "X_train, X_test, y_train, y_test = train_test_split(X, y, test_size=0.2, random_state=42)\n",
    "preprocessor = ColumnTransformer(\n",
    "    transformers=[\n",
    "        ('num', StandardScaler(), ['POPULATION', 'PCT_WATER_INLAND', 'PC.REALGSP.STATE']),\n",
    "        ('cat', OneHotEncoder(), ['CLIMATE.REGION', 'POSTAL.CODE', 'NERC.REGION'])\n",
    "    ])\n",
    "pipeline = Pipeline(steps=[\n",
    "    ('preprocessor', preprocessor),\n",
    "    ('regressor', LinearRegression())\n",
    "])\n",
    "pipeline.fit(X_train, y_train)\n",
    "y_pred = pipeline.predict(X_test)\n",
    "mae = mean_absolute_error(y_test, y_pred)\n",
    "r2 = r2_score(y_test, y_pred)"
   ]
  },
  {
   "cell_type": "markdown",
   "metadata": {},
   "source": [
    "## Step 7: Final Model"
   ]
  },
  {
   "cell_type": "markdown",
   "metadata": {},
   "source": [
    "Create a “final” model that improves upon the “baseline” model you created in Step 2. Do so by engineering at least two new features from the data, on top of any categorical encodings you performed in Baseline Model Step. (For instance, you may use a StandardScaler on a quantitative column and a QuantileTransformer transformer on a different column to get two new features.) Again, implement all steps in a single sklearn Pipeline. While deciding what features to use, you must perform a search for the best hyperparameters (e.g. tree depth) to use amongst a list(s) of options, either by using GridSearchCV or through some manual iterative method. In your notebook, state which hyperparameters you plan to tune and why before actually tuning them.\n",
    "\n",
    "Optional: You are encouraged to try many different modeling algorithms for your final model (i.e. LinearRegression, RandomForestClassifier, Lasso, SVC, etc.) If you do this, make sure to clearly indicate in your notebook which model is your actual final model as that will be used to grade the above requirements.\n",
    "\n",
    "Note 1: When training your model, make sure you use the same unseen and seen datasets from your baseline model. This way, the evaluation metric you get on your final model can be compared to your baseline’s on the basis of the model itself and not the dataset it was trained on. Based on which method you use for hyperparameter tuning, this may mean that you will need to use some of your training data as your validation data. If this is the case, make sure to train your final model on the whole dataset prior to evaluation.\n",
    "\n",
    "Note 2: You will not be graded on “how much” your model improved from Step 6: Baseline Model to Step 7: Final Model. What you will be graded on is on whether or not your model improved, as well as your thoughtfulness and effort in creating features, along with the other points above.\n",
    "\n",
    "Note 3: Don’t try to improve your model’s performance just by blindly transforming existing features into new ones. Think critically about what each transformation you’re doing actually does. For example, there’s no use in using a StandardScaler transformer if your goal is to reduce the RMSE of a linear model: as we learned in DSC 40A, and in Lecture 15, standardizing features in a regression model does not change the model’s predictions, only its coefficients!"
   ]
  },
  {
   "cell_type": "code",
   "execution_count": 39,
   "metadata": {},
   "outputs": [
    {
     "name": "stdout",
     "output_type": "stream",
     "text": [
      "Fitting 5 folds for each of 6 candidates, totalling 30 fits\n"
     ]
    },
    {
     "data": {
      "text/plain": [
       "0.993930023056006"
      ]
     },
     "execution_count": 39,
     "metadata": {},
     "output_type": "execute_result"
    }
   ],
   "source": [
    "outage['POP.DENSITY.URBAN'] = outage['POPULATION'] / outage['AREAPCT_URBAN']\n",
    "outage['AVG.MONTHLY.PRICE'] = outage[['RES.PRICE', 'COM.PRICE', 'IND.PRICE']].mean(axis=1)\n",
    "\n",
    "features = ['CLIMATE.REGION', 'PC.REALGSP.STATE', 'YEAR', 'MONTH', 'NERC.REGION', \n",
    "            'POPULATION', 'PCT_WATER_INLAND', 'POSTAL.CODE', 'POP.DENSITY.URBAN', \n",
    "            'AVG.MONTHLY.PRICE']\n",
    "target = 'TOTAL.SALES'\n",
    "X = outage[features]\n",
    "y = outage[target]\n",
    "X_train, X_test, y_train, y_test = train_test_split(X, y, test_size=0.2, random_state=42)\n",
    "preprocessor = ColumnTransformer(\n",
    "    transformers=[\n",
    "        ('num', StandardScaler(), ['POPULATION', 'PCT_WATER_INLAND', 'PC.REALGSP.STATE', \n",
    "                                   'POP.DENSITY.URBAN', 'AVG.MONTHLY.PRICE']),\n",
    "        ('cat', OneHotEncoder(handle_unknown='ignore'), ['CLIMATE.REGION', 'POSTAL.CODE', 'NERC.REGION'])\n",
    "    ], remainder='passthrough')\n",
    "model = RandomForestRegressor()\n",
    "pipeline = Pipeline(steps=[('preprocessor', preprocessor),\n",
    "                           ('model', model)])\n",
    "params = {\n",
    "    'model__n_estimators': [100, 200],\n",
    "    'model__max_depth': [10, 20, None]\n",
    "}\n",
    "grid_search = GridSearchCV(pipeline, params, cv=5, scoring='r2', n_jobs=-1, verbose=10, \n",
    "                           error_score='raise')\n",
    "grid_search.fit(X_train, y_train)\n",
    "best_model = grid_search.best_estimator_\n",
    "best_model.fit(X, y)\n",
    "\n",
    "y_pred = best_model.predict(X_test)\n",
    "mae = mean_absolute_error(y_test, y_pred)\n",
    "r2 = r2_score(y_test, y_pred)\n",
    "r2"
   ]
  },
  {
   "cell_type": "markdown",
   "metadata": {},
   "source": [
    "## Step 8: Fairness Analysis"
   ]
  },
  {
   "cell_type": "markdown",
   "metadata": {},
   "source": [
    "Perform a “fairness analysis” of your Final Model from the previous step. That is, try and answer the question “does my model perform worse for individuals in Group X than it does for individuals in Group Y?”, for an interesting choice of X and Y.\n",
    "\n",
    "As always, when comparing some quantitative attribute (in this case, something like precision or RMSE) across two groups, we use a permutation test. Let’s illustrate how this works with an example. Let’s suppose we have a sample voter dataset with columns 'Name', 'Age', and 'Voted', among others. We build a classifier that predicts whether someone voted (1) or didn’t (0).\n",
    "\n",
    "Here, we’ll say our two groups are\n",
    "- “young people”, people younger than 40\n",
    "- “old people”, people older than 40\n",
    "\n",
    "Note that in this example, we manually created these groups by binarizing the 'Age' column in our dataset, and that’s fine. (Remember, the Binarizer transformer with a threshold of 40 can do this for us.)\n",
    "\n",
    "For our evaluation metric, we’ll choose precision. (In Week 10’s lectures, we’ll look at other evaluation metrics and related parity measures for classifiers; choose the one that is most appropriate to your prediction task. If you built a regression model, you cannot use classification metrics like precision or recall; instead, you must use RMSE or \n",
    "R^2.)\n",
    "\n",
    "Now, we must perform a permutation test. Before doing so, we must clearly state a null and an alternative hypothesis.\n",
    "- Null Hypothesis: Our model is fair. Its precision for young people and old people are roughly the same, and any differences are due to random chance.\n",
    "- Alternative Hypothesis: Our model is unfair. Its precision for young people is lower than its precision for old people.\n",
    "\n",
    "From here, you should be able to implement the necessary permutation test. The only other guidance we will provide you with is that you should not be modifying your model to produce different results when computing test statistics; use only your final fitted model from Final Model Step."
   ]
  },
  {
   "cell_type": "code",
   "execution_count": null,
   "metadata": {},
   "outputs": [],
   "source": []
  }
 ],
 "metadata": {
  "kernelspec": {
   "display_name": "dsc80",
   "language": "python",
   "name": "python3"
  },
  "language_info": {
   "codemirror_mode": {
    "name": "ipython",
    "version": 3
   },
   "file_extension": ".py",
   "mimetype": "text/x-python",
   "name": "python",
   "nbconvert_exporter": "python",
   "pygments_lexer": "ipython3",
   "version": "3.8.19 | packaged by conda-forge | (default, Mar 20 2024, 12:49:57) \n[Clang 16.0.6 ]"
  },
  "vscode": {
   "interpreter": {
    "hash": "b12909ae3d420039fe0d665486d7a3bae20c5f4e9ed25a1740938c9f4691a450"
   }
  }
 },
 "nbformat": 4,
 "nbformat_minor": 4
}
